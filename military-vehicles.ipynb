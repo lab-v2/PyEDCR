{
 "cells": [
  {
   "cell_type": "code",
   "execution_count": 1,
   "id": "initial_id",
   "metadata": {
    "ExecuteTime": {
     "end_time": "2023-08-30T23:12:31.081408Z",
     "start_time": "2023-08-30T23:12:30.481888Z"
    }
   },
   "outputs": [],
   "source": [
    "import pandas as pd\n",
    "import numpy as np\n",
    "from typing import Sequence, Callable\n",
    "from sklearn.metrics import accuracy_score, precision_score, f1_score, recall_score"
   ]
  },
  {
   "cell_type": "markdown",
   "id": "16b1f5b854d20dea",
   "metadata": {},
   "source": [
    "# Data loading"
   ]
  },
  {
   "cell_type": "code",
   "execution_count": 3,
   "id": "816799c60e8597ba",
   "metadata": {
    "ExecuteTime": {
     "end_time": "2023-08-30T23:13:12.778243Z",
     "start_time": "2023-08-30T23:13:11.294916Z"
    }
   },
   "outputs": [
    {
     "data": {
      "text/plain": "dict_keys(['Training', 'Coarse-Grain Results', 'Fine-Grain Results', 'Vehicle Info', 'Inconsistent Samples', 'Consistent Samples', 'Metadata', 'Metadata 616 distribution', 'Course-Grain Only Metrics', 'Course-Grain Only Test', '1s_0s_Sheet', 'Testing', 'Consistent_and_Inconsistent_Met', 'Metadata 616'])"
     },
     "execution_count": 3,
     "metadata": {},
     "output_type": "execute_result"
    }
   ],
   "source": [
    "data_file_path = rf'data/WEO_Data_Sheet.xlsx'\n",
    "dataframes_by_sheet = pd.read_excel(data_file_path, sheet_name=None)\n",
    "dataframes_by_sheet.keys()"
   ]
  },
  {
   "cell_type": "code",
   "execution_count": 4,
   "outputs": [
    {
     "data": {
      "text/plain": "(814, 11)"
     },
     "execution_count": 4,
     "metadata": {},
     "output_type": "execute_result"
    }
   ],
   "source": [
    "training_df = dataframes_by_sheet['Training']\n",
    "training_df.shape"
   ],
   "metadata": {
    "collapsed": false,
    "ExecuteTime": {
     "end_time": "2023-08-30T23:13:13.284849Z",
     "start_time": "2023-08-30T23:13:13.280263Z"
    }
   },
   "id": "fb9944eab35d85a3"
  },
  {
   "cell_type": "code",
   "execution_count": 5,
   "outputs": [
    {
     "data": {
      "text/plain": "                                          Image Name  \\\n0  2S19_MSTA_Self-Propelled_Artillery_(SPA)_Vehic...   \n1  2S19_Msta-S_152mm_tracked_self-propelled_howit...   \n2  2S19_Msta-S_152mm_tracked_self-propelled_howit...   \n3  2S19_Msta-S_152mm_tracked_self-propelled_howit...   \n4  2S19_Msta-S_152mm_tracked_self-propelled_howit...   \n\n  Course-Grain Ground Truth Fine-Grain Ground Truth Image Size (KB)  Pixels  \\\n0  Self Propelled Artillery               2S19_MSTA        8.791992   43000   \n1  Self Propelled Artillery               2S19_MSTA       63.426758  267600   \n2  Self Propelled Artillery               2S19_MSTA       68.384766  270000   \n3  Self Propelled Artillery               2S19_MSTA       68.874023  270000   \n4  Self Propelled Artillery               2S19_MSTA        51.21582  270000   \n\n  Color (RGB)  Height (Pixels)  Width (Pixels)  Source  Unnamed: 9  \\\n0           1            172.0           250.0     2.0         NaN   \n1           1            446.0           600.0     2.0         NaN   \n2           1            450.0           600.0     2.0         NaN   \n3           1            450.0           600.0     2.0         NaN   \n4           1            450.0           600.0     2.0         NaN   \n\n                                         Unnamed: 10  \n0  2 indicates the source belongs to the website:...  \n1  1 indicates the source belongs to Roboflow web...  \n2  0 indicates that the source belongs to another...  \n3                                                NaN  \n4                                                NaN  ",
      "text/html": "<div>\n<style scoped>\n    .dataframe tbody tr th:only-of-type {\n        vertical-align: middle;\n    }\n\n    .dataframe tbody tr th {\n        vertical-align: top;\n    }\n\n    .dataframe thead th {\n        text-align: right;\n    }\n</style>\n<table border=\"1\" class=\"dataframe\">\n  <thead>\n    <tr style=\"text-align: right;\">\n      <th></th>\n      <th>Image Name</th>\n      <th>Course-Grain Ground Truth</th>\n      <th>Fine-Grain Ground Truth</th>\n      <th>Image Size (KB)</th>\n      <th>Pixels</th>\n      <th>Color (RGB)</th>\n      <th>Height (Pixels)</th>\n      <th>Width (Pixels)</th>\n      <th>Source</th>\n      <th>Unnamed: 9</th>\n      <th>Unnamed: 10</th>\n    </tr>\n  </thead>\n  <tbody>\n    <tr>\n      <th>0</th>\n      <td>2S19_MSTA_Self-Propelled_Artillery_(SPA)_Vehic...</td>\n      <td>Self Propelled Artillery</td>\n      <td>2S19_MSTA</td>\n      <td>8.791992</td>\n      <td>43000</td>\n      <td>1</td>\n      <td>172.0</td>\n      <td>250.0</td>\n      <td>2.0</td>\n      <td>NaN</td>\n      <td>2 indicates the source belongs to the website:...</td>\n    </tr>\n    <tr>\n      <th>1</th>\n      <td>2S19_Msta-S_152mm_tracked_self-propelled_howit...</td>\n      <td>Self Propelled Artillery</td>\n      <td>2S19_MSTA</td>\n      <td>63.426758</td>\n      <td>267600</td>\n      <td>1</td>\n      <td>446.0</td>\n      <td>600.0</td>\n      <td>2.0</td>\n      <td>NaN</td>\n      <td>1 indicates the source belongs to Roboflow web...</td>\n    </tr>\n    <tr>\n      <th>2</th>\n      <td>2S19_Msta-S_152mm_tracked_self-propelled_howit...</td>\n      <td>Self Propelled Artillery</td>\n      <td>2S19_MSTA</td>\n      <td>68.384766</td>\n      <td>270000</td>\n      <td>1</td>\n      <td>450.0</td>\n      <td>600.0</td>\n      <td>2.0</td>\n      <td>NaN</td>\n      <td>0 indicates that the source belongs to another...</td>\n    </tr>\n    <tr>\n      <th>3</th>\n      <td>2S19_Msta-S_152mm_tracked_self-propelled_howit...</td>\n      <td>Self Propelled Artillery</td>\n      <td>2S19_MSTA</td>\n      <td>68.874023</td>\n      <td>270000</td>\n      <td>1</td>\n      <td>450.0</td>\n      <td>600.0</td>\n      <td>2.0</td>\n      <td>NaN</td>\n      <td>NaN</td>\n    </tr>\n    <tr>\n      <th>4</th>\n      <td>2S19_Msta-S_152mm_tracked_self-propelled_howit...</td>\n      <td>Self Propelled Artillery</td>\n      <td>2S19_MSTA</td>\n      <td>51.21582</td>\n      <td>270000</td>\n      <td>1</td>\n      <td>450.0</td>\n      <td>600.0</td>\n      <td>2.0</td>\n      <td>NaN</td>\n      <td>NaN</td>\n    </tr>\n  </tbody>\n</table>\n</div>"
     },
     "execution_count": 5,
     "metadata": {},
     "output_type": "execute_result"
    }
   ],
   "source": [
    "training_df.head()"
   ],
   "metadata": {
    "collapsed": false,
    "ExecuteTime": {
     "end_time": "2023-08-30T23:13:14.995279Z",
     "start_time": "2023-08-30T23:13:14.988005Z"
    }
   },
   "id": "fb8db9e314d1db71"
  },
  {
   "cell_type": "code",
   "execution_count": 6,
   "id": "8e674392b40ad93a",
   "metadata": {
    "ExecuteTime": {
     "end_time": "2023-08-30T23:13:20.383081Z",
     "start_time": "2023-08-30T23:13:20.375783Z"
    }
   },
   "outputs": [
    {
     "data": {
      "text/plain": "Index(['Class Name', 'Precision', 'Recall', 'F1', 'Train Count', 'Test Count',\n       'Total Count', 'True Positives', 'False Positives', 'True Negatives',\n       'False Negatives', 'Number of Predictions'],\n      dtype='object')"
     },
     "execution_count": 6,
     "metadata": {},
     "output_type": "execute_result"
    }
   ],
   "source": [
    "fine_grain_results_df = dataframes_by_sheet['Fine-Grain Results']\n",
    "fine_grain_results_df.columns"
   ]
  },
  {
   "cell_type": "code",
   "execution_count": 7,
   "outputs": [
    {
     "data": {
      "text/plain": "array(['2S19_MSTA', '30N6E', 'BM-30', 'BMD', 'BMP-1', 'BMP-2', 'BMP-T15',\n       'BRDM', 'BTR-60', 'BTR-70', 'BTR-80', 'D-30', 'Iskander', 'MT_LB',\n       'Pantsir-S1', 'Rs-24', 'T-14', 'T-62', 'T-64', 'T-72', 'T-80',\n       'T-90', 'Tornado', 'TOS-1'], dtype=object)"
     },
     "execution_count": 7,
     "metadata": {},
     "output_type": "execute_result"
    }
   ],
   "source": [
    "fine_grain_classes = fine_grain_results_df['Class Name'].values\n",
    "fine_grain_classes"
   ],
   "metadata": {
    "collapsed": false,
    "ExecuteTime": {
     "end_time": "2023-08-30T23:13:22.022039Z",
     "start_time": "2023-08-30T23:13:22.018242Z"
    }
   },
   "id": "bd75739e8738e97e"
  },
  {
   "cell_type": "code",
   "execution_count": 8,
   "outputs": [
    {
     "data": {
      "text/plain": "Index(['Class Name', 'Precision', 'Recall', 'F1', 'Train Count', 'Test Count',\n       'Total Count', 'True Positives', 'False Positives', 'True Negatives',\n       'False Negatives'],\n      dtype='object')"
     },
     "execution_count": 8,
     "metadata": {},
     "output_type": "execute_result"
    }
   ],
   "source": [
    "coarse_grain_results_df = dataframes_by_sheet['Coarse-Grain Results']\n",
    "coarse_grain_results_df.columns"
   ],
   "metadata": {
    "collapsed": false,
    "ExecuteTime": {
     "end_time": "2023-08-30T23:13:23.967321Z",
     "start_time": "2023-08-30T23:13:23.960167Z"
    }
   },
   "id": "28c27882e94ff83f"
  },
  {
   "cell_type": "code",
   "execution_count": 9,
   "outputs": [
    {
     "data": {
      "text/plain": "                 Class Name  Precision    Recall        F1  Train Count  \\\n0                      Tank   0.835821  0.918033  0.875000          232   \n1                       BMP   0.927273  0.879310  0.902655          160   \n2                       BTR   0.800000  0.823529  0.811594          121   \n3  Self Propelled Artillery   1.000000  0.692308  0.818182           77   \n4               Air Defense   0.823529  1.000000  0.903226           54   \n\n   Test Count  Total Count  True Positives  False Positives  True Negatives  \\\n0          61          293              56               11             164   \n1          58          218              51                4             174   \n2          34          155              28                7             195   \n3          26          103              18                0             210   \n4          14           68              14                3             219   \n\n   False Negatives  \n0                5  \n1                7  \n2                6  \n3                8  \n4                0  ",
      "text/html": "<div>\n<style scoped>\n    .dataframe tbody tr th:only-of-type {\n        vertical-align: middle;\n    }\n\n    .dataframe tbody tr th {\n        vertical-align: top;\n    }\n\n    .dataframe thead th {\n        text-align: right;\n    }\n</style>\n<table border=\"1\" class=\"dataframe\">\n  <thead>\n    <tr style=\"text-align: right;\">\n      <th></th>\n      <th>Class Name</th>\n      <th>Precision</th>\n      <th>Recall</th>\n      <th>F1</th>\n      <th>Train Count</th>\n      <th>Test Count</th>\n      <th>Total Count</th>\n      <th>True Positives</th>\n      <th>False Positives</th>\n      <th>True Negatives</th>\n      <th>False Negatives</th>\n    </tr>\n  </thead>\n  <tbody>\n    <tr>\n      <th>0</th>\n      <td>Tank</td>\n      <td>0.835821</td>\n      <td>0.918033</td>\n      <td>0.875000</td>\n      <td>232</td>\n      <td>61</td>\n      <td>293</td>\n      <td>56</td>\n      <td>11</td>\n      <td>164</td>\n      <td>5</td>\n    </tr>\n    <tr>\n      <th>1</th>\n      <td>BMP</td>\n      <td>0.927273</td>\n      <td>0.879310</td>\n      <td>0.902655</td>\n      <td>160</td>\n      <td>58</td>\n      <td>218</td>\n      <td>51</td>\n      <td>4</td>\n      <td>174</td>\n      <td>7</td>\n    </tr>\n    <tr>\n      <th>2</th>\n      <td>BTR</td>\n      <td>0.800000</td>\n      <td>0.823529</td>\n      <td>0.811594</td>\n      <td>121</td>\n      <td>34</td>\n      <td>155</td>\n      <td>28</td>\n      <td>7</td>\n      <td>195</td>\n      <td>6</td>\n    </tr>\n    <tr>\n      <th>3</th>\n      <td>Self Propelled Artillery</td>\n      <td>1.000000</td>\n      <td>0.692308</td>\n      <td>0.818182</td>\n      <td>77</td>\n      <td>26</td>\n      <td>103</td>\n      <td>18</td>\n      <td>0</td>\n      <td>210</td>\n      <td>8</td>\n    </tr>\n    <tr>\n      <th>4</th>\n      <td>Air Defense</td>\n      <td>0.823529</td>\n      <td>1.000000</td>\n      <td>0.903226</td>\n      <td>54</td>\n      <td>14</td>\n      <td>68</td>\n      <td>14</td>\n      <td>3</td>\n      <td>219</td>\n      <td>0</td>\n    </tr>\n  </tbody>\n</table>\n</div>"
     },
     "execution_count": 9,
     "metadata": {},
     "output_type": "execute_result"
    }
   ],
   "source": [
    "coarse_grain_results_df.head()"
   ],
   "metadata": {
    "collapsed": false,
    "ExecuteTime": {
     "end_time": "2023-08-30T23:13:24.411235Z",
     "start_time": "2023-08-30T23:13:24.400177Z"
    }
   },
   "id": "f250e249e366f6"
  },
  {
   "cell_type": "code",
   "execution_count": 10,
   "outputs": [
    {
     "data": {
      "text/plain": "array(['Tank', 'BMP', 'BTR', 'Self Propelled Artillery', 'Air Defense',\n       'MT_LB', 'BMD'], dtype=object)"
     },
     "execution_count": 10,
     "metadata": {},
     "output_type": "execute_result"
    }
   ],
   "source": [
    "coarse_grain_classes = coarse_grain_results_df['Class Name'].values\n",
    "coarse_grain_classes"
   ],
   "metadata": {
    "collapsed": false,
    "ExecuteTime": {
     "end_time": "2023-08-30T23:13:25.355570Z",
     "start_time": "2023-08-30T23:13:25.349933Z"
    }
   },
   "id": "f047a9a876901643"
  },
  {
   "cell_type": "code",
   "execution_count": 11,
   "outputs": [
    {
     "data": {
      "text/plain": "                 Tank       BMP       BTR  Self Propelled Artillery  \\\nClass Name       Tank       BMP       BTR  Self Propelled Artillery   \nPrecision    0.835821  0.927273       0.8                       1.0   \nRecall       0.918033   0.87931  0.823529                  0.692308   \nF1              0.875  0.902655  0.811594                  0.818182   \nTrain Count       232       160       121                        77   \n\n             Air Defense     MT_LB       BMD  \nClass Name   Air Defense     MT_LB       BMD  \nPrecision       0.823529  0.833333       1.0  \nRecall               1.0  0.952381  0.909091  \nF1              0.903226  0.888889  0.952381  \nTrain Count           54        78        88  ",
      "text/html": "<div>\n<style scoped>\n    .dataframe tbody tr th:only-of-type {\n        vertical-align: middle;\n    }\n\n    .dataframe tbody tr th {\n        vertical-align: top;\n    }\n\n    .dataframe thead th {\n        text-align: right;\n    }\n</style>\n<table border=\"1\" class=\"dataframe\">\n  <thead>\n    <tr style=\"text-align: right;\">\n      <th></th>\n      <th>Tank</th>\n      <th>BMP</th>\n      <th>BTR</th>\n      <th>Self Propelled Artillery</th>\n      <th>Air Defense</th>\n      <th>MT_LB</th>\n      <th>BMD</th>\n    </tr>\n  </thead>\n  <tbody>\n    <tr>\n      <th>Class Name</th>\n      <td>Tank</td>\n      <td>BMP</td>\n      <td>BTR</td>\n      <td>Self Propelled Artillery</td>\n      <td>Air Defense</td>\n      <td>MT_LB</td>\n      <td>BMD</td>\n    </tr>\n    <tr>\n      <th>Precision</th>\n      <td>0.835821</td>\n      <td>0.927273</td>\n      <td>0.8</td>\n      <td>1.0</td>\n      <td>0.823529</td>\n      <td>0.833333</td>\n      <td>1.0</td>\n    </tr>\n    <tr>\n      <th>Recall</th>\n      <td>0.918033</td>\n      <td>0.87931</td>\n      <td>0.823529</td>\n      <td>0.692308</td>\n      <td>1.0</td>\n      <td>0.952381</td>\n      <td>0.909091</td>\n    </tr>\n    <tr>\n      <th>F1</th>\n      <td>0.875</td>\n      <td>0.902655</td>\n      <td>0.811594</td>\n      <td>0.818182</td>\n      <td>0.903226</td>\n      <td>0.888889</td>\n      <td>0.952381</td>\n    </tr>\n    <tr>\n      <th>Train Count</th>\n      <td>232</td>\n      <td>160</td>\n      <td>121</td>\n      <td>77</td>\n      <td>54</td>\n      <td>78</td>\n      <td>88</td>\n    </tr>\n  </tbody>\n</table>\n</div>"
     },
     "execution_count": 11,
     "metadata": {},
     "output_type": "execute_result"
    }
   ],
   "source": [
    "coarse_grain_results_df = coarse_grain_results_df.T\n",
    "coarse_grain_results_df.columns = coarse_grain_classes\n",
    "coarse_grain_results_df.head()"
   ],
   "metadata": {
    "collapsed": false,
    "ExecuteTime": {
     "end_time": "2023-08-30T23:13:26.056141Z",
     "start_time": "2023-08-30T23:13:26.051076Z"
    }
   },
   "id": "2f5df54e3dbcc6a"
  },
  {
   "cell_type": "code",
   "execution_count": 15,
   "outputs": [
    {
     "data": {
      "text/plain": "(236, 87)"
     },
     "execution_count": 15,
     "metadata": {},
     "output_type": "execute_result"
    }
   ],
   "source": [
    "zeros_and_ones_df = dataframes_by_sheet['1s_0s_Sheet']\n",
    "zeros_and_ones_df.shape"
   ],
   "metadata": {
    "collapsed": false,
    "ExecuteTime": {
     "end_time": "2023-08-30T23:20:15.387123Z",
     "start_time": "2023-08-30T23:20:15.382568Z"
    }
   },
   "id": "48176f5aa412f85b"
  },
  {
   "cell_type": "code",
   "execution_count": 16,
   "outputs": [
    {
     "data": {
      "text/plain": "                                        Image Name  \\\n0    1_jpg.rf.d710cedbb6b7f1d25a76c767ab8a1fb7.jpg   \n1  100_jpg.rf.9ee6019a5bd2cab9a780a55d6fc9ea40.jpg   \n2  100_jpg.rf.cb3c97fd3e76109ff3b1619cb8e54174.jpg   \n3  100_jpg.rf.de78d02fa5c4a80a2441027ed3e93710.jpg   \n4   11_png.rf.453d730f6167d639e5ec2bb9f5b2c0e9.jpg   \n\n   source(armyrecognition.com)  source(roboflow)  source(other)  Air Defence  \\\n0                            0                 1              0            0   \n1                            0                 1              0            0   \n2                            0                 1              0            0   \n3                            0                 1              0            0   \n4                            0                 1              0            0   \n\n   BMD  BMP  BTR  MT_LB  SPA  ...  pred_Pantsir-S1  pred_Rs-24  pred_T-14  \\\n0    0    1    0      0    0  ...                0           0          0   \n1    0    0    0      0    0  ...                0           0          0   \n2    1    0    0      0    0  ...                0           0          0   \n3    0    0    0      1    0  ...                0           0          1   \n4    0    1    0      0    0  ...                0           0          0   \n\n   pred_T-62  pred_T-64  pred_T-72  pred_T-80  pred_T-90  pred_Tornado  \\\n0          0          0          0          0          0             0   \n1          0          1          0          0          0             0   \n2          0          0          0          0          0             0   \n3          0          0          0          0          0             0   \n4          0          0          0          0          0             0   \n\n   pred_TOS-1  \n0           0  \n1           0  \n2           0  \n3           0  \n4           0  \n\n[5 rows x 87 columns]",
      "text/html": "<div>\n<style scoped>\n    .dataframe tbody tr th:only-of-type {\n        vertical-align: middle;\n    }\n\n    .dataframe tbody tr th {\n        vertical-align: top;\n    }\n\n    .dataframe thead th {\n        text-align: right;\n    }\n</style>\n<table border=\"1\" class=\"dataframe\">\n  <thead>\n    <tr style=\"text-align: right;\">\n      <th></th>\n      <th>Image Name</th>\n      <th>source(armyrecognition.com)</th>\n      <th>source(roboflow)</th>\n      <th>source(other)</th>\n      <th>Air Defence</th>\n      <th>BMD</th>\n      <th>BMP</th>\n      <th>BTR</th>\n      <th>MT_LB</th>\n      <th>SPA</th>\n      <th>...</th>\n      <th>pred_Pantsir-S1</th>\n      <th>pred_Rs-24</th>\n      <th>pred_T-14</th>\n      <th>pred_T-62</th>\n      <th>pred_T-64</th>\n      <th>pred_T-72</th>\n      <th>pred_T-80</th>\n      <th>pred_T-90</th>\n      <th>pred_Tornado</th>\n      <th>pred_TOS-1</th>\n    </tr>\n  </thead>\n  <tbody>\n    <tr>\n      <th>0</th>\n      <td>1_jpg.rf.d710cedbb6b7f1d25a76c767ab8a1fb7.jpg</td>\n      <td>0</td>\n      <td>1</td>\n      <td>0</td>\n      <td>0</td>\n      <td>0</td>\n      <td>1</td>\n      <td>0</td>\n      <td>0</td>\n      <td>0</td>\n      <td>...</td>\n      <td>0</td>\n      <td>0</td>\n      <td>0</td>\n      <td>0</td>\n      <td>0</td>\n      <td>0</td>\n      <td>0</td>\n      <td>0</td>\n      <td>0</td>\n      <td>0</td>\n    </tr>\n    <tr>\n      <th>1</th>\n      <td>100_jpg.rf.9ee6019a5bd2cab9a780a55d6fc9ea40.jpg</td>\n      <td>0</td>\n      <td>1</td>\n      <td>0</td>\n      <td>0</td>\n      <td>0</td>\n      <td>0</td>\n      <td>0</td>\n      <td>0</td>\n      <td>0</td>\n      <td>...</td>\n      <td>0</td>\n      <td>0</td>\n      <td>0</td>\n      <td>0</td>\n      <td>1</td>\n      <td>0</td>\n      <td>0</td>\n      <td>0</td>\n      <td>0</td>\n      <td>0</td>\n    </tr>\n    <tr>\n      <th>2</th>\n      <td>100_jpg.rf.cb3c97fd3e76109ff3b1619cb8e54174.jpg</td>\n      <td>0</td>\n      <td>1</td>\n      <td>0</td>\n      <td>0</td>\n      <td>1</td>\n      <td>0</td>\n      <td>0</td>\n      <td>0</td>\n      <td>0</td>\n      <td>...</td>\n      <td>0</td>\n      <td>0</td>\n      <td>0</td>\n      <td>0</td>\n      <td>0</td>\n      <td>0</td>\n      <td>0</td>\n      <td>0</td>\n      <td>0</td>\n      <td>0</td>\n    </tr>\n    <tr>\n      <th>3</th>\n      <td>100_jpg.rf.de78d02fa5c4a80a2441027ed3e93710.jpg</td>\n      <td>0</td>\n      <td>1</td>\n      <td>0</td>\n      <td>0</td>\n      <td>0</td>\n      <td>0</td>\n      <td>0</td>\n      <td>1</td>\n      <td>0</td>\n      <td>...</td>\n      <td>0</td>\n      <td>0</td>\n      <td>1</td>\n      <td>0</td>\n      <td>0</td>\n      <td>0</td>\n      <td>0</td>\n      <td>0</td>\n      <td>0</td>\n      <td>0</td>\n    </tr>\n    <tr>\n      <th>4</th>\n      <td>11_png.rf.453d730f6167d639e5ec2bb9f5b2c0e9.jpg</td>\n      <td>0</td>\n      <td>1</td>\n      <td>0</td>\n      <td>0</td>\n      <td>0</td>\n      <td>1</td>\n      <td>0</td>\n      <td>0</td>\n      <td>0</td>\n      <td>...</td>\n      <td>0</td>\n      <td>0</td>\n      <td>0</td>\n      <td>0</td>\n      <td>0</td>\n      <td>0</td>\n      <td>0</td>\n      <td>0</td>\n      <td>0</td>\n      <td>0</td>\n    </tr>\n  </tbody>\n</table>\n<p>5 rows × 87 columns</p>\n</div>"
     },
     "execution_count": 16,
     "metadata": {},
     "output_type": "execute_result"
    }
   ],
   "source": [
    "zeros_and_ones_df.head()"
   ],
   "metadata": {
    "collapsed": false,
    "ExecuteTime": {
     "end_time": "2023-08-30T23:20:17.073365Z",
     "start_time": "2023-08-30T23:20:17.066308Z"
    }
   },
   "id": "7021686ca496263c"
  },
  {
   "cell_type": "code",
   "execution_count": 13,
   "outputs": [
    {
     "data": {
      "text/plain": "Index(['Image Name', 'source(armyrecognition.com)', 'source(roboflow)',\n       'source(other)', 'Air Defence', 'BMD', 'BMP', 'BTR', 'MT_LB', 'SPA',\n       'Tank', '30N6E', 'Iskander', 'Pantsir-S1', 'Rs-24', 'BMP-1', 'BMP-2',\n       'BMP-T15', 'BRDM', 'BTR-60', 'BTR-70', 'BTR-80', '2S19_MSTA', 'BM-30',\n       'D-30', 'Tornado', 'TOS-1', 'T-14', 'T-62', 'T-64', 'T-72', 'T-80',\n       'T-90', 'Exp 1 Prediction (Tank)', 'Exp 1 Prediction (BMP)',\n       'Exp 1 Prediction (BTR)', 'Exp 1 Prediction (SPA)',\n       'Exp 1 Prediction (Air Defense)', 'Exp 1 Prediction (MT_LB)',\n       'Exp 1 Prediction (BMD)', 'Exp 2 Prediction (Tank)',\n       'Exp 2 Prediction (BMP)', 'Exp 2 Prediction (BTR)',\n       'Exp 2 Prediction (SPA)', 'Exp 2 Prediction (Air Defense)',\n       'Exp 2 Prediction (MT_LB)', 'Exp 2 Prediction (BMD)',\n       'Course-Grain Correctness (Exp 1)', 'Fine-Grain Correctness (Exp 1)',\n       'Course-grain prediction correctness (Exp 2)',\n       'Experiment 1 and 2 consistant', 'sharpness_encoded', 'noise_encoded',\n       'File_size (bytes)_encoded', 'pixels_encoded', 'Ratio_encoded',\n       'Tank-Inconsistency', 'BMP-Inconsistency', 'BTR-Inconsisency',\n       'SPA-Inconsistency', 'Air Defense-Inconsistency', 'MT_LB-Inconsistency',\n       'BMD-Inconsistency', 'pred_2S19_MSTA', 'pred_30N6E', 'pred_BM-30',\n       'pred_BMD', 'pred_BMP-1', 'pred_BMP-2', 'pred_BMP-T15', 'pred_BRDM',\n       'pred_BTR-60', 'pred_BTR-70', 'pred_BTR-80', 'pred_D-30',\n       'pred_Iskander', 'pred_MT_LB', 'pred_Pantsir-S1', 'pred_Rs-24',\n       'pred_T-14', 'pred_T-62', 'pred_T-64', 'pred_T-72', 'pred_T-80',\n       'pred_T-90', 'pred_Tornado', 'pred_TOS-1'],\n      dtype='object')"
     },
     "execution_count": 13,
     "metadata": {},
     "output_type": "execute_result"
    }
   ],
   "source": [
    "zeros_and_ones_df.columns"
   ],
   "metadata": {
    "collapsed": false,
    "ExecuteTime": {
     "end_time": "2023-08-30T23:13:29.061775Z",
     "start_time": "2023-08-30T23:13:29.055932Z"
    }
   },
   "id": "2cd18ec9e36ded4f"
  },
  {
   "cell_type": "code",
   "execution_count": 14,
   "outputs": [
    {
     "data": {
      "text/plain": "set()"
     },
     "execution_count": 14,
     "metadata": {},
     "output_type": "execute_result"
    }
   ],
   "source": [
    "set(zeros_and_ones_df['Image Name']).intersection(set(training_df['Image Name']))"
   ],
   "metadata": {
    "collapsed": false,
    "ExecuteTime": {
     "end_time": "2023-08-30T23:14:15.719755Z",
     "start_time": "2023-08-30T23:14:15.716262Z"
    }
   },
   "id": "e6bf81a04a4863f8"
  },
  {
   "cell_type": "code",
   "execution_count": 37,
   "outputs": [
    {
     "data": {
      "text/plain": "{'2S19_MSTA TP': 0,\n '30N6E TP': 2,\n 'BM-30 TP': 2,\n 'BMD TP': 20,\n 'BMP-1 TP': 12,\n 'BMP-2 TP': 17,\n 'BMP-T15 TP': 6,\n 'BRDM TP': 1,\n 'BTR-60 TP': 3,\n 'BTR-70 TP': 20,\n 'BTR-80 TP': 0,\n 'D-30 TP': 0,\n 'Iskander TP': 0,\n 'MT_LB TP': 20,\n 'Pantsir-S1 TP': 3,\n 'Rs-24 TP': 4,\n 'T-14 TP': 3,\n 'T-62 TP': 3,\n 'T-64 TP': 18,\n 'T-72 TP': 4,\n 'T-80 TP': 5,\n 'T-90 TP': 9,\n 'Tornado TP': 5,\n 'TOS-1 TP': 6}"
     },
     "execution_count": 37,
     "metadata": {},
     "output_type": "execute_result"
    }
   ],
   "source": [
    "def get_TP(cls: str) -> int:\n",
    "    \"\"\"\n",
    "    :param cls: The input class to consider\n",
    "    :return: The True Positive of the class\n",
    "    \"\"\"\n",
    "    \n",
    "    return ((zeros_and_ones_df[f'pred_{cls}'] == 1) & (zeros_and_ones_df[f'{cls}'] == 1)).sum()\n",
    "\n",
    "{f'{cls} TP': get_TP(cls=cls) for cls in fine_grain_classes}"
   ],
   "metadata": {
    "collapsed": false,
    "ExecuteTime": {
     "end_time": "2023-08-21T07:56:22.944680Z",
     "start_time": "2023-08-21T07:56:22.942093Z"
    }
   },
   "id": "f6c221cabfec064a"
  },
  {
   "cell_type": "code",
   "execution_count": 34,
   "outputs": [
    {
     "data": {
      "text/plain": "{'2S19_MSTA FP': 2,\n '30N6E FP': 2,\n 'BM-30 FP': 2,\n 'BMD FP': 0,\n 'BMP-1 FP': 8,\n 'BMP-2 FP': 11,\n 'BMP-T15 FP': 1,\n 'BRDM FP': 1,\n 'BTR-60 FP': 2,\n 'BTR-70 FP': 7,\n 'BTR-80 FP': 1,\n 'D-30 FP': 0,\n 'Iskander FP': 2,\n 'MT_LB FP': 4,\n 'Pantsir-S1 FP': 1,\n 'Rs-24 FP': 3,\n 'T-14 FP': 2,\n 'T-62 FP': 2,\n 'T-64 FP': 7,\n 'T-72 FP': 5,\n 'T-80 FP': 2,\n 'T-90 FP': 7,\n 'Tornado FP': 0,\n 'TOS-1 FP': 1}"
     },
     "execution_count": 34,
     "metadata": {},
     "output_type": "execute_result"
    }
   ],
   "source": [
    "def get_FP(cls: str) -> int:\n",
    "    \"\"\"\n",
    "    :param cls: The input class to consider\n",
    "    :return: The False Positive of the class\n",
    "    \"\"\"\n",
    "    \n",
    "    return ((zeros_and_ones_df[f'pred_{cls}'] == 1) & (zeros_and_ones_df[f'{cls}'] == 0)).sum()\n",
    "    \n",
    "{f'{cls} FP': get_FP(cls=cls) for cls in fine_grain_classes}"
   ],
   "metadata": {
    "collapsed": false,
    "ExecuteTime": {
     "end_time": "2023-08-21T07:54:18.241484Z",
     "start_time": "2023-08-21T07:54:18.231922Z"
    }
   },
   "id": "7aa0c3c345d71d6e"
  },
  {
   "cell_type": "code",
   "execution_count": 36,
   "outputs": [
    {
     "data": {
      "text/plain": "{'2S19_MSTA TN': 229,\n '30N6E TN': 231,\n 'BM-30 TN': 230,\n 'BMD TN': 214,\n 'BMP-1 TN': 203,\n 'BMP-2 TN': 198,\n 'BMP-T15 TN': 229,\n 'BRDM TN': 231,\n 'BTR-60 TN': 231,\n 'BTR-70 TN': 205,\n 'BTR-80 TN': 232,\n 'D-30 TN': 232,\n 'Iskander TN': 230,\n 'MT_LB TN': 211,\n 'Pantsir-S1 TN': 232,\n 'Rs-24 TN': 229,\n 'T-14 TN': 228,\n 'T-62 TN': 229,\n 'T-64 TN': 205,\n 'T-72 TN': 222,\n 'T-80 TN': 228,\n 'T-90 TN': 218,\n 'Tornado TN': 231,\n 'TOS-1 TN': 227}"
     },
     "execution_count": 36,
     "metadata": {},
     "output_type": "execute_result"
    }
   ],
   "source": [
    "def get_TN(cls: str) -> int:\n",
    "    \"\"\"\n",
    "    :param cls: The input class to consider\n",
    "    :return: The True Negative of the class\n",
    "    \"\"\"\n",
    "    \n",
    "    return ((zeros_and_ones_df[f'pred_{cls}'] == 0) & (zeros_and_ones_df[f'{cls}'] == 0)).sum()\n",
    "\n",
    "{f'{cls} TN': get_TN(cls=cls) for cls in fine_grain_classes}"
   ],
   "metadata": {
    "collapsed": false,
    "ExecuteTime": {
     "end_time": "2023-08-21T07:56:12.525397Z",
     "start_time": "2023-08-21T07:56:12.518321Z"
    }
   },
   "id": "f5124b6b9ce8a07b"
  },
  {
   "cell_type": "code",
   "execution_count": 38,
   "outputs": [
    {
     "data": {
      "text/plain": "{'2S19_MSTA FN': 5,\n '30N6E FN': 1,\n 'BM-30 FN': 2,\n 'BMD FN': 2,\n 'BMP-1 FN': 13,\n 'BMP-2 FN': 10,\n 'BMP-T15 FN': 0,\n 'BRDM FN': 3,\n 'BTR-60 FN': 0,\n 'BTR-70 FN': 4,\n 'BTR-80 FN': 3,\n 'D-30 FN': 4,\n 'Iskander FN': 4,\n 'MT_LB FN': 1,\n 'Pantsir-S1 FN': 0,\n 'Rs-24 FN': 0,\n 'T-14 FN': 3,\n 'T-62 FN': 2,\n 'T-64 FN': 6,\n 'T-72 FN': 5,\n 'T-80 FN': 1,\n 'T-90 FN': 2,\n 'Tornado FN': 0,\n 'TOS-1 FN': 2}"
     },
     "execution_count": 38,
     "metadata": {},
     "output_type": "execute_result"
    }
   ],
   "source": [
    "def get_FN(cls: str) -> int:\n",
    "    \"\"\"\n",
    "    :param cls: The input class to consider\n",
    "    :return: The True Negative of the class\n",
    "    \"\"\"\n",
    "    \n",
    "    return ((zeros_and_ones_df[f'pred_{cls}'] == 0) & (zeros_and_ones_df[f'{cls}'] == 1)).sum()\n",
    "\n",
    "{f'{cls} FN': get_FN(cls=cls) for cls in fine_grain_classes}"
   ],
   "metadata": {
    "collapsed": false,
    "ExecuteTime": {
     "end_time": "2023-08-21T07:56:55.854780Z",
     "start_time": "2023-08-21T07:56:55.841016Z"
    }
   },
   "id": "af73ada4e6ffae8b"
  },
  {
   "cell_type": "code",
   "execution_count": 42,
   "outputs": [
    {
     "name": "stderr",
     "output_type": "stream",
     "text": [
      "/var/folders/77/flq6jdzd58gdt_zk3h3565f40000gn/T/ipykernel_66780/1429681848.py:9: RuntimeWarning: invalid value encountered in scalar divide\n",
      "  return TP / (TP + FP)\n"
     ]
    },
    {
     "data": {
      "text/plain": "{'2S19_MSTA precision': 0.0,\n '30N6E precision': 0.5,\n 'BM-30 precision': 0.5,\n 'BMD precision': 1.0,\n 'BMP-1 precision': 0.6,\n 'BMP-2 precision': 0.6071428571428571,\n 'BMP-T15 precision': 0.8571428571428571,\n 'BRDM precision': 0.5,\n 'BTR-60 precision': 0.6,\n 'BTR-70 precision': 0.7407407407407407,\n 'BTR-80 precision': 0.0,\n 'D-30 precision': nan,\n 'Iskander precision': 0.0,\n 'MT_LB precision': 0.8333333333333334,\n 'Pantsir-S1 precision': 0.75,\n 'Rs-24 precision': 0.5714285714285714,\n 'T-14 precision': 0.6,\n 'T-62 precision': 0.6,\n 'T-64 precision': 0.72,\n 'T-72 precision': 0.4444444444444444,\n 'T-80 precision': 0.7142857142857143,\n 'T-90 precision': 0.5625,\n 'Tornado precision': 1.0,\n 'TOS-1 precision': 0.8571428571428571}"
     },
     "execution_count": 42,
     "metadata": {},
     "output_type": "execute_result"
    }
   ],
   "source": [
    "def get_precision(cls: str) -> float:\n",
    "    \"\"\"\n",
    "    :param cls: The input class to consider\n",
    "    :return: The precision of the class - defined as TP / (TP + FP)\n",
    "    \"\"\"\n",
    "    TP = get_TP(cls)\n",
    "    FP = get_FP(cls)\n",
    "    \n",
    "    return TP / (TP + FP)\n",
    "\n",
    "{f'{cls} precision': get_precision(cls=cls) for cls in fine_grain_classes}"
   ],
   "metadata": {
    "collapsed": false,
    "ExecuteTime": {
     "end_time": "2023-08-21T08:08:16.521470Z",
     "start_time": "2023-08-21T08:08:16.517261Z"
    }
   },
   "id": "410384b3e42424f"
  },
  {
   "cell_type": "code",
   "execution_count": 43,
   "outputs": [
    {
     "name": "stderr",
     "output_type": "stream",
     "text": [
      "/Users/shaykricheli/PycharmProjects/metacognitive_error_correction/venv/lib/python3.9/site-packages/sklearn/metrics/_classification.py:1469: UndefinedMetricWarning: Precision is ill-defined and being set to 0.0 due to no predicted samples. Use `zero_division` parameter to control this behavior.\n",
      "  _warn_prf(average, modifier, msg_start, len(result))\n"
     ]
    },
    {
     "data": {
      "text/plain": "{'2S19_MSTA precision': 0.0,\n '30N6E precision': 0.5,\n 'BM-30 precision': 0.5,\n 'BMD precision': 1.0,\n 'BMP-1 precision': 0.6,\n 'BMP-2 precision': 0.6071428571428571,\n 'BMP-T15 precision': 0.8571428571428571,\n 'BRDM precision': 0.5,\n 'BTR-60 precision': 0.6,\n 'BTR-70 precision': 0.7407407407407407,\n 'BTR-80 precision': 0.0,\n 'D-30 precision': 0.0,\n 'Iskander precision': 0.0,\n 'MT_LB precision': 0.8333333333333334,\n 'Pantsir-S1 precision': 0.75,\n 'Rs-24 precision': 0.5714285714285714,\n 'T-14 precision': 0.6,\n 'T-62 precision': 0.6,\n 'T-64 precision': 0.72,\n 'T-72 precision': 0.4444444444444444,\n 'T-80 precision': 0.7142857142857143,\n 'T-90 precision': 0.5625,\n 'Tornado precision': 1.0,\n 'TOS-1 precision': 0.8571428571428571}"
     },
     "execution_count": 43,
     "metadata": {},
     "output_type": "execute_result"
    }
   ],
   "source": [
    "{f'{cls} precision': precision_score(y_true=zeros_and_ones_df[f'{cls}'], y_pred=zeros_and_ones_df[f'pred_{cls}']) for cls in fine_grain_classes}"
   ],
   "metadata": {
    "collapsed": false,
    "ExecuteTime": {
     "end_time": "2023-08-21T08:10:56.856206Z",
     "start_time": "2023-08-21T08:10:56.822793Z"
    }
   },
   "id": "581f7fc78e125eef"
  },
  {
   "cell_type": "code",
   "execution_count": 44,
   "outputs": [
    {
     "data": {
      "text/plain": "{'2S19_MSTA recall': 0.0,\n '30N6E recall': 0.6666666666666666,\n 'BM-30 recall': 0.5,\n 'BMD recall': 0.9090909090909091,\n 'BMP-1 recall': 0.48,\n 'BMP-2 recall': 0.6296296296296297,\n 'BMP-T15 recall': 1.0,\n 'BRDM recall': 0.25,\n 'BTR-60 recall': 1.0,\n 'BTR-70 recall': 0.8333333333333334,\n 'BTR-80 recall': 0.0,\n 'D-30 recall': 0.0,\n 'Iskander recall': 0.0,\n 'MT_LB recall': 0.9523809523809523,\n 'Pantsir-S1 recall': 1.0,\n 'Rs-24 recall': 1.0,\n 'T-14 recall': 0.5,\n 'T-62 recall': 0.6,\n 'T-64 recall': 0.75,\n 'T-72 recall': 0.4444444444444444,\n 'T-80 recall': 0.8333333333333334,\n 'T-90 recall': 0.8181818181818182,\n 'Tornado recall': 1.0,\n 'TOS-1 recall': 0.75}"
     },
     "execution_count": 44,
     "metadata": {},
     "output_type": "execute_result"
    }
   ],
   "source": [
    "def get_recall(cls: str) -> float:\n",
    "    \"\"\"\n",
    "    :param cls: The input class to consider\n",
    "    :return: The recall of the class - defined as TP / (TP + FN)\n",
    "    \"\"\"\n",
    "    TP = get_TP(cls)\n",
    "    FN = get_FN(cls)\n",
    "    \n",
    "    return TP / (TP + FN)\n",
    "\n",
    "{f'{cls} recall': get_recall(cls=cls) for cls in fine_grain_classes}"
   ],
   "metadata": {
    "collapsed": false,
    "ExecuteTime": {
     "end_time": "2023-08-21T08:13:22.204698Z",
     "start_time": "2023-08-21T08:13:22.201883Z"
    }
   },
   "id": "a533d130e590ddb4"
  },
  {
   "cell_type": "code",
   "execution_count": 45,
   "outputs": [
    {
     "data": {
      "text/plain": "{'2S19_MSTA recall': 0.0,\n '30N6E recall': 0.6666666666666666,\n 'BM-30 recall': 0.5,\n 'BMD recall': 0.9090909090909091,\n 'BMP-1 recall': 0.48,\n 'BMP-2 recall': 0.6296296296296297,\n 'BMP-T15 recall': 1.0,\n 'BRDM recall': 0.25,\n 'BTR-60 recall': 1.0,\n 'BTR-70 recall': 0.8333333333333334,\n 'BTR-80 recall': 0.0,\n 'D-30 recall': 0.0,\n 'Iskander recall': 0.0,\n 'MT_LB recall': 0.9523809523809523,\n 'Pantsir-S1 recall': 1.0,\n 'Rs-24 recall': 1.0,\n 'T-14 recall': 0.5,\n 'T-62 recall': 0.6,\n 'T-64 recall': 0.75,\n 'T-72 recall': 0.4444444444444444,\n 'T-80 recall': 0.8333333333333334,\n 'T-90 recall': 0.8181818181818182,\n 'Tornado recall': 1.0,\n 'TOS-1 recall': 0.75}"
     },
     "execution_count": 45,
     "metadata": {},
     "output_type": "execute_result"
    }
   ],
   "source": [
    "{f'{cls} recall': recall_score(y_true=zeros_and_ones_df[f'{cls}'], y_pred=zeros_and_ones_df[f'pred_{cls}']) for cls in fine_grain_classes}"
   ],
   "metadata": {
    "collapsed": false,
    "ExecuteTime": {
     "end_time": "2023-08-21T08:14:50.363786Z",
     "start_time": "2023-08-21T08:14:50.328568Z"
    }
   },
   "id": "1a445dd039cc1e15"
  },
  {
   "cell_type": "code",
   "execution_count": 48,
   "outputs": [
    {
     "name": "stderr",
     "output_type": "stream",
     "text": [
      "/var/folders/77/flq6jdzd58gdt_zk3h3565f40000gn/T/ipykernel_66780/2347313390.py:9: RuntimeWarning: divide by zero encountered in scalar divide\n",
      "  return 2 / (1 / precision + 1/recall)\n",
      "/var/folders/77/flq6jdzd58gdt_zk3h3565f40000gn/T/ipykernel_66780/1429681848.py:9: RuntimeWarning: invalid value encountered in scalar divide\n",
      "  return TP / (TP + FP)\n"
     ]
    },
    {
     "data": {
      "text/plain": "{'2S19_MSTA F1': 0.0,\n '30N6E F1': 0.5714285714285714,\n 'BM-30 F1': 0.5,\n 'BMD F1': 0.9523809523809523,\n 'BMP-1 F1': 0.5333333333333333,\n 'BMP-2 F1': 0.6181818181818182,\n 'BMP-T15 F1': 0.9230769230769229,\n 'BRDM F1': 0.3333333333333333,\n 'BTR-60 F1': 0.7499999999999999,\n 'BTR-70 F1': 0.7843137254901962,\n 'BTR-80 F1': 0.0,\n 'D-30 F1': nan,\n 'Iskander F1': 0.0,\n 'MT_LB F1': 0.8888888888888888,\n 'Pantsir-S1 F1': 0.8571428571428572,\n 'Rs-24 F1': 0.7272727272727273,\n 'T-14 F1': 0.5454545454545454,\n 'T-62 F1': 0.6,\n 'T-64 F1': 0.7346938775510203,\n 'T-72 F1': 0.4444444444444444,\n 'T-80 F1': 0.7692307692307694,\n 'T-90 F1': 0.6666666666666666,\n 'Tornado F1': 1.0,\n 'TOS-1 F1': 0.8}"
     },
     "execution_count": 48,
     "metadata": {},
     "output_type": "execute_result"
    }
   ],
   "source": [
    "def get_F1(cls: str) -> float:\n",
    "    \"\"\"\n",
    "    :param cls: The input class to consider\n",
    "    :return: The F1-score of the class - defined as 2/(1/precision + 1/recall)\n",
    "    \"\"\"\n",
    "    precision = get_precision(cls)\n",
    "    recall = get_recall(cls)\n",
    "    \n",
    "    return 2 / (1 / precision + 1/recall)\n",
    "\n",
    "{f'{cls} F1': get_F1(cls=cls) for cls in fine_grain_classes}"
   ],
   "metadata": {
    "collapsed": false,
    "ExecuteTime": {
     "end_time": "2023-08-21T08:20:12.002468Z",
     "start_time": "2023-08-21T08:20:11.986401Z"
    }
   },
   "id": "9d0fe97523b11065"
  },
  {
   "cell_type": "code",
   "execution_count": 47,
   "outputs": [
    {
     "data": {
      "text/plain": "{'2S19_MSTA F1': 0.0,\n '30N6E F1': 0.5714285714285715,\n 'BM-30 F1': 0.5,\n 'BMD F1': 0.9523809523809523,\n 'BMP-1 F1': 0.5333333333333332,\n 'BMP-2 F1': 0.6181818181818182,\n 'BMP-T15 F1': 0.923076923076923,\n 'BRDM F1': 0.3333333333333333,\n 'BTR-60 F1': 0.7499999999999999,\n 'BTR-70 F1': 0.7843137254901961,\n 'BTR-80 F1': 0.0,\n 'D-30 F1': 0.0,\n 'Iskander F1': 0.0,\n 'MT_LB F1': 0.888888888888889,\n 'Pantsir-S1 F1': 0.8571428571428571,\n 'Rs-24 F1': 0.7272727272727273,\n 'T-14 F1': 0.5454545454545454,\n 'T-62 F1': 0.6,\n 'T-64 F1': 0.7346938775510204,\n 'T-72 F1': 0.4444444444444444,\n 'T-80 F1': 0.7692307692307692,\n 'T-90 F1': 0.6666666666666666,\n 'Tornado F1': 1.0,\n 'TOS-1 F1': 0.7999999999999999}"
     },
     "execution_count": 47,
     "metadata": {},
     "output_type": "execute_result"
    }
   ],
   "source": [
    "{f'{cls} F1': f1_score(y_true=zeros_and_ones_df[f'{cls}'], y_pred=zeros_and_ones_df[f'pred_{cls}']) for cls in fine_grain_classes}"
   ],
   "metadata": {
    "collapsed": false,
    "ExecuteTime": {
     "end_time": "2023-08-21T08:19:09.727806Z",
     "start_time": "2023-08-21T08:19:09.696791Z"
    }
   },
   "id": "769284fb12bdd6a1"
  },
  {
   "cell_type": "markdown",
   "source": [
    "# Problem statement\n",
    "\n",
    "Our main goal is to improve the precision of a pretrained model, denoted $f_{\\theta_f}$, which predicts fine-grain labels of images. The model was pretrained on a train dataset denoted $\\mathcal{T}$. We would like to improve its precision by applying rules using a different model, denoted $f_{\\theta_c}$ and also trained on $\\mathcal{T}$, that predicts coarse-grain labels. The method used is as follows: the coarse-grain labels predicted by $f_{\\theta_c}$ can be compared to the coarse-grain labels derived from the predicted fine-grain labels of $f_{\\theta_f}$. \n",
    "\n",
    " Let $\\mathcal{O} \\neq \\mathcal{T}$ be a set of images, each has both a coarse and fine grain label. Consider some sample $\\omega \\in \\mathcal{O}$. Denote $f_{\\theta_c}(\\omega)=\\alpha_{\\omega}$ and $f_{\\theta_f}(\\omega) = \\beta_{\\omega}$. Let $\\psi$ and $\\rho$ be sets of coarse and fine-grain classes respectively. So in this case we have $\\mathbf{C} = \\psi \\cup \\rho$. Let $\\Phi \\colon \\psi \\to \\rho$ be a function that maps a fine grain label to it's corresponding coarse grain label. With that, we define the predicate:\n",
    "\n",
    "\\begin{equation}\n",
    "\\Phi(\\beta_{\\omega}) = \\alpha_{\\omega} \\iff \\omega \\  \\textrm{is consistent}$\n",
    "\\end{equation}\n",
    "\n",
    "When an inconsistency is found, we assume precedence of the predictions of the coarse-grain model, i.e. we conclude that the coarse-grain label derived from the fine-grain label prediction is incorrect, and suggest the prediction of the coarse-grain model as the label for the sample."
   ],
   "metadata": {
    "collapsed": false
   },
   "id": "69b5198589ad6cf5"
  },
  {
   "cell_type": "code",
   "execution_count": 14,
   "outputs": [],
   "source": [
    "fine_to_coarse = {\n",
    "    \"T-14\": \"Tank\",\n",
    "    \"T-62\": \"Tank\",\n",
    "    \"T-64\": \"Tank\",\n",
    "    \"T-72\": \"Tank\",\n",
    "    \"T-80\": \"Tank\",\n",
    "    \"T-90\": \"Tank\",\n",
    "    \"BMP-1\": \"BMP\",\n",
    "    \"BMP-2\": \"BMP\",\n",
    "    \"T-15 BMP\": \"BMP\",\n",
    "    \"BTR-60\": \"BTR\",\n",
    "    \"BTR-70\": \"BTR\",\n",
    "    \"BTR-80\": \"BTR\",\n",
    "    \"BRDM\": \"BTR\",\n",
    "    \"2S19_MSTA\": \"Self Propelled Artillery\",\n",
    "    \"BM-30\": \"Self Propelled Artillery\",\n",
    "    \"D-30\": \"Self Propelled Artillery\",\n",
    "    \"Tornado\": \"Self Propelled Artillery\",\n",
    "    \"TOS-1\": \"Self Propelled Artillery\",\n",
    "    \"30N6E\": \"Air Defense\",\n",
    "    \"Iskander\": \"Air Defense\",\n",
    "    \"Pantsir-S1\": \"Air Defense\",\n",
    "    \"Rs-24\": \"Air Defense\",\n",
    "    \"MT-LB\": \"MT-LB\",\n",
    "    \"BMD\": \"BMD\"\n",
    "}"
   ],
   "metadata": {
    "collapsed": false,
    "ExecuteTime": {
     "end_time": "2023-08-20T10:09:58.186604Z",
     "start_time": "2023-08-20T10:09:58.090747Z"
    }
   },
   "id": "ad16cea58ebf1ec6"
  },
  {
   "cell_type": "code",
   "execution_count": 15,
   "outputs": [
    {
     "data": {
      "text/plain": "'30N6E'"
     },
     "execution_count": 15,
     "metadata": {},
     "output_type": "execute_result"
    }
   ],
   "source": [
    "images_col_name = 'Image Name'\n",
    "\n",
    "def get_example_info(image_name: str) -> pd.Series:\n",
    "    return zeros_and_ones_df[zeros_and_ones_df[images_col_name] == image_name]\n",
    "\n",
    "def get_class_name(cls: str, ground_truth: bool):\n",
    "    if ground_truth and cls == 'Air Defense':\n",
    "        return 'Air Defence'\n",
    "    \n",
    "    return cls if cls != 'Self Propelled Artillery' else 'SPA'\n",
    "\n",
    "def get_class(image_name: str, ground_truth: bool, granularity: str) -> str:\n",
    "    w_info = get_example_info(image_name)\n",
    "    column_name_generator = lambda cls: get_class_name(cls, ground_truth) if ground_truth else (f\"pred_{get_class_name(cls, ground_truth)}\" if granularity == 'fine' else f\"Exp 2 Prediction ({get_class_name(cls, ground_truth)})\")\n",
    "    classes = fine_grain_classes if granularity == 'fine' else coarse_grain_classes\n",
    "    class_index = np.array([w_info[column_name_generator(cls)] for cls in classes]).argmax()\n",
    "    predicted_class = classes[class_index]\n",
    "    \n",
    "    return predicted_class\n",
    "\n",
    "def predicted_fine_grain_class(image_name: str) -> str:\n",
    "    return get_class(image_name=image_name, ground_truth=False, granularity='fine')\n",
    "\n",
    "consistent_samples = dataframes_by_sheet['Consistent Samples']\n",
    "consistent_sample = consistent_samples.iloc[0][images_col_name]\n",
    "predicted_fine_grain_class(consistent_sample)"
   ],
   "metadata": {
    "collapsed": false,
    "ExecuteTime": {
     "end_time": "2023-08-20T10:09:58.350339Z",
     "start_time": "2023-08-20T10:09:58.318859Z"
    }
   },
   "id": "5f1906f60afcd98b"
  },
  {
   "cell_type": "code",
   "execution_count": 16,
   "outputs": [
    {
     "data": {
      "text/plain": "'Air Defense'"
     },
     "execution_count": 16,
     "metadata": {},
     "output_type": "execute_result"
    }
   ],
   "source": [
    "def predicted_coarse_grain_class(w: str) -> str:\n",
    "    return get_class(image_name=w, ground_truth=False, granularity='coarse')\n",
    "\n",
    "predicted_coarse_grain_class(consistent_sample)"
   ],
   "metadata": {
    "collapsed": false,
    "ExecuteTime": {
     "end_time": "2023-08-20T10:09:58.580821Z",
     "start_time": "2023-08-20T10:09:58.557946Z"
    }
   },
   "id": "34ab44c41a281d12"
  },
  {
   "cell_type": "code",
   "execution_count": 17,
   "outputs": [
    {
     "data": {
      "text/plain": "'Air Defense'"
     },
     "execution_count": 17,
     "metadata": {},
     "output_type": "execute_result"
    }
   ],
   "source": [
    "def derived_coarse_grain_class(w: str) -> str:\n",
    "    fine_grain_class = predicted_fine_grain_class(w)\n",
    "    return fine_to_coarse[fine_grain_class]\n",
    "\n",
    "derived_coarse_grain_class(consistent_sample)"
   ],
   "metadata": {
    "collapsed": false,
    "ExecuteTime": {
     "end_time": "2023-08-20T10:09:58.833086Z",
     "start_time": "2023-08-20T10:09:58.826905Z"
    }
   },
   "id": "e5ea6e4ff94b2c7a"
  },
  {
   "cell_type": "markdown",
   "source": [
    "# Predicates"
   ],
   "metadata": {
    "collapsed": false
   },
   "id": "eb54db0aed008cf1"
  },
  {
   "cell_type": "code",
   "execution_count": 18,
   "outputs": [
    {
     "name": "stdout",
     "output_type": "stream",
     "text": [
      "is_coarse_grain_prediction_i on example 30N6E_Flap_Lid_B _Tracking_and_missile_guidance_radar_for_SA-10_Grumble_-_Russia_12.jpg\n",
      "####################################################################################################\n",
      "\n",
      "Tank: False\n",
      "BMP: False\n",
      "BTR: False\n",
      "Self Propelled Artillery: False\n",
      "\u001B[32mAir Defense: True\u001B[m\n",
      "MT_LB: False\n",
      "BMD: False\n"
     ]
    }
   ],
   "source": [
    "def is_coarse_grain_prediction_i(w: str, i: str) -> bool:\n",
    "    return predicted_coarse_grain_class(w) == i\n",
    "\n",
    "def print_predicates(w:str, predicate: Callable, color: str):\n",
    "    print(f'{predicate.__name__} on example {w}\\n' + '#' * 100 + '\\n')\n",
    "    for cls in coarse_grain_classes:\n",
    "        predicate_value = predicate(w=w, i=cls)\n",
    "        color_prefix = f\"\\033[3{1 if color == 'red' else 2}m\" if predicate_value else \"\"\n",
    "        color_suffix = \"\\033[m\" if predicate_value else \"\"\n",
    "        print_string = color_prefix + f'{cls}: {predicate_value}' + color_suffix\n",
    "        print(print_string)\n",
    "\n",
    "print_predicates(w=consistent_sample, predicate=is_coarse_grain_prediction_i, color='green')"
   ],
   "metadata": {
    "collapsed": false,
    "ExecuteTime": {
     "end_time": "2023-08-20T10:09:59.385447Z",
     "start_time": "2023-08-20T10:09:59.382070Z"
    }
   },
   "id": "c9e02222d2566827"
  },
  {
   "cell_type": "code",
   "execution_count": 19,
   "outputs": [
    {
     "name": "stdout",
     "output_type": "stream",
     "text": [
      "is_coarse_grain_ground_truth_i on example 30N6E_Flap_Lid_B _Tracking_and_missile_guidance_radar_for_SA-10_Grumble_-_Russia_12.jpg\n",
      "####################################################################################################\n",
      "\n",
      "Tank: False\n",
      "BMP: False\n",
      "BTR: False\n",
      "Self Propelled Artillery: False\n",
      "\u001B[32mAir Defense: True\u001B[m\n",
      "MT_LB: False\n",
      "BMD: False\n"
     ]
    }
   ],
   "source": [
    "def is_coarse_grain_ground_truth_i(w: str, i: str):\n",
    "    return get_class(image_name=w, ground_truth=True, granularity='coarse') == i\n",
    "\n",
    "print_predicates(w=consistent_sample, predicate=is_coarse_grain_ground_truth_i, color='green')"
   ],
   "metadata": {
    "collapsed": false,
    "ExecuteTime": {
     "end_time": "2023-08-20T10:09:59.702718Z",
     "start_time": "2023-08-20T10:09:59.696780Z"
    }
   },
   "id": "f14e58dc8525a881"
  },
  {
   "cell_type": "code",
   "execution_count": 20,
   "outputs": [
    {
     "name": "stdout",
     "output_type": "stream",
     "text": [
      "is_coarse_grain_prediction_incorrect_i on example 30N6E_Flap_Lid_B _Tracking_and_missile_guidance_radar_for_SA-10_Grumble_-_Russia_12.jpg\n",
      "####################################################################################################\n",
      "\n",
      "Tank: False\n",
      "BMP: False\n",
      "BTR: False\n",
      "Self Propelled Artillery: False\n",
      "Air Defense: False\n",
      "MT_LB: False\n",
      "BMD: False\n"
     ]
    }
   ],
   "source": [
    "def is_coarse_grain_prediction_incorrect_i(w: str, i: str):\n",
    "    return is_coarse_grain_prediction_i(w, i) and not is_coarse_grain_ground_truth_i(w, i)\n",
    "\n",
    "print_predicates(w=consistent_sample, predicate=is_coarse_grain_prediction_incorrect_i, color='red')"
   ],
   "metadata": {
    "collapsed": false,
    "ExecuteTime": {
     "end_time": "2023-08-20T10:10:00.358535Z",
     "start_time": "2023-08-20T10:10:00.354351Z"
    }
   },
   "id": "415d33f1aa298ab1"
  },
  {
   "cell_type": "code",
   "execution_count": 21,
   "outputs": [
    {
     "data": {
      "text/plain": "'BMD'"
     },
     "execution_count": 21,
     "metadata": {},
     "output_type": "execute_result"
    }
   ],
   "source": [
    "inconsistent_samples = dataframes_by_sheet['Inconsistent Samples']\n",
    "inconsistent_sample = inconsistent_samples.iloc[0][images_col_name]\n",
    "    \n",
    "predicted_fine_grain_class(inconsistent_sample)"
   ],
   "metadata": {
    "collapsed": false,
    "ExecuteTime": {
     "end_time": "2023-08-20T10:10:01.004513Z",
     "start_time": "2023-08-20T10:10:00.999342Z"
    }
   },
   "id": "6a09efe6ab907cb7"
  },
  {
   "cell_type": "code",
   "execution_count": 22,
   "outputs": [
    {
     "data": {
      "text/plain": "'BMP'"
     },
     "execution_count": 22,
     "metadata": {},
     "output_type": "execute_result"
    }
   ],
   "source": [
    "predicted_coarse_grain_class(inconsistent_sample)"
   ],
   "metadata": {
    "collapsed": false,
    "ExecuteTime": {
     "end_time": "2023-08-20T10:10:01.591968Z",
     "start_time": "2023-08-20T10:10:01.586630Z"
    }
   },
   "id": "289a043894ffc2b3"
  },
  {
   "cell_type": "code",
   "execution_count": 23,
   "outputs": [
    {
     "data": {
      "text/plain": "'BMD'"
     },
     "execution_count": 23,
     "metadata": {},
     "output_type": "execute_result"
    }
   ],
   "source": [
    "derived_coarse_grain_class(inconsistent_sample)"
   ],
   "metadata": {
    "collapsed": false,
    "ExecuteTime": {
     "end_time": "2023-08-20T10:10:02.113071Z",
     "start_time": "2023-08-20T10:10:02.088082Z"
    }
   },
   "id": "6abaf9fe254d5d61"
  },
  {
   "cell_type": "code",
   "execution_count": 24,
   "outputs": [
    {
     "name": "stdout",
     "output_type": "stream",
     "text": [
      "is_coarse_grain_prediction_incorrect_i on example 14_png.rf.6900265511b02e07d9957402df99d731.jpg\n",
      "####################################################################################################\n",
      "\n",
      "Tank: False\n",
      "\u001B[31mBMP: True\u001B[m\n",
      "BTR: False\n",
      "Self Propelled Artillery: False\n",
      "Air Defense: False\n",
      "MT_LB: False\n",
      "BMD: False\n"
     ]
    }
   ],
   "source": [
    "print_predicates(w=inconsistent_sample, predicate=is_coarse_grain_prediction_incorrect_i, color='red')"
   ],
   "metadata": {
    "collapsed": false,
    "ExecuteTime": {
     "end_time": "2023-08-20T10:10:02.647443Z",
     "start_time": "2023-08-20T10:10:02.642892Z"
    }
   },
   "id": "157c76b9b7b654b9"
  },
  {
   "cell_type": "markdown",
   "source": [
    "# Conditions"
   ],
   "metadata": {
    "collapsed": false
   },
   "id": "e3714b17ad81a6c1"
  },
  {
   "cell_type": "code",
   "execution_count": 43,
   "outputs": [
    {
     "data": {
      "text/plain": "{'Tank': False,\n 'BMP': True,\n 'BTR': False,\n 'Self Propelled Artillery': False,\n 'Air Defense': False,\n 'MT_LB': False,\n 'BMD': False}"
     },
     "execution_count": 43,
     "metadata": {},
     "output_type": "execute_result"
    }
   ],
   "source": [
    "conditions = [lambda z, cls=cls: predicted_coarse_grain_class(z) == cls for cls in coarse_grain_classes]\n",
    "\n",
    "{cls: condition(inconsistent_sample) for cls, condition in zip(coarse_grain_classes, conditions)}"
   ],
   "metadata": {
    "collapsed": false,
    "ExecuteTime": {
     "end_time": "2023-08-20T19:00:17.366590Z",
     "start_time": "2023-08-20T19:00:17.362674Z"
    }
   },
   "id": "d5637c52baf274c5"
  },
  {
   "cell_type": "code",
   "execution_count": 62,
   "outputs": [],
   "source": [
    "def get_scores(y_true, y_pred):\n",
    "    try:\n",
    "        y_actual = y_true\n",
    "        y_hat = y_pred\n",
    "        TP = 0\n",
    "        FP = 0\n",
    "        TN = 0\n",
    "        FN = 0\n",
    "\n",
    "        for i in range(len(y_hat)):\n",
    "            if y_actual[i] == y_hat[i] == 1:\n",
    "                TP += 1\n",
    "            if y_hat[i] == 1 and y_actual[i] != y_hat[i]:\n",
    "                FP += 1\n",
    "            if y_actual[i] == y_hat[i] == 0:\n",
    "                TN += 1\n",
    "            if y_hat[i] == 0 and y_actual[i] != y_hat[i]:\n",
    "                FN += 1\n",
    "        print(f\"TP:{TP}, FP:{FP}, TN:{TN}, FN:{FN}\")\n",
    "\n",
    "        pre = precision_score(y_true, y_pred)\n",
    "        rec = recall_score(y_true, y_pred)\n",
    "        f1 = f1_score(y_true, y_pred)\n",
    "        return pre, rec, f1\n",
    "    except:\n",
    "        pre = accuracy_score(y_true, y_pred)\n",
    "        f1 = f1_score(y_true, y_pred, average='macro')\n",
    "        f1micro = f1_score(y_true, y_pred, average='micro')\n",
    "        \n",
    "        return pre, f1, f1micro\n",
    "\n",
    "def NEG(i: str, conditions_subset: Sequence[Callable[[str], bool]]) -> int:\n",
    "    result = 0\n",
    "    \n",
    "    for w in zeros_and_ones_df[images_col_name]:\n",
    "        if (all(condition(w) for condition in conditions_subset) \n",
    "                and is_coarse_grain_ground_truth_i(w=w, i=i) and is_coarse_grain_prediction_i(w=w, i=i)):\n",
    "            result += 1\n",
    "            \n",
    "    return result\n",
    "\n",
    "def POS(i: str, conditions_subset: Sequence[Callable[[str], bool]]) -> int:\n",
    "    result = 0\n",
    "    \n",
    "    for w in zeros_and_ones_df[images_col_name]:\n",
    "        if (all(condition(w) for condition in conditions_subset) \n",
    "                and is_coarse_grain_prediction_incorrect_i(i=i, w=w)):\n",
    "            result += 1\n",
    "    \n",
    "    return result\n",
    "            \n",
    "def calculate_q(i: str, epsilon: float) -> float:\n",
    "    n_i = zeros_and_ones_df[i if i != 'Air Defense' else 'Air Defence'].sum()\n",
    "    r_i = coarse_grain_results_df.loc['Recall', i]\n",
    "    p_i = coarse_grain_results_df.loc['Precision', i]\n",
    "    q_i = epsilon * n_i * p_i / r_i\n",
    "    \n",
    "    return q_i\n",
    "\n",
    "def GreedyNegativeConditionsSelect(i: str, epsilon: float, conditions: Sequence[Callable[[str], bool]]):\n",
    "    dc_i = []\n",
    "    \n",
    "    q_i = calculate_q()\n",
    "    \n",
    "    dc_i_star = [condition for condition in conditions if NEG(i=i, conditions_subset=[condition]) <= q_i]\n",
    "    \n",
    "    while dc_i_star:\n",
    "        c_best = dc_i_star[np.array([POS(i=i, conditions_subset=dc_i + [condition]) \n",
    "                           for condition in dc_i_star]).argmax()]\n",
    "        dc_i += [c_best]\n",
    "        dc_i_star = [condition for condition in conditions \n",
    "                     if condition not in dc_i and NEG(i=i, conditions_subset=dc_i + [condition]) <= q_i]\n",
    "    \n",
    "    return dc_i"
   ],
   "metadata": {
    "collapsed": false,
    "ExecuteTime": {
     "end_time": "2023-08-20T21:38:24.838539Z",
     "start_time": "2023-08-20T21:38:24.833708Z"
    }
   },
   "id": "7a0f0ab7034421d9"
  },
  {
   "cell_type": "code",
   "execution_count": 67,
   "outputs": [
    {
     "data": {
      "text/plain": "['Tank',\n 'BMP',\n 'BTR',\n 'Self Propelled Artillery',\n 'Air Defense',\n 'MT_LB',\n 'BMD']"
     },
     "execution_count": 67,
     "metadata": {},
     "output_type": "execute_result"
    }
   ],
   "source": [
    "coarse_grain_classes"
   ],
   "metadata": {
    "collapsed": false,
    "ExecuteTime": {
     "end_time": "2023-08-20T21:40:11.138722Z",
     "start_time": "2023-08-20T21:40:11.135289Z"
    }
   },
   "id": "ba52b484217788aa"
  },
  {
   "cell_type": "code",
   "execution_count": 71,
   "outputs": [
    {
     "data": {
      "text/plain": "True"
     },
     "execution_count": 71,
     "metadata": {},
     "output_type": "execute_result"
    }
   ],
   "source": [
    "all(len(GreedyNegativeConditionsSelect(i=cls, epsilon=100, conditions=conditions)) == len(conditions) for cls in coarse_grain_classes[0:1])"
   ],
   "metadata": {
    "collapsed": false,
    "ExecuteTime": {
     "end_time": "2023-08-20T21:41:41.115594Z",
     "start_time": "2023-08-20T21:41:38.144799Z"
    }
   },
   "id": "ba8cc80138cd70f2"
  }
 ],
 "metadata": {
  "kernelspec": {
   "display_name": "Python 3 (ipykernel)",
   "language": "python",
   "name": "python3"
  },
  "language_info": {
   "codemirror_mode": {
    "name": "ipython",
    "version": 3
   },
   "file_extension": ".py",
   "mimetype": "text/x-python",
   "name": "python",
   "nbconvert_exporter": "python",
   "pygments_lexer": "ipython3",
   "version": "3.11.1"
  }
 },
 "nbformat": 4,
 "nbformat_minor": 5
}
