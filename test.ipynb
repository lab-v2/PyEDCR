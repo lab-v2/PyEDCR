{
 "cells": [
  {
   "cell_type": "code",
   "execution_count": 4,
   "id": "initial_id",
   "metadata": {
    "ExecuteTime": {
     "end_time": "2024-02-11T02:38:51.986865Z",
     "start_time": "2024-02-11T02:38:51.982495Z"
    },
    "collapsed": true
   },
   "outputs": [],
   "source": [
    "import numpy as np\n",
    "import data_preprocessing\n",
    "import PyEDCR"
   ]
  },
  {
   "cell_type": "code",
   "execution_count": 5,
   "id": "cf8c8ddf5d48c8ea",
   "metadata": {
    "ExecuteTime": {
     "end_time": "2024-02-11T03:10:07.200283Z",
     "start_time": "2024-02-11T03:10:07.193753Z"
    },
    "collapsed": false
   },
   "outputs": [
    {
     "ename": "FileNotFoundError",
     "evalue": "[Errno 2] No such file or directory: 'test/train_pred_fine.npy'",
     "output_type": "error",
     "traceback": [
      "\u001b[0;31m---------------------------------------------------------------------------\u001b[0m",
      "\u001b[0;31mFileNotFoundError\u001b[0m                         Traceback (most recent call last)",
      "Cell \u001b[0;32mIn[5], line 9\u001b[0m\n\u001b[1;32m      6\u001b[0m test_fine_pred \u001b[39m=\u001b[39m np\u001b[39m.\u001b[39mload(\u001b[39m'\u001b[39m\u001b[39mcombined_results/vit_b_16_test_fine_pred_BCE_lr0.0001_e19.npy\u001b[39m\u001b[39m'\u001b[39m)\n\u001b[1;32m      7\u001b[0m test_coarse_pred \u001b[39m=\u001b[39m np\u001b[39m.\u001b[39mload(\u001b[39m'\u001b[39m\u001b[39mcombined_results/vit_b_16_test_coarse_pred_BCE_lr0.0001_e19.npy\u001b[39m\u001b[39m'\u001b[39m)\n\u001b[0;32m----> 9\u001b[0m train_pred_fine \u001b[39m=\u001b[39m np\u001b[39m.\u001b[39mload(\u001b[39m'\u001b[39m\u001b[39mtest/train_pred_fine.npy\u001b[39m\u001b[39m'\u001b[39m)\n\u001b[1;32m     10\u001b[0m train_pred_coarse \u001b[39m=\u001b[39m np\u001b[39m.\u001b[39mload(\u001b[39m'\u001b[39m\u001b[39mtest/train_pred_coarse.npy\u001b[39m\u001b[39m'\u001b[39m)\n\u001b[1;32m     12\u001b[0m test_true_fine, test_true_coarse \u001b[39m=\u001b[39m data_preprocessing\u001b[39m.\u001b[39mget_ground_truths(test\u001b[39m=\u001b[39m\u001b[39mTrue\u001b[39;00m,)\n",
      "File \u001b[0;32m~/anaconda3/envs/cr37/lib/python3.11/site-packages/numpy/lib/npyio.py:405\u001b[0m, in \u001b[0;36mload\u001b[0;34m(file, mmap_mode, allow_pickle, fix_imports, encoding, max_header_size)\u001b[0m\n\u001b[1;32m    403\u001b[0m     own_fid \u001b[39m=\u001b[39m \u001b[39mFalse\u001b[39;00m\n\u001b[1;32m    404\u001b[0m \u001b[39melse\u001b[39;00m:\n\u001b[0;32m--> 405\u001b[0m     fid \u001b[39m=\u001b[39m stack\u001b[39m.\u001b[39menter_context(\u001b[39mopen\u001b[39m(os_fspath(file), \u001b[39m\"\u001b[39m\u001b[39mrb\u001b[39m\u001b[39m\"\u001b[39m))\n\u001b[1;32m    406\u001b[0m     own_fid \u001b[39m=\u001b[39m \u001b[39mTrue\u001b[39;00m\n\u001b[1;32m    408\u001b[0m \u001b[39m# Code to distinguish from NumPy binary files and pickles.\u001b[39;00m\n",
      "\u001b[0;31mFileNotFoundError\u001b[0m: [Errno 2] No such file or directory: 'test/train_pred_fine.npy'"
     ]
    }
   ],
   "source": [
    "# test_pred_fine = np.load('test/test_pred_fine.npy')\n",
    "# test_pred_coarse = np.load('test/test_pred_coarse.npy')\n",
    "\n",
    "train_fine_pred = np.load('combined_results/vit_b_16_train_fine_pred_BCE_lr0.0001_e19.npy')\n",
    "train_coarse_pred = np.load('combined_results/vit_b_16_train_coarse_pred_BCE_lr0.0001_e19.npy')\n",
    "test_fine_pred = np.load('combined_results/vit_b_16_test_fine_pred_BCE_lr0.0001_e19.npy')\n",
    "test_coarse_pred = np.load('combined_results/vit_b_16_test_coarse_pred_BCE_lr0.0001_e19.npy')\n",
    "\n",
    "test_true_fine, test_true_coarse = data_preprocessing.get_ground_truths(test=True,)\n",
    "train_true_fine, train_true_coarse = data_preprocessing.get_ground_truths(test=False)"
   ]
  },
  {
   "cell_type": "code",
   "execution_count": null,
   "id": "314e5b24f2a862db",
   "metadata": {
    "collapsed": false
   },
   "outputs": [],
   "source": [
    "import numpy as np\n",
    "\n",
    "# Initialize empty lists to store indices for each value\n",
    "indices_list_train = []\n",
    "\n",
    "# Iterate through each unique value and limit to 10 instances\n",
    "for value in [0, 1, 2]:\n",
    "    # Get indices where the value is present\n",
    "    indices = np.where(train_true_fine == value)[0]\n",
    "    \n",
    "    # Limit to 10 instances and shuffle the indices\n",
    "    indices = np.random.choice(indices, size=10, replace=False)\n",
    "    \n",
    "    # Append the limited indices to corresponding lists\n",
    "    indices_list_train.extend(indices)"
   ]
  },
  {
   "cell_type": "code",
   "execution_count": null,
   "id": "232a796f",
   "metadata": {},
   "outputs": [],
   "source": [
    "import numpy as np\n",
    "\n",
    "# Initialize empty lists to store indices for each value\n",
    "indices_list_test = []\n",
    "\n",
    "# Iterate through each unique value and limit to 10 instances\n",
    "for value in [0, 1, 2]:\n",
    "    # Get indices where the value is present\n",
    "    indices = np.where(test_true_fine == value)[0]\n",
    "    \n",
    "    # Limit to 10 instances and shuffle the indices\n",
    "    indices = np.random.choice(indices, size=10, replace=False)\n",
    "    \n",
    "    # Append the limited indices to corresponding lists\n",
    "    indices_list_test.extend(indices)"
   ]
  },
  {
   "cell_type": "code",
   "execution_count": null,
   "id": "fad006a4",
   "metadata": {},
   "outputs": [],
   "source": [
    "check_train_fine_pred = train_fine_pred[indices_list_train]\n",
    "check_train_coarse_pred = train_coarse_pred[indices_list_train]\n",
    "check_test_fine_pred = test_fine_pred[indices_list_test]\n",
    "check_test_coarse_pred = test_coarse_pred[indices_list_test]\n",
    "\n",
    "check_train_fine_true = train_fine_true[indices_list_train]\n",
    "check_train_coarse_true = train_coarse_true[indices_list_train]\n",
    "check_test_fine_true = test_fine_true[indices_list_test]\n",
    "check_test_coarse_true = test_coarse_true[indices_list_test]"
   ]
  },
  {
   "cell_type": "code",
   "execution_count": null,
   "id": "72432e5c",
   "metadata": {},
   "outputs": [],
   "source": []
  }
 ],
 "metadata": {
  "kernelspec": {
   "display_name": "Python 3",
   "language": "python",
   "name": "python3"
  },
  "language_info": {
   "codemirror_mode": {
    "name": "ipython",
    "version": 2
   },
   "file_extension": ".py",
   "mimetype": "text/x-python",
   "name": "python",
   "nbconvert_exporter": "python",
   "pygments_lexer": "ipython2",
   "version": "2.7.6"
  }
 },
 "nbformat": 4,
 "nbformat_minor": 5
}
