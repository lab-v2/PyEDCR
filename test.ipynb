{
 "cells": [
  {
   "cell_type": "code",
   "execution_count": 4,
   "id": "initial_id",
   "metadata": {
    "ExecuteTime": {
     "end_time": "2024-02-11T02:38:51.986865Z",
     "start_time": "2024-02-11T02:38:51.982495Z"
    },
    "collapsed": true
   },
   "outputs": [],
   "source": [
    "import numpy as np\n",
    "import data_preprocessing\n",
    "import PyEDCR"
   ]
  },
  {
   "cell_type": "code",
   "execution_count": 6,
   "id": "cf8c8ddf5d48c8ea",
   "metadata": {
    "ExecuteTime": {
     "end_time": "2024-02-11T03:10:07.200283Z",
     "start_time": "2024-02-11T03:10:07.193753Z"
    },
    "collapsed": false
   },
   "outputs": [],
   "source": [
    "# test_pred_fine = np.load('test/test_pred_fine.npy')\n",
    "# test_pred_coarse = np.load('test/test_pred_coarse.npy')\n",
    "\n",
    "train_fine_pred = np.load('combined_results/vit_b_16_train_fine_pred_BCE_lr0.0001_e19.npy')\n",
    "train_coarse_pred = np.load('combined_results/vit_b_16_train_coarse_pred_BCE_lr0.0001_e19.npy')\n",
    "test_fine_pred = np.load('combined_results/vit_b_16_test_fine_pred_BCE_lr0.0001_e19.npy')\n",
    "test_coarse_pred = np.load('combined_results/vit_b_16_test_coarse_pred_BCE_lr0.0001_e19.npy')\n",
    "\n",
    "test_fine_true, test_coarse_true = data_preprocessing.get_ground_truths(test=True,)\n",
    "train_fine_true, train_coarse_true = data_preprocessing.get_ground_truths(test=False)"
   ]
  },
  {
   "cell_type": "code",
   "execution_count": 7,
   "id": "314e5b24f2a862db",
   "metadata": {
    "collapsed": false
   },
   "outputs": [],
   "source": [
    "import numpy as np\n",
    "\n",
    "# Initialize empty lists to store indices for each value\n",
    "indices_list_train = []\n",
    "\n",
    "# Iterate through each unique value and limit to 10 instances\n",
    "for value in [0, 1, 2]:\n",
    "    # Get indices where the value is present\n",
    "    indices = np.where(train_fine_true == value)[0]\n",
    "    \n",
    "    # Limit to 10 instances and shuffle the indices\n",
    "    indices = np.random.choice(indices, size=10, replace=False)\n",
    "    \n",
    "    # Append the limited indices to corresponding lists\n",
    "    indices_list_train.extend(indices)"
   ]
  },
  {
   "cell_type": "code",
   "execution_count": 8,
   "id": "232a796f",
   "metadata": {},
   "outputs": [],
   "source": [
    "import numpy as np\n",
    "\n",
    "# Initialize empty lists to store indices for each value\n",
    "indices_list_test = []\n",
    "\n",
    "# Iterate through each unique value and limit to 10 instances\n",
    "for value in [0, 1, 2]:\n",
    "    # Get indices where the value is present\n",
    "    indices = np.where(test_fine_true == value)[0]\n",
    "    \n",
    "    # Limit to 10 instances and shuffle the indices\n",
    "    indices = np.random.choice(indices, size=10, replace=False)\n",
    "    \n",
    "    # Append the limited indices to corresponding lists\n",
    "    indices_list_test.extend(indices)"
   ]
  },
  {
   "cell_type": "code",
   "execution_count": 9,
   "id": "fad006a4",
   "metadata": {},
   "outputs": [],
   "source": [
    "check_train_fine_pred = train_fine_pred[indices_list_train]\n",
    "check_train_coarse_pred = train_coarse_pred[indices_list_train]\n",
    "\n",
    "check_test_fine_pred = test_fine_pred[indices_list_test]\n",
    "check_test_coarse_pred = test_coarse_pred[indices_list_test]\n",
    "\n",
    "check_train_fine_true = train_fine_true[indices_list_train]\n",
    "check_train_coarse_true = train_coarse_true[indices_list_train]\n",
    "\n",
    "check_test_fine_true = test_fine_true[indices_list_test]\n",
    "check_test_coarse_true = test_coarse_true[indices_list_test]"
   ]
  },
  {
   "cell_type": "code",
   "execution_count": 11,
   "id": "72432e5c",
   "metadata": {},
   "outputs": [
    {
     "data": {
      "text/plain": [
       "array([0, 0, 0, 0, 0, 0, 0, 0, 0, 0, 1, 1, 1, 1, 1, 1, 1, 1, 1, 1, 2, 2,\n",
       "       2, 2, 2, 2, 2, 2, 2, 2])"
      ]
     },
     "execution_count": 11,
     "metadata": {},
     "output_type": "execute_result"
    }
   ],
   "source": [
    "check_train_fine_true"
   ]
  },
  {
   "cell_type": "code",
   "execution_count": 12,
   "id": "518351dd",
   "metadata": {},
   "outputs": [
    {
     "data": {
      "text/plain": [
       "array([5, 5, 5, 5, 5, 5, 5, 5, 5, 5, 0, 0, 0, 0, 0, 0, 0, 0, 0, 0, 5, 5,\n",
       "       5, 5, 5, 5, 5, 5, 5, 5])"
      ]
     },
     "execution_count": 12,
     "metadata": {},
     "output_type": "execute_result"
    }
   ],
   "source": [
    "check_train_coarse_true"
   ]
  },
  {
   "cell_type": "code",
   "execution_count": 13,
   "id": "7df66545",
   "metadata": {},
   "outputs": [],
   "source": [
    "np.save(\"test_data/check_train_fine_pred.npy\", check_train_fine_pred)\n",
    "np.save(\"test_data/check_train_coarse_pred.npy\", check_train_coarse_pred)\n",
    "\n",
    "np.save(\"test_data/check_test_fine_pred.npy\", check_test_fine_pred)\n",
    "np.save(\"test_data/check_test_coarse_pred.npy\", check_test_coarse_pred)\n",
    "\n",
    "np.save(\"test_data/check_train_fine_true.npy\", check_train_fine_true)\n",
    "np.save(\"test_data/check_train_coarse_true.npy\", check_train_coarse_true)\n",
    "\n",
    "np.save(\"test_data/check_test_fine_true.npy\", check_test_fine_true)\n",
    "np.save(\"test_data/check_test_coarse_true.npy\", check_test_coarse_true)"
   ]
  },
  {
   "cell_type": "code",
   "execution_count": null,
   "id": "eb1c9971",
   "metadata": {},
   "outputs": [],
   "source": []
  }
 ],
 "metadata": {
  "kernelspec": {
   "display_name": "Python 3",
   "language": "python",
   "name": "python3"
  },
  "language_info": {
   "codemirror_mode": {
    "name": "ipython",
    "version": 2
   },
   "file_extension": ".py",
   "mimetype": "text/x-python",
   "name": "python",
   "nbconvert_exporter": "python",
   "pygments_lexer": "ipython2",
   "version": "2.7.6"
  }
 },
 "nbformat": 4,
 "nbformat_minor": 5
}
