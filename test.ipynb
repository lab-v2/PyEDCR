{
 "cells": [
  {
   "cell_type": "code",
   "execution_count": 8,
   "id": "initial_id",
   "metadata": {
    "collapsed": true,
    "ExecuteTime": {
     "end_time": "2024-02-10T21:46:57.776949Z",
     "start_time": "2024-02-10T21:46:57.772830Z"
    }
   },
   "outputs": [],
   "source": [
    "import numpy as np\n",
    "\n",
    "K = 20\n",
    "np.save('test/train_pred_fine.npy', np.load('combined_results/vit_b_16_train_fine_pred_BCE_lr0.0001_e19.npy')[:K])\n",
    "np.save('test/train_pred_coarse.npy', np.load('combined_results/vit_b_16_train_coarse_pred_BCE_lr0.0001_e19.npy')[:K])\n",
    "np.save('test/test_pred_fine.npy', np.load('combined_results/vit_b_16_test_fine_pred_BCE_lr0.0001_e19.npy')[:K])\n",
    "np.save('test/test_pred_coarse.npy', np.load('combined_results/vit_b_16_test_coarse_pred_BCE_lr0.0001_e19.npy')[:K])"
   ]
  },
  {
   "cell_type": "code",
   "outputs": [
    {
     "data": {
      "text/plain": "array([ 0,  3,  0,  0,  0,  0,  0,  0,  0,  0,  0,  8, 22,  0,  0,  0,  0,\n        3,  0,  0])"
     },
     "execution_count": 9,
     "metadata": {},
     "output_type": "execute_result"
    }
   ],
   "source": [
    "np.load('test/train_pred_fine.npy')"
   ],
   "metadata": {
    "collapsed": false,
    "ExecuteTime": {
     "end_time": "2024-02-10T21:47:13.242568Z",
     "start_time": "2024-02-10T21:47:13.232301Z"
    }
   },
   "id": "916b3089e82de3e7",
   "execution_count": 9
  },
  {
   "cell_type": "code",
   "outputs": [],
   "source": [],
   "metadata": {
    "collapsed": false
   },
   "id": "b6a3a8831c5e2707"
  }
 ],
 "metadata": {
  "kernelspec": {
   "display_name": "Python 3",
   "language": "python",
   "name": "python3"
  },
  "language_info": {
   "codemirror_mode": {
    "name": "ipython",
    "version": 2
   },
   "file_extension": ".py",
   "mimetype": "text/x-python",
   "name": "python",
   "nbconvert_exporter": "python",
   "pygments_lexer": "ipython2",
   "version": "2.7.6"
  }
 },
 "nbformat": 4,
 "nbformat_minor": 5
}
