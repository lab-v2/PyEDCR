{
 "cells": [
  {
   "cell_type": "code",
   "execution_count": 5,
   "id": "initial_id",
   "metadata": {
    "collapsed": true,
    "ExecuteTime": {
     "end_time": "2024-02-11T02:38:51.986865Z",
     "start_time": "2024-02-11T02:38:51.982495Z"
    }
   },
   "outputs": [],
   "source": [
    "import numpy as np\n",
    "import data_preprocessing\n",
    "import PyEDCR"
   ]
  },
  {
   "cell_type": "code",
   "outputs": [
    {
     "data": {
      "text/plain": "[\"pred: ('2S19_MSTA', 'Self Propelled Artillery'), true: ('2S19_MSTA', 'Self Propelled Artillery')\",\n \"pred: ('2S19_MSTA', 'Self Propelled Artillery'), true: ('2S19_MSTA', 'Self Propelled Artillery')\",\n \"pred: ('2S19_MSTA', 'Self Propelled Artillery'), true: ('2S19_MSTA', 'Self Propelled Artillery')\",\n \"pred: ('2S19_MSTA', 'Self Propelled Artillery'), true: ('2S19_MSTA', 'Self Propelled Artillery')\",\n \"pred: ('2S19_MSTA', 'Self Propelled Artillery'), true: ('2S19_MSTA', 'Self Propelled Artillery')\",\n \"pred: ('2S19_MSTA', 'Self Propelled Artillery'), true: ('2S19_MSTA', 'Self Propelled Artillery')\",\n \"pred: ('2S19_MSTA', 'Self Propelled Artillery'), true: ('2S19_MSTA', 'Self Propelled Artillery')\",\n \"pred: ('2S19_MSTA', 'Self Propelled Artillery'), true: ('2S19_MSTA', 'Self Propelled Artillery')\",\n \"pred: ('2S19_MSTA', 'Self Propelled Artillery'), true: ('2S19_MSTA', 'Self Propelled Artillery')\",\n \"pred: ('2S19_MSTA', 'Self Propelled Artillery'), true: ('2S19_MSTA', 'Self Propelled Artillery')\",\n \"pred: ('2S19_MSTA', 'Self Propelled Artillery'), true: ('2S19_MSTA', 'Self Propelled Artillery')\",\n \"pred: ('BTR-70', 'BTR'), true: ('2S19_MSTA', 'Self Propelled Artillery')\",\n \"pred: ('2S19_MSTA', 'Self Propelled Artillery'), true: ('2S19_MSTA', 'Self Propelled Artillery')\",\n \"pred: ('2S19_MSTA', 'Self Propelled Artillery'), true: ('2S19_MSTA', 'Self Propelled Artillery')\",\n \"pred: ('Rs-24', 'Air Defense'), true: ('2S19_MSTA', 'Self Propelled Artillery')\",\n \"pred: ('2S19_MSTA', 'Self Propelled Artillery'), true: ('2S19_MSTA', 'Self Propelled Artillery')\",\n \"pred: ('2S19_MSTA', 'Self Propelled Artillery'), true: ('2S19_MSTA', 'Self Propelled Artillery')\",\n \"pred: ('T-64', 'Tank'), true: ('2S19_MSTA', 'Self Propelled Artillery')\",\n \"pred: ('2S19_MSTA', 'Self Propelled Artillery'), true: ('2S19_MSTA', 'Self Propelled Artillery')\",\n \"pred: ('2S19_MSTA', 'Self Propelled Artillery'), true: ('2S19_MSTA', 'Self Propelled Artillery')\"]"
     },
     "execution_count": 18,
     "metadata": {},
     "output_type": "execute_result"
    }
   ],
   "source": [
    "# test_pred_fine = np.load('test/test_pred_fine.npy')\n",
    "# test_pred_coarse = np.load('test/test_pred_coarse.npy')\n",
    "\n",
    "K = 20\n",
    "np.save('test/train_pred_fine.npy', np.load('combined_results/vit_b_16_train_fine_pred_BCE_lr0.0001_e19.npy')[:K])\n",
    "np.save('test/train_pred_coarse.npy', np.load('combined_results/vit_b_16_train_coarse_pred_BCE_lr0.0001_e19.npy')[:K])\n",
    "np.save('test/test_pred_fine.npy', np.load('combined_results/vit_b_16_test_fine_pred_BCE_lr0.0001_e19.npy')[:K])\n",
    "np.save('test/test_pred_coarse.npy', np.load('combined_results/vit_b_16_test_coarse_pred_BCE_lr0.0001_e19.npy')[:K])\n",
    "\n",
    "train_pred_fine = np.load('test/train_pred_fine.npy')\n",
    "train_pred_coarse = np.load('test/train_pred_coarse.npy')\n",
    "\n",
    "# test_true_fine, test_true_coarse = data_preprocessing.get_ground_truths(test=True,\n",
    "#                                                                         K=len(test_pred_fine))\n",
    "train_true_fine, train_true_coarse = data_preprocessing.get_ground_truths(test=False,\n",
    "                                                                        K=len(train_pred_fine))\n",
    "\n",
    "[(f'pred: {(data_preprocessing.fine_grain_classes_str[fine_prediction], data_preprocessing.coarse_grain_classes_str[coarse_prediction])}, '\n",
    "  f'true: {(data_preprocessing.fine_grain_classes_str[fine_gt], data_preprocessing.coarse_grain_classes_str[coarse_gt])}')\n",
    " for fine_prediction, coarse_prediction, fine_gt, coarse_gt in zip(train_pred_fine, train_pred_coarse, train_true_fine, train_true_coarse)]"
   ],
   "metadata": {
    "collapsed": false,
    "ExecuteTime": {
     "end_time": "2024-02-11T03:10:07.200283Z",
     "start_time": "2024-02-11T03:10:07.193753Z"
    }
   },
   "id": "cf8c8ddf5d48c8ea",
   "execution_count": 18
  },
  {
   "cell_type": "code",
   "outputs": [
    {
     "data": {
      "text/plain": "{'Air Defense': ['30N6E', 'Iskander', 'Pantsir-S1', 'Rs-24'],\n 'BMP': ['BMP-1', 'BMP-2', 'BMP-T15'],\n 'BTR': ['BRDM', 'BTR-60', 'BTR-70', 'BTR-80'],\n 'Tank': ['T-14', 'T-62', 'T-64', 'T-72', 'T-80', 'T-90'],\n 'Self Propelled Artillery': ['2S19_MSTA',\n  'BM-30',\n  'D-30',\n  'Tornado',\n  'TOS-1'],\n 'BMD': ['BMD'],\n 'MT_LB': ['MT_LB']}"
     },
     "execution_count": 2,
     "metadata": {},
     "output_type": "execute_result"
    }
   ],
   "source": [
    "data_preprocessing.coarse_to_fine"
   ],
   "metadata": {
    "collapsed": false,
    "ExecuteTime": {
     "end_time": "2024-02-11T02:33:14.266324Z",
     "start_time": "2024-02-11T02:33:14.262340Z"
    }
   },
   "id": "9d5e2854e23231c2",
   "execution_count": 2
  },
  {
   "cell_type": "code",
   "outputs": [
    {
     "ename": "ValueError",
     "evalue": "Found input variables with inconsistent numbers of samples: [20, 7823]",
     "output_type": "error",
     "traceback": [
      "\u001B[0;31m---------------------------------------------------------------------------\u001B[0m",
      "\u001B[0;31mValueError\u001B[0m                                Traceback (most recent call last)",
      "Cell \u001B[0;32mIn[15], line 17\u001B[0m\n\u001B[1;32m     13\u001B[0m pred_2S19_MSTA \u001B[38;5;241m=\u001B[39m PyEDCR\u001B[38;5;241m.\u001B[39mEDCR\u001B[38;5;241m.\u001B[39mPredCondition(l\u001B[38;5;241m=\u001B[39ml_2S19_MSTA)\n\u001B[1;32m     15\u001B[0m CC_l \u001B[38;5;241m=\u001B[39m {(pred_Tornado, l_SPA), (pred_BMP_1, l_BMP), (pred_2S19_MSTA, l_SPA)}\n\u001B[0;32m---> 17\u001B[0m edcr \u001B[38;5;241m=\u001B[39m \u001B[43mPyEDCR\u001B[49m\u001B[38;5;241;43m.\u001B[39;49m\u001B[43mEDCR\u001B[49m\u001B[38;5;241;43m.\u001B[39;49m\u001B[43mtest\u001B[49m\u001B[43m(\u001B[49m\u001B[43mepsilon\u001B[49m\u001B[38;5;241;43m=\u001B[39;49m\u001B[38;5;241;43m0.1\u001B[39;49m\u001B[43m,\u001B[49m\u001B[43m \u001B[49m\u001B[43mK\u001B[49m\u001B[38;5;241;43m=\u001B[39;49m\u001B[38;5;241;43m20\u001B[39;49m\u001B[43m)\u001B[49m\n\u001B[1;32m     18\u001B[0m \u001B[38;5;66;03m# edcr.get_CON_l(l=l_SPA, CC_l=CC_l)\u001B[39;00m\n",
      "File \u001B[0;32m~/PycharmProjects/metacognitive_error_detection_and_correction/PyEDCR.py:288\u001B[0m, in \u001B[0;36mEDCR.test\u001B[0;34m(cls, epsilon, K)\u001B[0m\n\u001B[1;32m    284\u001B[0m \u001B[38;5;129m@classmethod\u001B[39m\n\u001B[1;32m    285\u001B[0m \u001B[38;5;28;01mdef\u001B[39;00m \u001B[38;5;21mtest\u001B[39m(\u001B[38;5;28mcls\u001B[39m,\n\u001B[1;32m    286\u001B[0m          epsilon: \u001B[38;5;28mfloat\u001B[39m,\n\u001B[1;32m    287\u001B[0m          K: \u001B[38;5;28mint\u001B[39m):\n\u001B[0;32m--> 288\u001B[0m     \u001B[38;5;28;01mreturn\u001B[39;00m \u001B[38;5;28;43mcls\u001B[39;49m\u001B[43m(\u001B[49m\u001B[43mmain_model_name\u001B[49m\u001B[38;5;241;43m=\u001B[39;49m\u001B[38;5;124;43m'\u001B[39;49m\u001B[38;5;124;43mvit_b_16\u001B[39;49m\u001B[38;5;124;43m'\u001B[39;49m\u001B[43m,\u001B[49m\n\u001B[1;32m    289\u001B[0m \u001B[43m               \u001B[49m\u001B[43mcombined\u001B[49m\u001B[38;5;241;43m=\u001B[39;49m\u001B[38;5;28;43;01mTrue\u001B[39;49;00m\u001B[43m,\u001B[49m\n\u001B[1;32m    290\u001B[0m \u001B[43m               \u001B[49m\u001B[43mloss\u001B[49m\u001B[38;5;241;43m=\u001B[39;49m\u001B[38;5;124;43m'\u001B[39;49m\u001B[38;5;124;43mBCE\u001B[39;49m\u001B[38;5;124;43m'\u001B[39;49m\u001B[43m,\u001B[49m\n\u001B[1;32m    291\u001B[0m \u001B[43m               \u001B[49m\u001B[43mlr\u001B[49m\u001B[38;5;241;43m=\u001B[39;49m\u001B[38;5;241;43m0.0001\u001B[39;49m\u001B[43m,\u001B[49m\n\u001B[1;32m    292\u001B[0m \u001B[43m               \u001B[49m\u001B[43mnum_epochs\u001B[49m\u001B[38;5;241;43m=\u001B[39;49m\u001B[38;5;241;43m20\u001B[39;49m\u001B[43m,\u001B[49m\n\u001B[1;32m    293\u001B[0m \u001B[43m               \u001B[49m\u001B[43mepsilon\u001B[49m\u001B[38;5;241;43m=\u001B[39;49m\u001B[43mepsilon\u001B[49m\u001B[43m,\u001B[49m\n\u001B[1;32m    294\u001B[0m \u001B[43m               \u001B[49m\u001B[43mK\u001B[49m\u001B[38;5;241;43m=\u001B[39;49m\u001B[43mK\u001B[49m\u001B[43m)\u001B[49m\n",
      "File \u001B[0;32m~/PycharmProjects/metacognitive_error_detection_and_correction/PyEDCR.py:264\u001B[0m, in \u001B[0;36mEDCR.__init__\u001B[0;34m(self, main_model_name, combined, loss, lr, num_epochs, epsilon, K)\u001B[0m\n\u001B[1;32m    258\u001B[0m \u001B[38;5;28mself\u001B[39m\u001B[38;5;241m.\u001B[39m__K \u001B[38;5;241m=\u001B[39m K \u001B[38;5;28;01mif\u001B[39;00m K \u001B[38;5;129;01mis\u001B[39;00m \u001B[38;5;129;01mnot\u001B[39;00m \u001B[38;5;28;01mNone\u001B[39;00m \u001B[38;5;28;01melse\u001B[39;00m \u001B[38;5;28mself\u001B[39m\u001B[38;5;241m.\u001B[39m__test_pred_data[data_preprocessing\u001B[38;5;241m.\u001B[39mgranularities[\u001B[38;5;241m0\u001B[39m]]\u001B[38;5;241m.\u001B[39mshape[\u001B[38;5;241m0\u001B[39m]\n\u001B[1;32m    260\u001B[0m \u001B[38;5;28mself\u001B[39m\u001B[38;5;241m.\u001B[39mcondition_datas \u001B[38;5;241m=\u001B[39m {EDCR\u001B[38;5;241m.\u001B[39mPredCondition(l\u001B[38;5;241m=\u001B[39ml)\n\u001B[1;32m    261\u001B[0m                         \u001B[38;5;28;01mfor\u001B[39;00m g \u001B[38;5;129;01min\u001B[39;00m data_preprocessing\u001B[38;5;241m.\u001B[39mgranularities\n\u001B[1;32m    262\u001B[0m                         \u001B[38;5;28;01mfor\u001B[39;00m l \u001B[38;5;129;01min\u001B[39;00m data_preprocessing\u001B[38;5;241m.\u001B[39mget_labels(g)}\u001B[38;5;241m.\u001B[39munion({EDCR\u001B[38;5;241m.\u001B[39mConsistencyCondition()})\n\u001B[0;32m--> 264\u001B[0m \u001B[38;5;28mself\u001B[39m\u001B[38;5;241m.\u001B[39mtrain_precisions \u001B[38;5;241m=\u001B[39m {g: precision_score(y_true\u001B[38;5;241m=\u001B[39mdata_preprocessing\u001B[38;5;241m.\u001B[39mget_ground_truths(test\u001B[38;5;241m=\u001B[39m\u001B[38;5;28;01mFalse\u001B[39;00m,\n\u001B[1;32m    265\u001B[0m                                                                                         K\u001B[38;5;241m=\u001B[39m\u001B[38;5;28mself\u001B[39m\u001B[38;5;241m.\u001B[39m__K,\n\u001B[1;32m    266\u001B[0m                                                                                         g\u001B[38;5;241m=\u001B[39mg),\n\u001B[1;32m    267\u001B[0m                                             y_pred\u001B[38;5;241m=\u001B[39m\u001B[38;5;28mself\u001B[39m\u001B[38;5;241m.\u001B[39m__train_pred_data[g],\n\u001B[1;32m    268\u001B[0m                                             average\u001B[38;5;241m=\u001B[39m\u001B[38;5;28;01mNone\u001B[39;00m)\n\u001B[1;32m    269\u001B[0m                          \u001B[38;5;28;01mfor\u001B[39;00m g \u001B[38;5;129;01min\u001B[39;00m data_preprocessing\u001B[38;5;241m.\u001B[39mgranularities}\n\u001B[1;32m    271\u001B[0m \u001B[38;5;28mself\u001B[39m\u001B[38;5;241m.\u001B[39m__train_recalls \u001B[38;5;241m=\u001B[39m {g: recall_score(y_true\u001B[38;5;241m=\u001B[39mdata_preprocessing\u001B[38;5;241m.\u001B[39mget_ground_truths(test\u001B[38;5;241m=\u001B[39m\u001B[38;5;28;01mFalse\u001B[39;00m,\n\u001B[1;32m    272\u001B[0m                                                                                     K\u001B[38;5;241m=\u001B[39m\u001B[38;5;28mself\u001B[39m\u001B[38;5;241m.\u001B[39m__K,\n\u001B[1;32m    273\u001B[0m                                                                                     g\u001B[38;5;241m=\u001B[39mg),\n\u001B[1;32m    274\u001B[0m                                         y_pred\u001B[38;5;241m=\u001B[39m\u001B[38;5;28mself\u001B[39m\u001B[38;5;241m.\u001B[39m__train_pred_data[g],\n\u001B[1;32m    275\u001B[0m                                         average\u001B[38;5;241m=\u001B[39m\u001B[38;5;28;01mNone\u001B[39;00m)\n\u001B[1;32m    276\u001B[0m                         \u001B[38;5;28;01mfor\u001B[39;00m g \u001B[38;5;129;01min\u001B[39;00m data_preprocessing\u001B[38;5;241m.\u001B[39mgranularities}\n\u001B[1;32m    278\u001B[0m \u001B[38;5;28mself\u001B[39m\u001B[38;5;241m.\u001B[39mrules: \u001B[38;5;28mdict\u001B[39m[\u001B[38;5;28mstr\u001B[39m, \u001B[38;5;28mdict\u001B[39m[data_preprocessing\u001B[38;5;241m.\u001B[39mLabel, EDCR\u001B[38;5;241m.\u001B[39m_Rule]] \u001B[38;5;241m=\u001B[39m {\u001B[38;5;124m'\u001B[39m\u001B[38;5;124merror_detections\u001B[39m\u001B[38;5;124m'\u001B[39m: {},\n\u001B[1;32m    279\u001B[0m                                                                      \u001B[38;5;124m'\u001B[39m\u001B[38;5;124merror_corrections\u001B[39m\u001B[38;5;124m'\u001B[39m: {}}\n",
      "File \u001B[0;32m~/PycharmProjects/metacognitive_error_detection_and_correction/PyEDCR.py:264\u001B[0m, in \u001B[0;36m<dictcomp>\u001B[0;34m(.0)\u001B[0m\n\u001B[1;32m    258\u001B[0m \u001B[38;5;28mself\u001B[39m\u001B[38;5;241m.\u001B[39m__K \u001B[38;5;241m=\u001B[39m K \u001B[38;5;28;01mif\u001B[39;00m K \u001B[38;5;129;01mis\u001B[39;00m \u001B[38;5;129;01mnot\u001B[39;00m \u001B[38;5;28;01mNone\u001B[39;00m \u001B[38;5;28;01melse\u001B[39;00m \u001B[38;5;28mself\u001B[39m\u001B[38;5;241m.\u001B[39m__test_pred_data[data_preprocessing\u001B[38;5;241m.\u001B[39mgranularities[\u001B[38;5;241m0\u001B[39m]]\u001B[38;5;241m.\u001B[39mshape[\u001B[38;5;241m0\u001B[39m]\n\u001B[1;32m    260\u001B[0m \u001B[38;5;28mself\u001B[39m\u001B[38;5;241m.\u001B[39mcondition_datas \u001B[38;5;241m=\u001B[39m {EDCR\u001B[38;5;241m.\u001B[39mPredCondition(l\u001B[38;5;241m=\u001B[39ml)\n\u001B[1;32m    261\u001B[0m                         \u001B[38;5;28;01mfor\u001B[39;00m g \u001B[38;5;129;01min\u001B[39;00m data_preprocessing\u001B[38;5;241m.\u001B[39mgranularities\n\u001B[1;32m    262\u001B[0m                         \u001B[38;5;28;01mfor\u001B[39;00m l \u001B[38;5;129;01min\u001B[39;00m data_preprocessing\u001B[38;5;241m.\u001B[39mget_labels(g)}\u001B[38;5;241m.\u001B[39munion({EDCR\u001B[38;5;241m.\u001B[39mConsistencyCondition()})\n\u001B[0;32m--> 264\u001B[0m \u001B[38;5;28mself\u001B[39m\u001B[38;5;241m.\u001B[39mtrain_precisions \u001B[38;5;241m=\u001B[39m {g: \u001B[43mprecision_score\u001B[49m\u001B[43m(\u001B[49m\u001B[43my_true\u001B[49m\u001B[38;5;241;43m=\u001B[39;49m\u001B[43mdata_preprocessing\u001B[49m\u001B[38;5;241;43m.\u001B[39;49m\u001B[43mget_ground_truths\u001B[49m\u001B[43m(\u001B[49m\u001B[43mtest\u001B[49m\u001B[38;5;241;43m=\u001B[39;49m\u001B[38;5;28;43;01mFalse\u001B[39;49;00m\u001B[43m,\u001B[49m\n\u001B[1;32m    265\u001B[0m \u001B[43m                                                                                        \u001B[49m\u001B[43mK\u001B[49m\u001B[38;5;241;43m=\u001B[39;49m\u001B[38;5;28;43mself\u001B[39;49m\u001B[38;5;241;43m.\u001B[39;49m\u001B[43m__K\u001B[49m\u001B[43m,\u001B[49m\n\u001B[1;32m    266\u001B[0m \u001B[43m                                                                                        \u001B[49m\u001B[43mg\u001B[49m\u001B[38;5;241;43m=\u001B[39;49m\u001B[43mg\u001B[49m\u001B[43m)\u001B[49m\u001B[43m,\u001B[49m\n\u001B[1;32m    267\u001B[0m \u001B[43m                                            \u001B[49m\u001B[43my_pred\u001B[49m\u001B[38;5;241;43m=\u001B[39;49m\u001B[38;5;28;43mself\u001B[39;49m\u001B[38;5;241;43m.\u001B[39;49m\u001B[43m__train_pred_data\u001B[49m\u001B[43m[\u001B[49m\u001B[43mg\u001B[49m\u001B[43m]\u001B[49m\u001B[43m,\u001B[49m\n\u001B[1;32m    268\u001B[0m \u001B[43m                                            \u001B[49m\u001B[43maverage\u001B[49m\u001B[38;5;241;43m=\u001B[39;49m\u001B[38;5;28;43;01mNone\u001B[39;49;00m\u001B[43m)\u001B[49m\n\u001B[1;32m    269\u001B[0m                          \u001B[38;5;28;01mfor\u001B[39;00m g \u001B[38;5;129;01min\u001B[39;00m data_preprocessing\u001B[38;5;241m.\u001B[39mgranularities}\n\u001B[1;32m    271\u001B[0m \u001B[38;5;28mself\u001B[39m\u001B[38;5;241m.\u001B[39m__train_recalls \u001B[38;5;241m=\u001B[39m {g: recall_score(y_true\u001B[38;5;241m=\u001B[39mdata_preprocessing\u001B[38;5;241m.\u001B[39mget_ground_truths(test\u001B[38;5;241m=\u001B[39m\u001B[38;5;28;01mFalse\u001B[39;00m,\n\u001B[1;32m    272\u001B[0m                                                                                     K\u001B[38;5;241m=\u001B[39m\u001B[38;5;28mself\u001B[39m\u001B[38;5;241m.\u001B[39m__K,\n\u001B[1;32m    273\u001B[0m                                                                                     g\u001B[38;5;241m=\u001B[39mg),\n\u001B[1;32m    274\u001B[0m                                         y_pred\u001B[38;5;241m=\u001B[39m\u001B[38;5;28mself\u001B[39m\u001B[38;5;241m.\u001B[39m__train_pred_data[g],\n\u001B[1;32m    275\u001B[0m                                         average\u001B[38;5;241m=\u001B[39m\u001B[38;5;28;01mNone\u001B[39;00m)\n\u001B[1;32m    276\u001B[0m                         \u001B[38;5;28;01mfor\u001B[39;00m g \u001B[38;5;129;01min\u001B[39;00m data_preprocessing\u001B[38;5;241m.\u001B[39mgranularities}\n\u001B[1;32m    278\u001B[0m \u001B[38;5;28mself\u001B[39m\u001B[38;5;241m.\u001B[39mrules: \u001B[38;5;28mdict\u001B[39m[\u001B[38;5;28mstr\u001B[39m, \u001B[38;5;28mdict\u001B[39m[data_preprocessing\u001B[38;5;241m.\u001B[39mLabel, EDCR\u001B[38;5;241m.\u001B[39m_Rule]] \u001B[38;5;241m=\u001B[39m {\u001B[38;5;124m'\u001B[39m\u001B[38;5;124merror_detections\u001B[39m\u001B[38;5;124m'\u001B[39m: {},\n\u001B[1;32m    279\u001B[0m                                                                      \u001B[38;5;124m'\u001B[39m\u001B[38;5;124merror_corrections\u001B[39m\u001B[38;5;124m'\u001B[39m: {}}\n",
      "File \u001B[0;32m~/PycharmProjects/metacognitive_error_correction/venv/lib/python3.9/site-packages/sklearn/utils/_param_validation.py:213\u001B[0m, in \u001B[0;36mvalidate_params.<locals>.decorator.<locals>.wrapper\u001B[0;34m(*args, **kwargs)\u001B[0m\n\u001B[1;32m    207\u001B[0m \u001B[38;5;28;01mtry\u001B[39;00m:\n\u001B[1;32m    208\u001B[0m     \u001B[38;5;28;01mwith\u001B[39;00m config_context(\n\u001B[1;32m    209\u001B[0m         skip_parameter_validation\u001B[38;5;241m=\u001B[39m(\n\u001B[1;32m    210\u001B[0m             prefer_skip_nested_validation \u001B[38;5;129;01mor\u001B[39;00m global_skip_validation\n\u001B[1;32m    211\u001B[0m         )\n\u001B[1;32m    212\u001B[0m     ):\n\u001B[0;32m--> 213\u001B[0m         \u001B[38;5;28;01mreturn\u001B[39;00m \u001B[43mfunc\u001B[49m\u001B[43m(\u001B[49m\u001B[38;5;241;43m*\u001B[39;49m\u001B[43margs\u001B[49m\u001B[43m,\u001B[49m\u001B[43m \u001B[49m\u001B[38;5;241;43m*\u001B[39;49m\u001B[38;5;241;43m*\u001B[39;49m\u001B[43mkwargs\u001B[49m\u001B[43m)\u001B[49m\n\u001B[1;32m    214\u001B[0m \u001B[38;5;28;01mexcept\u001B[39;00m InvalidParameterError \u001B[38;5;28;01mas\u001B[39;00m e:\n\u001B[1;32m    215\u001B[0m     \u001B[38;5;66;03m# When the function is just a wrapper around an estimator, we allow\u001B[39;00m\n\u001B[1;32m    216\u001B[0m     \u001B[38;5;66;03m# the function to delegate validation to the estimator, but we replace\u001B[39;00m\n\u001B[1;32m    217\u001B[0m     \u001B[38;5;66;03m# the name of the estimator by the name of the function in the error\u001B[39;00m\n\u001B[1;32m    218\u001B[0m     \u001B[38;5;66;03m# message to avoid confusion.\u001B[39;00m\n\u001B[1;32m    219\u001B[0m     msg \u001B[38;5;241m=\u001B[39m re\u001B[38;5;241m.\u001B[39msub(\n\u001B[1;32m    220\u001B[0m         \u001B[38;5;124mr\u001B[39m\u001B[38;5;124m\"\u001B[39m\u001B[38;5;124mparameter of \u001B[39m\u001B[38;5;124m\\\u001B[39m\u001B[38;5;124mw+ must be\u001B[39m\u001B[38;5;124m\"\u001B[39m,\n\u001B[1;32m    221\u001B[0m         \u001B[38;5;124mf\u001B[39m\u001B[38;5;124m\"\u001B[39m\u001B[38;5;124mparameter of \u001B[39m\u001B[38;5;132;01m{\u001B[39;00mfunc\u001B[38;5;241m.\u001B[39m\u001B[38;5;18m__qualname__\u001B[39m\u001B[38;5;132;01m}\u001B[39;00m\u001B[38;5;124m must be\u001B[39m\u001B[38;5;124m\"\u001B[39m,\n\u001B[1;32m    222\u001B[0m         \u001B[38;5;28mstr\u001B[39m(e),\n\u001B[1;32m    223\u001B[0m     )\n",
      "File \u001B[0;32m~/PycharmProjects/metacognitive_error_correction/venv/lib/python3.9/site-packages/sklearn/metrics/_classification.py:2170\u001B[0m, in \u001B[0;36mprecision_score\u001B[0;34m(y_true, y_pred, labels, pos_label, average, sample_weight, zero_division)\u001B[0m\n\u001B[1;32m   2003\u001B[0m \u001B[38;5;129m@validate_params\u001B[39m(\n\u001B[1;32m   2004\u001B[0m     {\n\u001B[1;32m   2005\u001B[0m         \u001B[38;5;124m\"\u001B[39m\u001B[38;5;124my_true\u001B[39m\u001B[38;5;124m\"\u001B[39m: [\u001B[38;5;124m\"\u001B[39m\u001B[38;5;124marray-like\u001B[39m\u001B[38;5;124m\"\u001B[39m, \u001B[38;5;124m\"\u001B[39m\u001B[38;5;124msparse matrix\u001B[39m\u001B[38;5;124m\"\u001B[39m],\n\u001B[0;32m   (...)\u001B[0m\n\u001B[1;32m   2030\u001B[0m     zero_division\u001B[38;5;241m=\u001B[39m\u001B[38;5;124m\"\u001B[39m\u001B[38;5;124mwarn\u001B[39m\u001B[38;5;124m\"\u001B[39m,\n\u001B[1;32m   2031\u001B[0m ):\n\u001B[1;32m   2032\u001B[0m \u001B[38;5;250m    \u001B[39m\u001B[38;5;124;03m\"\"\"Compute the precision.\u001B[39;00m\n\u001B[1;32m   2033\u001B[0m \n\u001B[1;32m   2034\u001B[0m \u001B[38;5;124;03m    The precision is the ratio ``tp / (tp + fp)`` where ``tp`` is the number of\u001B[39;00m\n\u001B[0;32m   (...)\u001B[0m\n\u001B[1;32m   2168\u001B[0m \u001B[38;5;124;03m    array([0.5, 1. , 1. ])\u001B[39;00m\n\u001B[1;32m   2169\u001B[0m \u001B[38;5;124;03m    \"\"\"\u001B[39;00m\n\u001B[0;32m-> 2170\u001B[0m     p, _, _, _ \u001B[38;5;241m=\u001B[39m \u001B[43mprecision_recall_fscore_support\u001B[49m\u001B[43m(\u001B[49m\n\u001B[1;32m   2171\u001B[0m \u001B[43m        \u001B[49m\u001B[43my_true\u001B[49m\u001B[43m,\u001B[49m\n\u001B[1;32m   2172\u001B[0m \u001B[43m        \u001B[49m\u001B[43my_pred\u001B[49m\u001B[43m,\u001B[49m\n\u001B[1;32m   2173\u001B[0m \u001B[43m        \u001B[49m\u001B[43mlabels\u001B[49m\u001B[38;5;241;43m=\u001B[39;49m\u001B[43mlabels\u001B[49m\u001B[43m,\u001B[49m\n\u001B[1;32m   2174\u001B[0m \u001B[43m        \u001B[49m\u001B[43mpos_label\u001B[49m\u001B[38;5;241;43m=\u001B[39;49m\u001B[43mpos_label\u001B[49m\u001B[43m,\u001B[49m\n\u001B[1;32m   2175\u001B[0m \u001B[43m        \u001B[49m\u001B[43maverage\u001B[49m\u001B[38;5;241;43m=\u001B[39;49m\u001B[43maverage\u001B[49m\u001B[43m,\u001B[49m\n\u001B[1;32m   2176\u001B[0m \u001B[43m        \u001B[49m\u001B[43mwarn_for\u001B[49m\u001B[38;5;241;43m=\u001B[39;49m\u001B[43m(\u001B[49m\u001B[38;5;124;43m\"\u001B[39;49m\u001B[38;5;124;43mprecision\u001B[39;49m\u001B[38;5;124;43m\"\u001B[39;49m\u001B[43m,\u001B[49m\u001B[43m)\u001B[49m\u001B[43m,\u001B[49m\n\u001B[1;32m   2177\u001B[0m \u001B[43m        \u001B[49m\u001B[43msample_weight\u001B[49m\u001B[38;5;241;43m=\u001B[39;49m\u001B[43msample_weight\u001B[49m\u001B[43m,\u001B[49m\n\u001B[1;32m   2178\u001B[0m \u001B[43m        \u001B[49m\u001B[43mzero_division\u001B[49m\u001B[38;5;241;43m=\u001B[39;49m\u001B[43mzero_division\u001B[49m\u001B[43m,\u001B[49m\n\u001B[1;32m   2179\u001B[0m \u001B[43m    \u001B[49m\u001B[43m)\u001B[49m\n\u001B[1;32m   2180\u001B[0m     \u001B[38;5;28;01mreturn\u001B[39;00m p\n",
      "File \u001B[0;32m~/PycharmProjects/metacognitive_error_correction/venv/lib/python3.9/site-packages/sklearn/utils/_param_validation.py:186\u001B[0m, in \u001B[0;36mvalidate_params.<locals>.decorator.<locals>.wrapper\u001B[0;34m(*args, **kwargs)\u001B[0m\n\u001B[1;32m    184\u001B[0m global_skip_validation \u001B[38;5;241m=\u001B[39m get_config()[\u001B[38;5;124m\"\u001B[39m\u001B[38;5;124mskip_parameter_validation\u001B[39m\u001B[38;5;124m\"\u001B[39m]\n\u001B[1;32m    185\u001B[0m \u001B[38;5;28;01mif\u001B[39;00m global_skip_validation:\n\u001B[0;32m--> 186\u001B[0m     \u001B[38;5;28;01mreturn\u001B[39;00m \u001B[43mfunc\u001B[49m\u001B[43m(\u001B[49m\u001B[38;5;241;43m*\u001B[39;49m\u001B[43margs\u001B[49m\u001B[43m,\u001B[49m\u001B[43m \u001B[49m\u001B[38;5;241;43m*\u001B[39;49m\u001B[38;5;241;43m*\u001B[39;49m\u001B[43mkwargs\u001B[49m\u001B[43m)\u001B[49m\n\u001B[1;32m    188\u001B[0m func_sig \u001B[38;5;241m=\u001B[39m signature(func)\n\u001B[1;32m    190\u001B[0m \u001B[38;5;66;03m# Map *args/**kwargs to the function signature\u001B[39;00m\n",
      "File \u001B[0;32m~/PycharmProjects/metacognitive_error_correction/venv/lib/python3.9/site-packages/sklearn/metrics/_classification.py:1755\u001B[0m, in \u001B[0;36mprecision_recall_fscore_support\u001B[0;34m(y_true, y_pred, beta, labels, pos_label, average, warn_for, sample_weight, zero_division)\u001B[0m\n\u001B[1;32m   1592\u001B[0m \u001B[38;5;250m\u001B[39m\u001B[38;5;124;03m\"\"\"Compute precision, recall, F-measure and support for each class.\u001B[39;00m\n\u001B[1;32m   1593\u001B[0m \n\u001B[1;32m   1594\u001B[0m \u001B[38;5;124;03mThe precision is the ratio ``tp / (tp + fp)`` where ``tp`` is the number of\u001B[39;00m\n\u001B[0;32m   (...)\u001B[0m\n\u001B[1;32m   1752\u001B[0m \u001B[38;5;124;03m array([2, 2, 2]))\u001B[39;00m\n\u001B[1;32m   1753\u001B[0m \u001B[38;5;124;03m\"\"\"\u001B[39;00m\n\u001B[1;32m   1754\u001B[0m _check_zero_division(zero_division)\n\u001B[0;32m-> 1755\u001B[0m labels \u001B[38;5;241m=\u001B[39m \u001B[43m_check_set_wise_labels\u001B[49m\u001B[43m(\u001B[49m\u001B[43my_true\u001B[49m\u001B[43m,\u001B[49m\u001B[43m \u001B[49m\u001B[43my_pred\u001B[49m\u001B[43m,\u001B[49m\u001B[43m \u001B[49m\u001B[43maverage\u001B[49m\u001B[43m,\u001B[49m\u001B[43m \u001B[49m\u001B[43mlabels\u001B[49m\u001B[43m,\u001B[49m\u001B[43m \u001B[49m\u001B[43mpos_label\u001B[49m\u001B[43m)\u001B[49m\n\u001B[1;32m   1757\u001B[0m \u001B[38;5;66;03m# Calculate tp_sum, pred_sum, true_sum ###\u001B[39;00m\n\u001B[1;32m   1758\u001B[0m samplewise \u001B[38;5;241m=\u001B[39m average \u001B[38;5;241m==\u001B[39m \u001B[38;5;124m\"\u001B[39m\u001B[38;5;124msamples\u001B[39m\u001B[38;5;124m\"\u001B[39m\n",
      "File \u001B[0;32m~/PycharmProjects/metacognitive_error_correction/venv/lib/python3.9/site-packages/sklearn/metrics/_classification.py:1527\u001B[0m, in \u001B[0;36m_check_set_wise_labels\u001B[0;34m(y_true, y_pred, average, labels, pos_label)\u001B[0m\n\u001B[1;32m   1524\u001B[0m \u001B[38;5;28;01mif\u001B[39;00m average \u001B[38;5;129;01mnot\u001B[39;00m \u001B[38;5;129;01min\u001B[39;00m average_options \u001B[38;5;129;01mand\u001B[39;00m average \u001B[38;5;241m!=\u001B[39m \u001B[38;5;124m\"\u001B[39m\u001B[38;5;124mbinary\u001B[39m\u001B[38;5;124m\"\u001B[39m:\n\u001B[1;32m   1525\u001B[0m     \u001B[38;5;28;01mraise\u001B[39;00m \u001B[38;5;167;01mValueError\u001B[39;00m(\u001B[38;5;124m\"\u001B[39m\u001B[38;5;124maverage has to be one of \u001B[39m\u001B[38;5;124m\"\u001B[39m \u001B[38;5;241m+\u001B[39m \u001B[38;5;28mstr\u001B[39m(average_options))\n\u001B[0;32m-> 1527\u001B[0m y_type, y_true, y_pred \u001B[38;5;241m=\u001B[39m \u001B[43m_check_targets\u001B[49m\u001B[43m(\u001B[49m\u001B[43my_true\u001B[49m\u001B[43m,\u001B[49m\u001B[43m \u001B[49m\u001B[43my_pred\u001B[49m\u001B[43m)\u001B[49m\n\u001B[1;32m   1528\u001B[0m \u001B[38;5;66;03m# Convert to Python primitive type to avoid NumPy type / Python str\u001B[39;00m\n\u001B[1;32m   1529\u001B[0m \u001B[38;5;66;03m# comparison. See https://github.com/numpy/numpy/issues/6784\u001B[39;00m\n\u001B[1;32m   1530\u001B[0m present_labels \u001B[38;5;241m=\u001B[39m unique_labels(y_true, y_pred)\u001B[38;5;241m.\u001B[39mtolist()\n",
      "File \u001B[0;32m~/PycharmProjects/metacognitive_error_correction/venv/lib/python3.9/site-packages/sklearn/metrics/_classification.py:85\u001B[0m, in \u001B[0;36m_check_targets\u001B[0;34m(y_true, y_pred)\u001B[0m\n\u001B[1;32m     58\u001B[0m \u001B[38;5;28;01mdef\u001B[39;00m \u001B[38;5;21m_check_targets\u001B[39m(y_true, y_pred):\n\u001B[1;32m     59\u001B[0m \u001B[38;5;250m    \u001B[39m\u001B[38;5;124;03m\"\"\"Check that y_true and y_pred belong to the same classification task.\u001B[39;00m\n\u001B[1;32m     60\u001B[0m \n\u001B[1;32m     61\u001B[0m \u001B[38;5;124;03m    This converts multiclass or binary types to a common shape, and raises a\u001B[39;00m\n\u001B[0;32m   (...)\u001B[0m\n\u001B[1;32m     83\u001B[0m \u001B[38;5;124;03m    y_pred : array or indicator matrix\u001B[39;00m\n\u001B[1;32m     84\u001B[0m \u001B[38;5;124;03m    \"\"\"\u001B[39;00m\n\u001B[0;32m---> 85\u001B[0m     \u001B[43mcheck_consistent_length\u001B[49m\u001B[43m(\u001B[49m\u001B[43my_true\u001B[49m\u001B[43m,\u001B[49m\u001B[43m \u001B[49m\u001B[43my_pred\u001B[49m\u001B[43m)\u001B[49m\n\u001B[1;32m     86\u001B[0m     type_true \u001B[38;5;241m=\u001B[39m type_of_target(y_true, input_name\u001B[38;5;241m=\u001B[39m\u001B[38;5;124m\"\u001B[39m\u001B[38;5;124my_true\u001B[39m\u001B[38;5;124m\"\u001B[39m)\n\u001B[1;32m     87\u001B[0m     type_pred \u001B[38;5;241m=\u001B[39m type_of_target(y_pred, input_name\u001B[38;5;241m=\u001B[39m\u001B[38;5;124m\"\u001B[39m\u001B[38;5;124my_pred\u001B[39m\u001B[38;5;124m\"\u001B[39m)\n",
      "File \u001B[0;32m~/PycharmProjects/metacognitive_error_correction/venv/lib/python3.9/site-packages/sklearn/utils/validation.py:430\u001B[0m, in \u001B[0;36mcheck_consistent_length\u001B[0;34m(*arrays)\u001B[0m\n\u001B[1;32m    428\u001B[0m uniques \u001B[38;5;241m=\u001B[39m np\u001B[38;5;241m.\u001B[39munique(lengths)\n\u001B[1;32m    429\u001B[0m \u001B[38;5;28;01mif\u001B[39;00m \u001B[38;5;28mlen\u001B[39m(uniques) \u001B[38;5;241m>\u001B[39m \u001B[38;5;241m1\u001B[39m:\n\u001B[0;32m--> 430\u001B[0m     \u001B[38;5;28;01mraise\u001B[39;00m \u001B[38;5;167;01mValueError\u001B[39;00m(\n\u001B[1;32m    431\u001B[0m         \u001B[38;5;124m\"\u001B[39m\u001B[38;5;124mFound input variables with inconsistent numbers of samples: \u001B[39m\u001B[38;5;132;01m%r\u001B[39;00m\u001B[38;5;124m\"\u001B[39m\n\u001B[1;32m    432\u001B[0m         \u001B[38;5;241m%\u001B[39m [\u001B[38;5;28mint\u001B[39m(l) \u001B[38;5;28;01mfor\u001B[39;00m l \u001B[38;5;129;01min\u001B[39;00m lengths]\n\u001B[1;32m    433\u001B[0m     )\n",
      "\u001B[0;31mValueError\u001B[0m: Found input variables with inconsistent numbers of samples: [20, 7823]"
     ]
    }
   ],
   "source": [
    "g_fine, g_coarse = data_preprocessing.granularities\n",
    "\n",
    "l_tank = data_preprocessing.get_labels(g_coarse)[data_preprocessing.coarse_grain_classes_str.index('Tank')]\n",
    "l_SPA = data_preprocessing.get_labels(g_coarse)[data_preprocessing.coarse_grain_classes_str.index('Self Propelled Artillery')]\n",
    "l_BMP = data_preprocessing.get_labels(g_coarse)[data_preprocessing.coarse_grain_classes_str.index('BMP')]\n",
    "\n",
    "l_Tornado = data_preprocessing.get_labels(g_fine)[data_preprocessing.fine_grain_classes_str.index('Tornado')]\n",
    "l_BMP_1 = data_preprocessing.get_labels(g_fine)[data_preprocessing.fine_grain_classes_str.index('BMP-1')]\n",
    "l_2S19_MSTA = data_preprocessing.get_labels(g_fine)[data_preprocessing.fine_grain_classes_str.index('2S19_MSTA')]\n",
    "\n",
    "pred_Tornado = PyEDCR.EDCR.PredCondition(l=l_Tornado)\n",
    "pred_BMP_1 = PyEDCR.EDCR.PredCondition(l=l_BMP_1)\n",
    "pred_2S19_MSTA = PyEDCR.EDCR.PredCondition(l=l_2S19_MSTA)\n",
    "\n",
    "CC_l = {(pred_Tornado, l_SPA), (pred_BMP_1, l_BMP), (pred_2S19_MSTA, l_SPA)}\n",
    "\n",
    "edcr = PyEDCR.EDCR.test(epsilon=0.1, K=20)\n",
    "# edcr.get_CON_l(l=l_SPA, CC_l=CC_l)"
   ],
   "metadata": {
    "collapsed": false,
    "ExecuteTime": {
     "end_time": "2024-02-11T02:48:50.084281Z",
     "start_time": "2024-02-11T02:48:50.007788Z"
    }
   },
   "id": "b6a3a8831c5e2707",
   "execution_count": 15
  },
  {
   "cell_type": "code",
   "outputs": [],
   "source": [],
   "metadata": {
    "collapsed": false
   },
   "id": "314e5b24f2a862db"
  }
 ],
 "metadata": {
  "kernelspec": {
   "display_name": "Python 3",
   "language": "python",
   "name": "python3"
  },
  "language_info": {
   "codemirror_mode": {
    "name": "ipython",
    "version": 2
   },
   "file_extension": ".py",
   "mimetype": "text/x-python",
   "name": "python",
   "nbconvert_exporter": "python",
   "pygments_lexer": "ipython2",
   "version": "2.7.6"
  }
 },
 "nbformat": 4,
 "nbformat_minor": 5
}
