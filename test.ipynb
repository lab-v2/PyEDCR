{
 "cells": [
  {
   "cell_type": "code",
   "execution_count": 1,
   "id": "initial_id",
   "metadata": {
    "ExecuteTime": {
     "end_time": "2024-02-11T02:38:51.986865Z",
     "start_time": "2024-02-11T02:38:51.982495Z"
    },
    "collapsed": true
   },
   "outputs": [],
   "source": [
    "import numpy as np\n",
    "import data_preprocessing\n",
    "import PyEDCR"
   ]
  },
  {
   "cell_type": "markdown",
   "id": "0fc058d1",
   "metadata": {},
   "source": [
    "# Creating test_data"
   ]
  },
  {
   "cell_type": "code",
   "execution_count": 6,
   "id": "cf8c8ddf5d48c8ea",
   "metadata": {
    "ExecuteTime": {
     "end_time": "2024-02-11T03:10:07.200283Z",
     "start_time": "2024-02-11T03:10:07.193753Z"
    },
    "collapsed": false
   },
   "outputs": [],
   "source": [
    "# test_pred_fine = np.load('test/test_pred_fine.npy')\n",
    "# test_pred_coarse = np.load('test/test_pred_coarse.npy')\n",
    "\n",
    "train_fine_pred = np.load('combined_results/vit_b_16_train_fine_pred_BCE_lr0.0001_e19.npy')\n",
    "train_coarse_pred = np.load('combined_results/vit_b_16_train_coarse_pred_BCE_lr0.0001_e19.npy')\n",
    "test_fine_pred = np.load('combined_results/vit_b_16_test_fine_pred_BCE_lr0.0001_e19.npy')\n",
    "test_coarse_pred = np.load('combined_results/vit_b_16_test_coarse_pred_BCE_lr0.0001_e19.npy')\n",
    "\n",
    "test_fine_true, test_coarse_true = data_preprocessing.get_ground_truths(test=True,)\n",
    "train_fine_true, train_coarse_true = data_preprocessing.get_ground_truths(test=False)"
   ]
  },
  {
   "cell_type": "code",
   "execution_count": 7,
   "id": "314e5b24f2a862db",
   "metadata": {
    "collapsed": false
   },
   "outputs": [],
   "source": [
    "import numpy as np\n",
    "\n",
    "# Initialize empty lists to store indices for each value\n",
    "indices_list_train = []\n",
    "\n",
    "# Iterate through each unique value and limit to 10 instances\n",
    "for value in [0, 1, 2]:\n",
    "    # Get indices where the value is present\n",
    "    indices = np.where(train_fine_true == value)[0]\n",
    "    \n",
    "    # Limit to 10 instances and shuffle the indices\n",
    "    indices = np.random.choice(indices, size=10, replace=False)\n",
    "    \n",
    "    # Append the limited indices to corresponding lists\n",
    "    indices_list_train.extend(indices)"
   ]
  },
  {
   "cell_type": "code",
   "execution_count": 8,
   "id": "232a796f",
   "metadata": {},
   "outputs": [],
   "source": [
    "import numpy as np\n",
    "\n",
    "# Initialize empty lists to store indices for each value\n",
    "indices_list_test = []\n",
    "\n",
    "# Iterate through each unique value and limit to 10 instances\n",
    "for value in [0, 1, 2]:\n",
    "    # Get indices where the value is present\n",
    "    indices = np.where(test_fine_true == value)[0]\n",
    "    \n",
    "    # Limit to 10 instances and shuffle the indices\n",
    "    indices = np.random.choice(indices, size=10, replace=False)\n",
    "    \n",
    "    # Append the limited indices to corresponding lists\n",
    "    indices_list_test.extend(indices)"
   ]
  },
  {
   "cell_type": "code",
   "execution_count": 9,
   "id": "fad006a4",
   "metadata": {},
   "outputs": [],
   "source": [
    "check_train_fine_pred = train_fine_pred[indices_list_train]\n",
    "check_train_coarse_pred = train_coarse_pred[indices_list_train]\n",
    "\n",
    "check_test_fine_pred = test_fine_pred[indices_list_test]\n",
    "check_test_coarse_pred = test_coarse_pred[indices_list_test]\n",
    "\n",
    "check_train_fine_true = train_fine_true[indices_list_train]\n",
    "check_train_coarse_true = train_coarse_true[indices_list_train]\n",
    "\n",
    "check_test_fine_true = test_fine_true[indices_list_test]\n",
    "check_test_coarse_true = test_coarse_true[indices_list_test]"
   ]
  },
  {
   "cell_type": "code",
   "execution_count": 13,
   "id": "7df66545",
   "metadata": {},
   "outputs": [],
   "source": [
    "np.save(\"test_data/check_train_fine_pred.npy\", check_train_fine_pred)\n",
    "np.save(\"test_data/check_train_coarse_pred.npy\", check_train_coarse_pred)\n",
    "\n",
    "np.save(\"test_data/check_test_fine_pred.npy\", check_test_fine_pred)\n",
    "np.save(\"test_data/check_test_coarse_pred.npy\", check_test_coarse_pred)\n",
    "\n",
    "np.save(\"test_data/check_train_fine_true.npy\", check_train_fine_true)\n",
    "np.save(\"test_data/check_train_coarse_true.npy\", check_train_coarse_true)\n",
    "\n",
    "np.save(\"test_data/check_test_fine_true.npy\", check_test_fine_true)\n",
    "np.save(\"test_data/check_test_coarse_true.npy\", check_test_coarse_true)"
   ]
  },
  {
   "cell_type": "markdown",
   "id": "6504af76",
   "metadata": {},
   "source": [
    "# Retrieve check data"
   ]
  },
  {
   "cell_type": "code",
   "execution_count": 2,
   "id": "eb1c9971",
   "metadata": {},
   "outputs": [],
   "source": [
    "check_train_fine_pred = np.load(\"test_data/check_train_fine_pred.npy\")\n",
    "check_train_coarse_pred = np.load(\"test_data/check_train_coarse_pred.npy\")\n",
    "\n",
    "check_test_fine_pred = np.load(\"test_data/check_test_fine_pred.npy\")\n",
    "check_test_coarse_pred = np.load(\"test_data/check_test_coarse_pred.npy\")\n",
    "\n",
    "check_train_fine_true = np.load(\"test_data/check_train_fine_true.npy\")\n",
    "check_train_coarse_true = np.load(\"test_data/check_train_coarse_true.npy\")\n",
    "\n",
    "check_test_fine_true = np.load(\"test_data/check_test_fine_true.npy\")\n",
    "check_test_coarse_true = np.load(\"test_data/check_test_coarse_true.npy\")"
   ]
  },
  {
   "cell_type": "code",
   "execution_count": 36,
   "id": "167e5844",
   "metadata": {},
   "outputs": [
    {
     "data": {
      "text/plain": [
       "array([ 0,  0,  0,  0,  0,  0,  0, 19,  1,  0, 10,  1,  2,  1, 11,  1,  1,\n",
       "        1,  1,  1,  2, 15,  2,  2,  8, 23, 23, 23,  2,  2])"
      ]
     },
     "execution_count": 36,
     "metadata": {},
     "output_type": "execute_result"
    }
   ],
   "source": [
    "check_test_fine_pred"
   ]
  },
  {
   "cell_type": "code",
   "execution_count": 37,
   "id": "41709eb3",
   "metadata": {},
   "outputs": [
    {
     "data": {
      "text/plain": [
       "array([0, 0, 0, 0, 0, 0, 0, 0, 0, 0, 1, 1, 1, 1, 1, 1, 1, 1, 1, 1, 2, 2,\n",
       "       2, 2, 2, 2, 2, 2, 2, 2])"
      ]
     },
     "execution_count": 37,
     "metadata": {},
     "output_type": "execute_result"
    }
   ],
   "source": [
    "check_test_fine_true"
   ]
  },
  {
   "cell_type": "code",
   "execution_count": 41,
   "id": "32fb911a",
   "metadata": {},
   "outputs": [
    {
     "data": {
      "text/plain": [
       "array([1, 1, 1, 1, 1, 1, 1, 0, 0, 1, 0, 1, 0, 1, 0, 1, 1, 1, 1, 1, 1, 0,\n",
       "       1, 1, 0, 0, 0, 0, 1, 1])"
      ]
     },
     "execution_count": 41,
     "metadata": {},
     "output_type": "execute_result"
    }
   ],
   "source": [
    "np.where(check_test_coarse_pred == check_test_coarse_true, 1, 0)"
   ]
  },
  {
   "cell_type": "code",
   "execution_count": 18,
   "id": "12a2db3c",
   "metadata": {},
   "outputs": [
    {
     "data": {
      "text/plain": [
       "'Air Defense'"
      ]
     },
     "execution_count": 18,
     "metadata": {},
     "output_type": "execute_result"
    }
   ],
   "source": [
    "label = data_preprocessing.get_labels(data_preprocessing.granularities[1])\n",
    "label[0]._l_str"
   ]
  },
  {
   "cell_type": "code",
   "execution_count": 21,
   "id": "78309ec0",
   "metadata": {},
   "outputs": [
    {
     "data": {
      "text/plain": [
       "['Air Defense',\n",
       " 'BMD',\n",
       " 'BMP',\n",
       " 'BTR',\n",
       " 'MT_LB',\n",
       " 'Self Propelled Artillery',\n",
       " 'Tank']"
      ]
     },
     "execution_count": 21,
     "metadata": {},
     "output_type": "execute_result"
    }
   ],
   "source": [
    "data_preprocessing.coarse_grain_classes_str"
   ]
  },
  {
   "cell_type": "code",
   "execution_count": 40,
   "id": "2f784848",
   "metadata": {},
   "outputs": [
    {
     "name": "stdout",
     "output_type": "stream",
     "text": [
      "####################################################################################################\n",
      "Main model name: \u001b[94mFalse\u001b[0m with \u001b[94mFalse\u001b[0m loss on the \u001b[94mtrain\u001b[0m dataset\n",
      "with lr=\u001b[94mFalse\u001b[0m\n",
      "\n",
      "Fine-grain prior individual accuracy: \u001b[92m80.0\u001b[0m%, fine-grain prior individual macro f1: \u001b[92m10.89\u001b[0m%\n",
      "Fine-grain prior individual macro precision: \u001b[92m12.08\u001b[0m%, fine-grain prior individual macro recall: \u001b[92m10.0\u001b[0m%\n",
      "\n",
      "Coarse-grain prior individual accuracy: \u001b[92m86.67\u001b[0m%, coarse-grain prior individual macro f1: \u001b[92m25.64\u001b[0m%\n",
      "Coarse-grain prior individual macro precision: \u001b[92m26.35\u001b[0m%, coarse-grain prior individual macro recall: \u001b[92m25.0\u001b[0m%\n",
      "\n",
      "Total prior inconsistencies \u001b[91m0\u001b[0m/\u001b[91m30\u001b[0m (\u001b[91m0.0\u001b[0m%)\n",
      "\n",
      "####################################################################################################\n",
      "Main model name: \u001b[94mFalse\u001b[0m with \u001b[94mFalse\u001b[0m loss on the \u001b[94mtest\u001b[0m dataset\n",
      "with lr=\u001b[94mFalse\u001b[0m\n",
      "\n",
      "Fine-grain prior individual accuracy: \u001b[92m66.67\u001b[0m%, fine-grain prior individual macro f1: \u001b[92m9.55\u001b[0m%\n",
      "Fine-grain prior individual macro precision: \u001b[92m11.28\u001b[0m%, fine-grain prior individual macro recall: \u001b[92m8.33\u001b[0m%\n",
      "\n",
      "Coarse-grain prior individual accuracy: \u001b[92m83.33\u001b[0m%, coarse-grain prior individual macro f1: \u001b[92m25.21\u001b[0m%\n",
      "Coarse-grain prior individual macro precision: \u001b[92m26.3\u001b[0m%, coarse-grain prior individual macro recall: \u001b[92m24.29\u001b[0m%\n",
      "\n",
      "Total prior inconsistencies \u001b[91m4\u001b[0m/\u001b[91m30\u001b[0m (\u001b[91m13.33\u001b[0m%)\n",
      "\n",
      "\u001b[94m==================================================test Get_where_predicted_correct==================================================\u001b[0m\n",
      "granularity: coarse, test\n",
      "coarse\n",
      "True\n",
      "[1 1 1 1 0 1 1 0 1 1 1 1 0 1 1 1 1 1 1 1 1 0 1 1 0 1 1 1 1 1]\n",
      "Traceback (most recent call last):\n",
      "  File \"/Users/khoavo2003/cs224/PyEDCR/test_PyEDCR/test_get_where_predicted_correct.py\", line 53, in <module>\n",
      "    edcr.test_get_where_predicted_correct(test=True, \n",
      "    ^^^^^^^^^^^^^^^^^^^^^^^^^^^^^^^^^^^^^^^^^^^^^^^^\n",
      "  File \"/Users/khoavo2003/cs224/PyEDCR/PyEDCR.py\", line 399, in test_get_where_predicted_correct\n",
      "    assert(np.all(data == expected_result))\n",
      "AssertionError\n"
     ]
    }
   ],
   "source": [
    "!python test_PyEDCR/test_get_where_predicted_correct.py"
   ]
  },
  {
   "cell_type": "code",
   "execution_count": null,
   "id": "215bbcd2",
   "metadata": {},
   "outputs": [],
   "source": []
  }
 ],
 "metadata": {
  "kernelspec": {
   "display_name": "Python 3",
   "language": "python",
   "name": "python3"
  },
  "language_info": {
   "codemirror_mode": {
    "name": "ipython",
    "version": 3
   },
   "file_extension": ".py",
   "mimetype": "text/x-python",
   "name": "python",
   "nbconvert_exporter": "python",
   "pygments_lexer": "ipython3",
   "version": "3.11.0"
  }
 },
 "nbformat": 4,
 "nbformat_minor": 5
}
