{
 "cells": [
  {
   "cell_type": "code",
   "execution_count": 6,
   "id": "initial_id",
   "metadata": {
    "ExecuteTime": {
     "end_time": "2024-02-11T02:38:51.986865Z",
     "start_time": "2024-02-11T02:38:51.982495Z"
    },
    "collapsed": true
   },
   "outputs": [],
   "source": [
    "import numpy as np\n",
    "import data_preprocessing\n",
    "import PyEDCR"
   ]
  },
  {
   "cell_type": "markdown",
   "id": "0fc058d1",
   "metadata": {},
   "source": [
    "# Creating test_data"
   ]
  },
  {
   "cell_type": "code",
   "execution_count": 6,
   "id": "cf8c8ddf5d48c8ea",
   "metadata": {
    "ExecuteTime": {
     "end_time": "2024-02-11T03:10:07.200283Z",
     "start_time": "2024-02-11T03:10:07.193753Z"
    },
    "collapsed": false
   },
   "outputs": [],
   "source": [
    "# test_pred_fine = np.load('test/test_pred_fine.npy')\n",
    "# test_pred_coarse = np.load('test/test_pred_coarse.npy')\n",
    "\n",
    "train_fine_pred = np.load('combined_results/vit_b_16_train_fine_pred_BCE_lr0.0001_e19.npy')\n",
    "train_coarse_pred = np.load('combined_results/vit_b_16_train_coarse_pred_BCE_lr0.0001_e19.npy')\n",
    "test_fine_pred = np.load('combined_results/vit_b_16_test_fine_pred_BCE_lr0.0001_e19.npy')\n",
    "test_coarse_pred = np.load('combined_results/vit_b_16_test_coarse_pred_BCE_lr0.0001_e19.npy')\n",
    "\n",
    "test_fine_true, test_coarse_true = data_preprocessing.get_ground_truths(test=True,)\n",
    "train_fine_true, train_coarse_true = data_preprocessing.get_ground_truths(test=False)"
   ]
  },
  {
   "cell_type": "code",
   "execution_count": 7,
   "id": "314e5b24f2a862db",
   "metadata": {
    "collapsed": false
   },
   "outputs": [],
   "source": [
    "import numpy as np\n",
    "\n",
    "# Initialize empty lists to store indices for each value\n",
    "indices_list_train = []\n",
    "\n",
    "# Iterate through each unique value and limit to 10 instances\n",
    "for value in [0, 1, 2]:\n",
    "    # Get indices where the value is present\n",
    "    indices = np.where(train_fine_true == value)[0]\n",
    "    \n",
    "    # Limit to 10 instances and shuffle the indices\n",
    "    indices = np.random.choice(indices, size=10, replace=False)\n",
    "    \n",
    "    # Append the limited indices to corresponding lists\n",
    "    indices_list_train.extend(indices)"
   ]
  },
  {
   "cell_type": "code",
   "execution_count": 8,
   "id": "232a796f",
   "metadata": {},
   "outputs": [],
   "source": [
    "import numpy as np\n",
    "\n",
    "# Initialize empty lists to store indices for each value\n",
    "indices_list_test = []\n",
    "\n",
    "# Iterate through each unique value and limit to 10 instances\n",
    "for value in [0, 1, 2]:\n",
    "    # Get indices where the value is present\n",
    "    indices = np.where(test_fine_true == value)[0]\n",
    "    \n",
    "    # Limit to 10 instances and shuffle the indices\n",
    "    indices = np.random.choice(indices, size=10, replace=False)\n",
    "    \n",
    "    # Append the limited indices to corresponding lists\n",
    "    indices_list_test.extend(indices)"
   ]
  },
  {
   "cell_type": "code",
   "execution_count": 9,
   "id": "fad006a4",
   "metadata": {},
   "outputs": [],
   "source": [
    "check_train_fine_pred = train_fine_pred[indices_list_train]\n",
    "check_train_coarse_pred = train_coarse_pred[indices_list_train]\n",
    "\n",
    "check_test_fine_pred = test_fine_pred[indices_list_test]\n",
    "check_test_coarse_pred = test_coarse_pred[indices_list_test]\n",
    "\n",
    "check_train_fine_true = train_fine_true[indices_list_train]\n",
    "check_train_coarse_true = train_coarse_true[indices_list_train]\n",
    "\n",
    "check_test_fine_true = test_fine_true[indices_list_test]\n",
    "check_test_coarse_true = test_coarse_true[indices_list_test]"
   ]
  },
  {
   "cell_type": "code",
   "execution_count": 13,
   "id": "7df66545",
   "metadata": {},
   "outputs": [],
   "source": [
    "np.save(\"test_data/check_train_fine_pred.npy\", check_train_fine_pred)\n",
    "np.save(\"test_data/check_train_coarse_pred.npy\", check_train_coarse_pred)\n",
    "\n",
    "np.save(\"test_data/check_test_fine_pred.npy\", check_test_fine_pred)\n",
    "np.save(\"test_data/check_test_coarse_pred.npy\", check_test_coarse_pred)\n",
    "\n",
    "np.save(\"test_data/check_train_fine_true.npy\", check_train_fine_true)\n",
    "np.save(\"test_data/check_train_coarse_true.npy\", check_train_coarse_true)\n",
    "\n",
    "np.save(\"test_data/check_test_fine_true.npy\", check_test_fine_true)\n",
    "np.save(\"test_data/check_test_coarse_true.npy\", check_test_coarse_true)"
   ]
  },
  {
   "cell_type": "markdown",
   "id": "6504af76",
   "metadata": {},
   "source": [
    "# Retrieve check data"
   ]
  },
  {
   "cell_type": "code",
   "execution_count": 33,
   "id": "eb1c9971",
   "metadata": {},
   "outputs": [],
   "source": [
    "check_train_fine_pred = np.load(\"test_data/check_train_fine_pred.npy\")\n",
    "check_train_coarse_pred = np.load(\"test_data/check_train_coarse_pred.npy\")\n",
    "\n",
    "check_test_fine_pred = np.load(\"test_data/check_test_fine_pred.npy\")\n",
    "check_test_coarse_pred = np.load(\"test_data/check_test_coarse_pred.npy\")\n",
    "\n",
    "check_train_fine_true = np.load(\"test_data/check_train_fine_true.npy\")\n",
    "check_train_coarse_true = np.load(\"test_data/check_train_coarse_true.npy\")\n",
    "\n",
    "check_test_fine_true = np.load(\"test_data/check_test_fine_true.npy\")\n",
    "check_test_coarse_true = np.load(\"test_data/check_test_coarse_true.npy\")"
   ]
  },
  {
   "cell_type": "code",
   "execution_count": 34,
   "id": "78309ec0",
   "metadata": {},
   "outputs": [],
   "source": [
    "g_fine, g_coarse = data_preprocessing.granularities.values()\n",
    "fg_l, cg_l = list(data_preprocessing.fine_grain_labels.values()), list(data_preprocessing.coarse_grain_labels.values())\n"
   ]
  },
  {
   "cell_type": "code",
   "execution_count": 35,
   "id": "a49cc36c",
   "metadata": {},
   "outputs": [
    {
     "data": {
      "text/plain": [
       "array([ 0,  0,  0,  0,  0, 20,  0,  0,  0,  5,  1, 15,  1, 15,  1,  1,  2,\n",
       "        1,  1,  1,  2,  2,  2,  2,  2, 14,  2,  2,  2,  2])"
      ]
     },
     "execution_count": 35,
     "metadata": {},
     "output_type": "execute_result"
    }
   ],
   "source": [
    "check_train_fine_pred"
   ]
  },
  {
   "cell_type": "code",
   "execution_count": 20,
   "id": "cf81599c",
   "metadata": {},
   "outputs": [
    {
     "data": {
      "text/plain": [
       "'T-80'"
      ]
     },
     "execution_count": 20,
     "metadata": {},
     "output_type": "execute_result"
    }
   ],
   "source": [
    "fg_l[20].__str__()"
   ]
  },
  {
   "cell_type": "code",
   "execution_count": 32,
   "id": "c6693c1a",
   "metadata": {},
   "outputs": [
    {
     "name": "stdout",
     "output_type": "stream",
     "text": [
      "[\"pred: (2S19_MSTA, Self Propelled Artillery)\", \"true: (2S19_MSTA, Self Propelled Artillery)\"]\n",
      "[\"pred: (2S19_MSTA, Self Propelled Artillery)\", \"true: (2S19_MSTA, Self Propelled Artillery)\"]\n",
      "[\"pred: (2S19_MSTA, Self Propelled Artillery)\", \"true: (2S19_MSTA, Self Propelled Artillery)\"]\n",
      "[\"pred: (2S19_MSTA, Self Propelled Artillery)\", \"true: (2S19_MSTA, Self Propelled Artillery)\"]\n",
      "[\"pred: (2S19_MSTA, Self Propelled Artillery)\", \"true: (2S19_MSTA, Self Propelled Artillery)\"]\n",
      "[\"pred: (T-80, Tank)\", \"true: (2S19_MSTA, Self Propelled Artillery)\"]\n",
      "[\"pred: (2S19_MSTA, Self Propelled Artillery)\", \"true: (2S19_MSTA, Self Propelled Artillery)\"]\n",
      "[\"pred: (2S19_MSTA, Self Propelled Artillery)\", \"true: (2S19_MSTA, Self Propelled Artillery)\"]\n",
      "[\"pred: (2S19_MSTA, Self Propelled Artillery)\", \"true: (2S19_MSTA, Self Propelled Artillery)\"]\n",
      "[\"pred: (BMP-2, BMP)\", \"true: (2S19_MSTA, Self Propelled Artillery)\"]\n",
      "[\"pred: (30N6E, Air Defense)\", \"true: (30N6E, Air Defense)\"]\n",
      "[\"pred: (Rs-24, Air Defense)\", \"true: (30N6E, Air Defense)\"]\n",
      "[\"pred: (30N6E, Air Defense)\", \"true: (30N6E, Air Defense)\"]\n",
      "[\"pred: (Rs-24, Air Defense)\", \"true: (30N6E, Air Defense)\"]\n",
      "[\"pred: (30N6E, Air Defense)\", \"true: (30N6E, Air Defense)\"]\n",
      "[\"pred: (30N6E, Air Defense)\", \"true: (30N6E, Air Defense)\"]\n",
      "[\"pred: (BM-30, Self Propelled Artillery)\", \"true: (30N6E, Air Defense)\"]\n",
      "[\"pred: (30N6E, Air Defense)\", \"true: (30N6E, Air Defense)\"]\n",
      "[\"pred: (30N6E, Air Defense)\", \"true: (30N6E, Air Defense)\"]\n",
      "[\"pred: (30N6E, Air Defense)\", \"true: (30N6E, Air Defense)\"]\n",
      "[\"pred: (BM-30, Self Propelled Artillery)\", \"true: (BM-30, Self Propelled Artillery)\"]\n",
      "[\"pred: (BM-30, Self Propelled Artillery)\", \"true: (BM-30, Self Propelled Artillery)\"]\n",
      "[\"pred: (BM-30, Self Propelled Artillery)\", \"true: (BM-30, Self Propelled Artillery)\"]\n",
      "[\"pred: (BM-30, Self Propelled Artillery)\", \"true: (BM-30, Self Propelled Artillery)\"]\n",
      "[\"pred: (BM-30, Self Propelled Artillery)\", \"true: (BM-30, Self Propelled Artillery)\"]\n",
      "[\"pred: (Pantsir-S1, Air Defense)\", \"true: (BM-30, Self Propelled Artillery)\"]\n",
      "[\"pred: (BM-30, Self Propelled Artillery)\", \"true: (BM-30, Self Propelled Artillery)\"]\n",
      "[\"pred: (BM-30, Self Propelled Artillery)\", \"true: (BM-30, Self Propelled Artillery)\"]\n",
      "[\"pred: (BM-30, Self Propelled Artillery)\", \"true: (BM-30, Self Propelled Artillery)\"]\n",
      "[\"pred: (BM-30, Self Propelled Artillery)\", \"true: (BM-30, Self Propelled Artillery)\"]\n"
     ]
    }
   ],
   "source": [
    "import numpy as np\n",
    "\n",
    "# Sample data (assuming fg_l and cg_l are defined elsewhere)\n",
    "# check_train_fine_pred = np.array([0, 2, 1])\n",
    "# check_train_coarse_pred = np.array([0, 1, 0])\n",
    "# check_train_fine_true = np.array([2, 1, 0])\n",
    "# check_train_coarse_true = np.array([1, 0, 2])\n",
    "# fg_l = [\"2S19_MSTA\", \"BMP-3\", \"T-72B\"]\n",
    "# cg_l = [\"Tank\", \"Infantry fighting vehicle\", \"Self Propelled Artillery\"]\n",
    "\n",
    "# Function to format prediction/ground truth pairs\n",
    "def format_pair(pred_fine, pred_coarse, true_fine, true_coarse):\n",
    "  max_pred_len = max([len(str(l)) for l in fg_l]) + max([len(str(l)) for l in cg_l]) + 10 \n",
    "  max_true_len = max([len(str(l)) for l in fg_l]) + max([len(str(l)) for l in cg_l]) + 10\n",
    "  pred_str = f\"pred: ({fg_l[pred_fine]}, {cg_l[pred_coarse]})\"\n",
    "  true_str = f\"true: ({fg_l[true_fine]}, {cg_l[true_coarse]})\"\n",
    "  pred_str += \" \" * (max_pred_len - len(pred_str))\n",
    "  true_str += \" \" * (max_true_len - len(true_str))\n",
    "  return f\"pred: ({fg_l[pred_fine]}, {cg_l[pred_coarse]})\", f\"true: ({fg_l[true_fine]}, {cg_l[true_coarse]})\"\n",
    "\n",
    "# Print information in desired format\n",
    "for i in range(len(check_train_fine_pred)):\n",
    "  pred_fine, pred_coarse = check_train_fine_pred[i], check_train_coarse_pred[i]\n",
    "  true_fine, true_coarse = check_train_fine_true[i], check_train_coarse_true[i]\n",
    "  pred_str, true_str = format_pair(pred_fine, pred_coarse, true_fine, true_coarse)\n",
    "  print(f'[\"{pred_str}\", \"{true_str}\"]')\n",
    "\n"
   ]
  },
  {
   "cell_type": "code",
   "execution_count": null,
   "id": "2f784848",
   "metadata": {},
   "outputs": [],
   "source": [
    "!python test_PyEDCR/test_get_where_train_fp_l.py"
   ]
  },
  {
   "cell_type": "code",
   "execution_count": null,
   "id": "215bbcd2",
   "metadata": {},
   "outputs": [],
   "source": []
  }
 ],
 "metadata": {
  "kernelspec": {
   "display_name": "Python 3",
   "language": "python",
   "name": "python3"
  },
  "language_info": {
   "codemirror_mode": {
    "name": "ipython",
    "version": 3
   },
   "file_extension": ".py",
   "mimetype": "text/x-python",
   "name": "python",
   "nbconvert_exporter": "python",
   "pygments_lexer": "ipython3",
   "version": "3.11.0"
  }
 },
 "nbformat": 4,
 "nbformat_minor": 5
}
