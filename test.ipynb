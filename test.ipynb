{
 "cells": [
  {
   "cell_type": "code",
   "execution_count": 21,
   "id": "initial_id",
   "metadata": {
    "collapsed": true,
    "ExecuteTime": {
     "end_time": "2024-02-14T20:09:22.661045Z",
     "start_time": "2024-02-14T20:09:22.651535Z"
    }
   },
   "outputs": [],
   "source": [
    "import numpy as np\n",
    "import data_preprocessing\n",
    "import PyEDCR\n",
    "import vit_pipeline"
   ]
  },
  {
   "cell_type": "markdown",
   "id": "0fc058d1",
   "metadata": {},
   "source": [
    "# Creating test_data"
   ]
  },
  {
   "cell_type": "code",
   "execution_count": 6,
   "id": "cf8c8ddf5d48c8ea",
   "metadata": {
    "ExecuteTime": {
     "end_time": "2024-02-11T03:10:07.200283Z",
     "start_time": "2024-02-11T03:10:07.193753Z"
    },
    "collapsed": false
   },
   "outputs": [],
   "source": [
    "# test_pred_fine = np.load('test/test_pred_fine.npy')\n",
    "# test_pred_coarse = np.load('test/test_pred_coarse.npy')\n",
    "\n",
    "train_fine_pred = np.load('combined_results/vit_b_16_train_fine_pred_BCE_lr0.0001_e19.npy')\n",
    "train_coarse_pred = np.load('combined_results/vit_b_16_train_coarse_pred_BCE_lr0.0001_e19.npy')\n",
    "test_fine_pred = np.load('combined_results/vit_b_16_test_fine_pred_BCE_lr0.0001_e19.npy')\n",
    "test_coarse_pred = np.load('combined_results/vit_b_16_test_coarse_pred_BCE_lr0.0001_e19.npy')\n",
    "\n",
    "test_fine_true, test_coarse_true = data_preprocessing.get_ground_truths(test=True,)\n",
    "train_fine_true, train_coarse_true = data_preprocessing.get_ground_truths(test=False)"
   ]
  },
  {
   "cell_type": "code",
   "execution_count": 7,
   "id": "314e5b24f2a862db",
   "metadata": {
    "collapsed": false
   },
   "outputs": [],
   "source": [
    "import numpy as np\n",
    "\n",
    "# Initialize empty lists to store indices for each value\n",
    "indices_list_train = []\n",
    "\n",
    "# Iterate through each unique value and limit to 10 instances\n",
    "for value in [0, 1, 2]:\n",
    "    # Get indices where the value is present\n",
    "    indices = np.where(train_fine_true == value)[0]\n",
    "    \n",
    "    # Limit to 10 instances and shuffle the indices\n",
    "    indices = np.random.choice(indices, size=10, replace=False)\n",
    "    \n",
    "    # Append the limited indices to corresponding lists\n",
    "    indices_list_train.extend(indices)"
   ]
  },
  {
   "cell_type": "code",
   "execution_count": 8,
   "id": "232a796f",
   "metadata": {},
   "outputs": [],
   "source": [
    "import numpy as np\n",
    "\n",
    "# Initialize empty lists to store indices for each value\n",
    "indices_list_test = []\n",
    "\n",
    "# Iterate through each unique value and limit to 10 instances\n",
    "for value in [0, 1, 2]:\n",
    "    # Get indices where the value is present\n",
    "    indices = np.where(test_fine_true == value)[0]\n",
    "    \n",
    "    # Limit to 10 instances and shuffle the indices\n",
    "    indices = np.random.choice(indices, size=10, replace=False)\n",
    "    \n",
    "    # Append the limited indices to corresponding lists\n",
    "    indices_list_test.extend(indices)"
   ]
  },
  {
   "cell_type": "code",
   "execution_count": 9,
   "id": "fad006a4",
   "metadata": {},
   "outputs": [],
   "source": [
    "check_train_fine_pred = train_fine_pred[indices_list_train]\n",
    "check_train_coarse_pred = train_coarse_pred[indices_list_train]\n",
    "\n",
    "check_test_fine_pred = test_fine_pred[indices_list_test]\n",
    "check_test_coarse_pred = test_coarse_pred[indices_list_test]\n",
    "\n",
    "check_train_fine_true = train_fine_true[indices_list_train]\n",
    "check_train_coarse_true = train_coarse_true[indices_list_train]\n",
    "\n",
    "check_test_fine_true = test_fine_true[indices_list_test]\n",
    "check_test_coarse_true = test_coarse_true[indices_list_test]"
   ]
  },
  {
   "cell_type": "code",
   "execution_count": 13,
   "id": "7df66545",
   "metadata": {},
   "outputs": [],
   "source": [
    "np.save(\"test_data/check_train_fine_pred.npy\", check_train_fine_pred)\n",
    "np.save(\"test_data/check_train_coarse_pred.npy\", check_train_coarse_pred)\n",
    "\n",
    "np.save(\"test_data/check_test_fine_pred.npy\", check_test_fine_pred)\n",
    "np.save(\"test_data/check_test_coarse_pred.npy\", check_test_coarse_pred)\n",
    "\n",
    "np.save(\"test_data/check_train_fine_true.npy\", check_train_fine_true)\n",
    "np.save(\"test_data/check_train_coarse_true.npy\", check_train_coarse_true)\n",
    "\n",
    "np.save(\"test_data/check_test_fine_true.npy\", check_test_fine_true)\n",
    "np.save(\"test_data/check_test_coarse_true.npy\", check_test_coarse_true)"
   ]
  },
  {
   "cell_type": "markdown",
   "id": "6504af76",
   "metadata": {},
   "source": [
    "# Retrieve check data"
   ]
  },
  {
   "cell_type": "code",
   "execution_count": 9,
   "id": "eb1c9971",
   "metadata": {
    "ExecuteTime": {
     "end_time": "2024-02-14T18:46:50.425397Z",
     "start_time": "2024-02-14T18:46:50.410850Z"
    }
   },
   "outputs": [],
   "source": [
    "test_true_fine_data = np.load(r'data/test_fine/test_true_fine.npy')\n",
    "test_true_coarse_data = np.load(r'data/test_coarse/test_true_coarse.npy')\n",
    "\n",
    "train_true_fine_data = np.load(r'data/train_fine/train_true_fine.npy')\n",
    "train_true_coarse_data = np.load(r'data/train_coarse/train_true_coarse.npy')"
   ]
  },
  {
   "cell_type": "code",
   "outputs": [
    {
     "data": {
      "text/plain": "(array([344, 345, 346, 347, 348, 349, 350, 351, 352, 353, 354, 355, 356,\n        357, 358, 359, 360, 361, 362, 363, 364, 365, 366, 367, 368, 369,\n        370, 371, 372, 373, 374, 375, 376, 377, 378, 379, 380, 381, 382,\n        383, 384, 385, 386, 387, 388, 389, 390, 391, 392, 393, 394, 395,\n        396, 397, 398, 399, 400, 401, 402, 403, 404, 405, 406, 407, 408,\n        409, 410, 411, 412, 413, 414, 415, 416, 417, 418, 419, 420, 421,\n        422, 423, 424, 425, 426, 427, 428, 429, 430, 431, 432, 433, 434,\n        435, 436, 437, 438, 439, 440, 441, 442, 443, 444, 445, 446, 447,\n        448, 449, 450, 451, 452, 453, 454, 455, 456, 457, 458, 459, 460,\n        461, 462]),)"
     },
     "execution_count": 14,
     "metadata": {},
     "output_type": "execute_result"
    }
   ],
   "source": [
    "np.where(train_true_fine_data==1)"
   ],
   "metadata": {
    "collapsed": false,
    "ExecuteTime": {
     "end_time": "2024-02-14T18:49:24.958040Z",
     "start_time": "2024-02-14T18:49:24.953896Z"
    }
   },
   "id": "28cbb40521511bb7",
   "execution_count": 14
  },
  {
   "cell_type": "code",
   "outputs": [
    {
     "name": "stdout",
     "output_type": "stream",
     "text": [
      "2S19_MSTA: [0, 58]\n",
      "30N6E: [59, 79]\n",
      "BM-30: [80, 219]\n",
      "BMD: [220, 308]\n",
      "BMP-1: [309, 335]\n",
      "BMP-2: [336, 400]\n",
      "BMP-T15: [401, 484]\n",
      "BRDM: [485, 548]\n",
      "BTR-60: [549, 709]\n",
      "BTR-70: [710, 748]\n",
      "BTR-80: [749, 824]\n",
      "D-30: [825, 894]\n",
      "Iskander: [895, 999]\n",
      "MT_LB: [1000, 1086]\n",
      "Pantsir-S1: [1087, 1130]\n",
      "Rs-24: [1131, 1243]\n",
      "T-14: [1244, 1303]\n",
      "T-62: [1304, 1384]\n",
      "T-64: [1385, 1410]\n",
      "T-72: [1411, 1443]\n",
      "T-80: [1444, 1499]\n",
      "T-90: [1500, 1556]\n",
      "TOS-1: [1557, 1590]\n",
      "Tornado: [1591, 1620]\n"
     ]
    }
   ],
   "source": [
    "labels = data_preprocessing.fine_grain_classes_str\n",
    "# Sample data (sorted)\n",
    "data = test_true_fine_data\n",
    "\n",
    "# Define the target label\n",
    "for index, target_label in enumerate(labels):\n",
    "\n",
    "    # Find the starting and ending indices of the target label\n",
    "    start_index = np.argmax(test_true_fine_data==index)\n",
    "    end_index = start_index + 1\n",
    "\n",
    "    # While the next label is the same, keep incrementing the end index\n",
    "    while end_index < len(data) and data[end_index] == index:\n",
    "        end_index += 1\n",
    "\n",
    "    # Print the range of indices\n",
    "    print(f\"{target_label}: [{start_index}, {end_index - 1}]\")"
   ],
   "metadata": {
    "collapsed": false,
    "ExecuteTime": {
     "end_time": "2024-02-14T19:58:09.496158Z",
     "start_time": "2024-02-14T19:58:09.478719Z"
    }
   },
   "id": "5ae55bb1adc07cdf",
   "execution_count": 19
  },
  {
   "cell_type": "code",
   "outputs": [],
   "source": [
    "main_model_name = 'vit_b_16'\n",
    "combined = True\n",
    "test = True\n",
    "g_str = data_preprocessing.granularities['fine'].g_str\n",
    "loss = 'BCE'\n",
    "lr = 1e-04\n",
    "pred=False\n",
    "num_epochs=19\n",
    "test_true_fine_path = vit_pipeline.get_filepath(model_name=main_model_name,\n",
    "                          combined=combined,\n",
    "                          test=test,\n",
    "                          granularity=g_str,\n",
    "                          loss=loss,\n",
    "                          lr=lr,\n",
    "                          pred=True,\n",
    "                          epoch=num_epochs)"
   ],
   "metadata": {
    "collapsed": false,
    "ExecuteTime": {
     "end_time": "2024-02-14T18:46:10.807840Z",
     "start_time": "2024-02-14T18:46:10.797043Z"
    }
   },
   "id": "313551b7014fcd98",
   "execution_count": 7
  },
  {
   "cell_type": "code",
   "outputs": [
    {
     "ename": "FileNotFoundError",
     "evalue": "[Errno 2] No such file or directory: 'combined_results/vit_b_16_test_fine_pred_BCE_lr0.0001_e18.npy'",
     "output_type": "error",
     "traceback": [
      "\u001B[0;31m---------------------------------------------------------------------------\u001B[0m",
      "\u001B[0;31mFileNotFoundError\u001B[0m                         Traceback (most recent call last)",
      "Cell \u001B[0;32mIn[8], line 1\u001B[0m\n\u001B[0;32m----> 1\u001B[0m test_true_fine_data \u001B[38;5;241m=\u001B[39m np\u001B[38;5;241m.\u001B[39mload(test_true_fine_path)\n",
      "File \u001B[0;32m~/anaconda3/envs/cr37/lib/python3.11/site-packages/numpy/lib/npyio.py:405\u001B[0m, in \u001B[0;36mload\u001B[0;34m(file, mmap_mode, allow_pickle, fix_imports, encoding, max_header_size)\u001B[0m\n\u001B[1;32m    403\u001B[0m     own_fid \u001B[38;5;241m=\u001B[39m \u001B[38;5;28;01mFalse\u001B[39;00m\n\u001B[1;32m    404\u001B[0m \u001B[38;5;28;01melse\u001B[39;00m:\n\u001B[0;32m--> 405\u001B[0m     fid \u001B[38;5;241m=\u001B[39m stack\u001B[38;5;241m.\u001B[39menter_context(\u001B[38;5;28mopen\u001B[39m(os_fspath(file), \u001B[38;5;124m\"\u001B[39m\u001B[38;5;124mrb\u001B[39m\u001B[38;5;124m\"\u001B[39m))\n\u001B[1;32m    406\u001B[0m     own_fid \u001B[38;5;241m=\u001B[39m \u001B[38;5;28;01mTrue\u001B[39;00m\n\u001B[1;32m    408\u001B[0m \u001B[38;5;66;03m# Code to distinguish from NumPy binary files and pickles.\u001B[39;00m\n",
      "\u001B[0;31mFileNotFoundError\u001B[0m: [Errno 2] No such file or directory: 'combined_results/vit_b_16_test_fine_pred_BCE_lr0.0001_e18.npy'"
     ]
    }
   ],
   "source": [
    "test_true_fine_data = np.load(test_true_fine_path)"
   ],
   "metadata": {
    "collapsed": false,
    "ExecuteTime": {
     "end_time": "2024-02-14T18:46:25.735920Z",
     "start_time": "2024-02-14T18:46:25.702426Z"
    }
   },
   "id": "b9ce5667f29a7dbb",
   "execution_count": 8
  },
  {
   "cell_type": "code",
   "outputs": [
    {
     "data": {
      "text/plain": "{'Air Defense': ['30N6E', 'Iskander', 'Pantsir-S1', 'Rs-24'],\n 'BMP': ['BMP-1', 'BMP-2', 'BMP-T15'],\n 'BTR': ['BRDM', 'BTR-60', 'BTR-70', 'BTR-80'],\n 'Tank': ['T-14', 'T-62', 'T-64', 'T-72', 'T-80', 'T-90'],\n 'Self Propelled Artillery': ['2S19_MSTA',\n  'BM-30',\n  'D-30',\n  'Tornado',\n  'TOS-1'],\n 'BMD': ['BMD'],\n 'MT_LB': ['MT_LB']}"
     },
     "execution_count": 24,
     "metadata": {},
     "output_type": "execute_result"
    }
   ],
   "source": [
    "data_preprocessing.coarse_to_fine"
   ],
   "metadata": {
    "collapsed": false,
    "ExecuteTime": {
     "end_time": "2024-02-14T20:12:00.810624Z",
     "start_time": "2024-02-14T20:12:00.801385Z"
    }
   },
   "id": "d30ceccdccdd58a6",
   "execution_count": 24
  },
  {
   "cell_type": "code",
   "execution_count": 34,
   "id": "78309ec0",
   "metadata": {},
   "outputs": [],
   "source": [
    "g_fine, g_coarse = data_preprocessing.granularities.values()\n",
    "fg_l, cg_l = list(data_preprocessing.fine_grain_labels.values()), list(data_preprocessing.coarse_grain_labels.values())\n"
   ]
  },
  {
   "cell_type": "code",
   "execution_count": 32,
   "id": "c6693c1a",
   "metadata": {},
   "outputs": [
    {
     "name": "stdout",
     "output_type": "stream",
     "text": [
      "[\"pred: (2S19_MSTA, Self Propelled Artillery)\", \"true: (2S19_MSTA, Self Propelled Artillery)\"]\n",
      "[\"pred: (2S19_MSTA, Self Propelled Artillery)\", \"true: (2S19_MSTA, Self Propelled Artillery)\"]\n",
      "[\"pred: (2S19_MSTA, Self Propelled Artillery)\", \"true: (2S19_MSTA, Self Propelled Artillery)\"]\n",
      "[\"pred: (2S19_MSTA, Self Propelled Artillery)\", \"true: (2S19_MSTA, Self Propelled Artillery)\"]\n",
      "[\"pred: (2S19_MSTA, Self Propelled Artillery)\", \"true: (2S19_MSTA, Self Propelled Artillery)\"]\n",
      "[\"pred: (T-80, Tank)\", \"true: (2S19_MSTA, Self Propelled Artillery)\"]\n",
      "[\"pred: (2S19_MSTA, Self Propelled Artillery)\", \"true: (2S19_MSTA, Self Propelled Artillery)\"]\n",
      "[\"pred: (2S19_MSTA, Self Propelled Artillery)\", \"true: (2S19_MSTA, Self Propelled Artillery)\"]\n",
      "[\"pred: (2S19_MSTA, Self Propelled Artillery)\", \"true: (2S19_MSTA, Self Propelled Artillery)\"]\n",
      "[\"pred: (BMP-2, BMP)\", \"true: (2S19_MSTA, Self Propelled Artillery)\"]\n",
      "[\"pred: (30N6E, Air Defense)\", \"true: (30N6E, Air Defense)\"]\n",
      "[\"pred: (Rs-24, Air Defense)\", \"true: (30N6E, Air Defense)\"]\n",
      "[\"pred: (30N6E, Air Defense)\", \"true: (30N6E, Air Defense)\"]\n",
      "[\"pred: (Rs-24, Air Defense)\", \"true: (30N6E, Air Defense)\"]\n",
      "[\"pred: (30N6E, Air Defense)\", \"true: (30N6E, Air Defense)\"]\n",
      "[\"pred: (30N6E, Air Defense)\", \"true: (30N6E, Air Defense)\"]\n",
      "[\"pred: (BM-30, Self Propelled Artillery)\", \"true: (30N6E, Air Defense)\"]\n",
      "[\"pred: (30N6E, Air Defense)\", \"true: (30N6E, Air Defense)\"]\n",
      "[\"pred: (30N6E, Air Defense)\", \"true: (30N6E, Air Defense)\"]\n",
      "[\"pred: (30N6E, Air Defense)\", \"true: (30N6E, Air Defense)\"]\n",
      "[\"pred: (BM-30, Self Propelled Artillery)\", \"true: (BM-30, Self Propelled Artillery)\"]\n",
      "[\"pred: (BM-30, Self Propelled Artillery)\", \"true: (BM-30, Self Propelled Artillery)\"]\n",
      "[\"pred: (BM-30, Self Propelled Artillery)\", \"true: (BM-30, Self Propelled Artillery)\"]\n",
      "[\"pred: (BM-30, Self Propelled Artillery)\", \"true: (BM-30, Self Propelled Artillery)\"]\n",
      "[\"pred: (BM-30, Self Propelled Artillery)\", \"true: (BM-30, Self Propelled Artillery)\"]\n",
      "[\"pred: (Pantsir-S1, Air Defense)\", \"true: (BM-30, Self Propelled Artillery)\"]\n",
      "[\"pred: (BM-30, Self Propelled Artillery)\", \"true: (BM-30, Self Propelled Artillery)\"]\n",
      "[\"pred: (BM-30, Self Propelled Artillery)\", \"true: (BM-30, Self Propelled Artillery)\"]\n",
      "[\"pred: (BM-30, Self Propelled Artillery)\", \"true: (BM-30, Self Propelled Artillery)\"]\n",
      "[\"pred: (BM-30, Self Propelled Artillery)\", \"true: (BM-30, Self Propelled Artillery)\"]\n"
     ]
    }
   ],
   "source": [
    "import numpy as np\n",
    "\n",
    "# Sample data (assuming fg_l and cg_l are defined elsewhere)\n",
    "# check_train_fine_pred = np.array([0, 2, 1])\n",
    "# check_train_coarse_pred = np.array([0, 1, 0])\n",
    "# check_train_fine_true = np.array([2, 1, 0])\n",
    "# check_train_coarse_true = np.array([1, 0, 2])\n",
    "# fg_l = [\"2S19_MSTA\", \"BMP-3\", \"T-72B\"]\n",
    "# cg_l = [\"Tank\", \"Infantry fighting vehicle\", \"Self Propelled Artillery\"]\n",
    "\n",
    "# Function to format prediction/ground truth pairs\n",
    "def format_pair(pred_fine, pred_coarse, true_fine, true_coarse):\n",
    "  max_pred_len = max([len(str(l)) for l in fg_l]) + max([len(str(l)) for l in cg_l]) + 10 \n",
    "  max_true_len = max([len(str(l)) for l in fg_l]) + max([len(str(l)) for l in cg_l]) + 10\n",
    "  pred_str = f\"pred: ({fg_l[pred_fine]}, {cg_l[pred_coarse]})\"\n",
    "  true_str = f\"true: ({fg_l[true_fine]}, {cg_l[true_coarse]})\"\n",
    "  pred_str += \" \" * (max_pred_len - len(pred_str))\n",
    "  true_str += \" \" * (max_true_len - len(true_str))\n",
    "  return f\"pred: ({fg_l[pred_fine]}, {cg_l[pred_coarse]})\", f\"true: ({fg_l[true_fine]}, {cg_l[true_coarse]})\"\n",
    "\n",
    "# Print information in desired format\n",
    "for i in range(len(check_train_fine_pred)):\n",
    "  pred_fine, pred_coarse = check_train_fine_pred[i], check_train_coarse_pred[i]\n",
    "  true_fine, true_coarse = check_train_fine_true[i], check_train_coarse_true[i]\n",
    "  pred_str, true_str = format_pair(pred_fine, pred_coarse, true_fine, true_coarse)\n",
    "  print(f'[\"{pred_str}\", \"{true_str}\"]')\n",
    "\n"
   ]
  },
  {
   "cell_type": "code",
   "execution_count": null,
   "id": "2f784848",
   "metadata": {},
   "outputs": [],
   "source": [
    "!python test_PyEDCR/test_get_where_train_fp_l.py"
   ]
  },
  {
   "cell_type": "code",
   "execution_count": null,
   "id": "215bbcd2",
   "metadata": {},
   "outputs": [],
   "source": []
  }
 ],
 "metadata": {
  "kernelspec": {
   "display_name": "Python 3",
   "language": "python",
   "name": "python3"
  },
  "language_info": {
   "codemirror_mode": {
    "name": "ipython",
    "version": 3
   },
   "file_extension": ".py",
   "mimetype": "text/x-python",
   "name": "python",
   "nbconvert_exporter": "python",
   "pygments_lexer": "ipython3",
   "version": "3.11.0"
  }
 },
 "nbformat": 4,
 "nbformat_minor": 5
}
