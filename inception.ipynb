{
 "cells": [
  {
   "cell_type": "code",
   "execution_count": 25,
   "outputs": [],
   "source": [
    "import os\n",
    "import torch\n",
    "import torchvision.transforms as transforms\n",
    "import torch.nn as nn\n",
    "from torch.utils.data import DataLoader\n",
    "import torch.optim as optim\n",
    "from torch.optim.lr_scheduler import StepLR\n",
    "from torchvision.models import inception_v3, Inception_V3_Weights\n",
    "from torchvision.datasets import ImageFolder\n",
    "import matplotlib.pyplot as plt\n",
    "import numpy as np\n",
    "from sklearn.metrics import accuracy_score, confusion_matrix, classification_report\n",
    "from time import time"
   ],
   "metadata": {
    "collapsed": false,
    "ExecuteTime": {
     "end_time": "2023-08-31T22:29:07.006346Z",
     "start_time": "2023-08-31T22:29:07.003417Z"
    }
   },
   "id": "c8f9463f88f6e289"
  },
  {
   "cell_type": "markdown",
   "source": [
    "# Loda data"
   ],
   "metadata": {
    "collapsed": false
   },
   "id": "b344793b0ba73d43"
  },
  {
   "cell_type": "code",
   "execution_count": 26,
   "outputs": [
    {
     "data": {
      "text/plain": "['Air Defense',\n 'BMD',\n 'BMP',\n 'BTR',\n 'MT_LB',\n 'Self Propelled Artillery',\n 'Tank']"
     },
     "execution_count": 26,
     "metadata": {},
     "output_type": "execute_result"
    }
   ],
   "source": [
    "batch_size = 26\n",
    "resize = (299,299)\n",
    "\n",
    "# Load Data\n",
    "\n",
    "data_transforms = {\n",
    "        'train': transforms.Compose([\n",
    "            transforms.RandomResizedCrop(max(resize)),\n",
    "            transforms.RandomHorizontalFlip(),\n",
    "            transforms.ToTensor(),\n",
    "            transforms.Normalize([0.485, 0.456, 0.406], [0.229, 0.224, 0.225])\n",
    "        ]),\n",
    "\n",
    "        'val': transforms.Compose([\n",
    "            #Higher scale-up for inception\n",
    "            transforms.Resize(int(max(resize)/224*256)),\n",
    "            transforms.CenterCrop(max(resize)),\n",
    "            transforms.ToTensor(),\n",
    "            transforms.Normalize([0.485, 0.456, 0.406], [0.229, 0.224, 0.225])\n",
    "        ]),\n",
    "    }\n",
    "\n",
    "class ImageFolderWithName(ImageFolder):\n",
    "    def __getitem__(self, index):\n",
    "        path, target = self.samples[index]\n",
    "        image = self.loader(path)\n",
    "        if self.transform is not None:\n",
    "            image = self.transform(image)\n",
    "        if self.target_transform is not None:\n",
    "            target = self.target_transform(target)\n",
    "        name = os.path.basename(path)\n",
    "        return image, target, name\n",
    "\n",
    "data_dir = os.getcwd() + '/data/LocalDataset'\n",
    "datasets = {x: ImageFolderWithName(os.path.join(data_dir, x), data_transforms[x])\n",
    "            for x in ['train', 'val']}\n",
    "loaders = {x: DataLoader(datasets[x], \n",
    "                         batch_size=batch_size, \n",
    "                         shuffle=True) for x in ['train', 'val']}\n",
    "sizes = {x: len(datasets[x]) for x in ['train', 'val']}\n",
    "train_loader, test_loader = loaders['train'], loaders['val']\n",
    "\n",
    "assert datasets['train'].classes == datasets['val'].classes\n",
    "dset_classes = datasets['train'].classes\n",
    "dset_classes"
   ],
   "metadata": {
    "collapsed": false,
    "ExecuteTime": {
     "end_time": "2023-08-31T22:29:08.286086Z",
     "start_time": "2023-08-31T22:29:08.257488Z"
    }
   },
   "id": "21bdaaeafa6a988"
  },
  {
   "cell_type": "markdown",
   "source": [
    "# Model"
   ],
   "metadata": {
    "collapsed": false
   },
   "id": "d46f6a0d535caf8d"
  },
  {
   "cell_type": "code",
   "execution_count": 29,
   "outputs": [
    {
     "data": {
      "text/plain": "device(type='mps')"
     },
     "execution_count": 29,
     "metadata": {},
     "output_type": "execute_result"
    }
   ],
   "source": [
    "class InceptionModel(nn.Module):\n",
    "    def __init__(self):\n",
    "        super(InceptionModel, self).__init__()\n",
    "        self.inception = inception_v3(weights=Inception_V3_Weights.DEFAULT)\n",
    "        num_features = self.inception.fc.in_features\n",
    "        self.inception.fc = nn.Linear(num_features, 24)\n",
    "\n",
    "    def forward(self, x):\n",
    "        x = self.inception(x)\n",
    "        return x\n",
    "\n",
    "model = InceptionModel()\n",
    "\n",
    "device = torch.device(\"mps\" if torch.backends.mps.is_available() else 'cpu')\n",
    "device"
   ],
   "metadata": {
    "collapsed": false,
    "ExecuteTime": {
     "end_time": "2023-08-31T22:30:39.053633Z",
     "start_time": "2023-08-31T22:30:38.849679Z"
    }
   },
   "id": "508787714820c407"
  },
  {
   "cell_type": "markdown",
   "source": [
    "# Train"
   ],
   "metadata": {
    "collapsed": false
   },
   "id": "e466b4686ef02cdf"
  },
  {
   "cell_type": "code",
   "execution_count": 30,
   "id": "initial_id",
   "metadata": {
    "collapsed": true,
    "ExecuteTime": {
     "end_time": "2023-08-31T22:46:42.216596Z",
     "start_time": "2023-08-31T22:30:41.646231Z"
    }
   },
   "outputs": [
    {
     "name": "stdout",
     "output_type": "stream",
     "text": [
      "Epoch 1 done in 20.99315595626831 sec, \n",
      "loss: 1.509\n",
      "accuracy: 0.45925925925925926\n",
      "Epoch 2 done in 19.60509204864502 sec, \n",
      "loss: 1.287\n",
      "accuracy: 0.5419753086419753\n",
      "Epoch 3 done in 19.647149085998535 sec, \n",
      "loss: 1.144\n",
      "accuracy: 0.5962962962962963\n",
      "Epoch 4 done in 18.96397113800049 sec, \n",
      "loss: 1.014\n",
      "accuracy: 0.6518518518518519\n",
      "Epoch 5 done in 18.41010618209839 sec, \n",
      "loss: 0.922\n",
      "accuracy: 0.6802469135802469\n",
      "Epoch 6 done in 18.54065704345703 sec, \n",
      "loss: 0.837\n",
      "accuracy: 0.7061728395061728\n",
      "Epoch 7 done in 18.52857780456543 sec, \n",
      "loss: 0.847\n",
      "accuracy: 0.7222222222222222\n",
      "Epoch 8 done in 18.45171594619751 sec, \n",
      "loss: 0.671\n",
      "accuracy: 0.7777777777777778\n",
      "Epoch 9 done in 18.177045106887817 sec, \n",
      "loss: 0.524\n",
      "accuracy: 0.8345679012345679\n",
      "Epoch 10 done in 18.31115436553955 sec, \n",
      "loss: 0.527\n",
      "accuracy: 0.8160493827160494\n",
      "Epoch 11 done in 18.809476852416992 sec, \n",
      "loss: 0.435\n",
      "accuracy: 0.8580246913580247\n",
      "Epoch 12 done in 508.9204680919647 sec, \n",
      "loss: 0.478\n",
      "accuracy: 0.8432098765432099\n",
      "Epoch 13 done in 19.00822901725769 sec, \n",
      "loss: 0.4\n",
      "accuracy: 0.8604938271604938\n",
      "Epoch 14 done in 18.54782223701477 sec, \n",
      "loss: 0.438\n",
      "accuracy: 0.8518518518518519\n",
      "Epoch 15 done in 18.60174322128296 sec, \n",
      "loss: 0.357\n",
      "accuracy: 0.8753086419753087\n",
      "Epoch 16 done in 17.918413877487183 sec, \n",
      "loss: 0.37\n",
      "accuracy: 0.8691358024691358\n",
      "Epoch 17 done in 18.054382801055908 sec, \n",
      "loss: 0.397\n",
      "accuracy: 0.8530864197530864\n",
      "Epoch 18 done in 18.459541082382202 sec, \n",
      "loss: 0.381\n",
      "accuracy: 0.8814814814814815\n",
      "Epoch 19 done in 18.758014917373657 sec, \n",
      "loss: 0.363\n",
      "accuracy: 0.8790123456790123\n",
      "Epoch 20 done in 18.72273015975952 sec, \n",
      "loss: 0.332\n",
      "accuracy: 0.8901234567901235\n",
      "Epoch 21 done in 19.52245783805847 sec, \n",
      "loss: 0.403\n",
      "accuracy: 0.8753086419753087\n",
      "Epoch 22 done in 18.85987615585327 sec, \n",
      "loss: 0.347\n",
      "accuracy: 0.8765432098765432\n",
      "Epoch 23 done in 18.946241855621338 sec, \n",
      "loss: 0.428\n",
      "accuracy: 0.8666666666666667\n",
      "Epoch 24 done in 18.74922800064087 sec, \n",
      "loss: 0.36\n",
      "accuracy: 0.891358024691358\n",
      "Epoch 25 done in 18.85689091682434 sec, \n",
      "loss: 0.365\n",
      "accuracy: 0.8765432098765432\n"
     ]
    }
   ],
   "source": [
    "criterion = nn.CrossEntropyLoss()\n",
    "lr = 0.001\n",
    "optimizer = optim.Adam(params=model.parameters(), \n",
    "                       lr=lr)\n",
    "scheduler_step_size = 7\n",
    "scheduler_gamma = 0.1\n",
    "scheduler = StepLR(optimizer=optimizer, \n",
    "                   step_size=scheduler_step_size, \n",
    "                   gamma=scheduler_gamma)\n",
    "train_loss = []\n",
    "train_acc = []\n",
    "train_precision = []\n",
    "train_recall = []\n",
    "prediction = []\n",
    "ground_truth = []\n",
    "model.to(device)\n",
    "\n",
    "num_epochs = 25\n",
    "\n",
    "for epoch in range(num_epochs):\n",
    "    t1 = time()\n",
    "    running_loss = 0.0\n",
    "    prediction = []\n",
    "    ground_truth = []\n",
    "    for i, data in enumerate(train_loader, 0):\n",
    "        inputs, labels = data[0].to(device), data[1].to(device)\n",
    "        optimizer.zero_grad()\n",
    "        outputs = model(inputs)\n",
    "        loss = criterion(outputs[0], labels)\n",
    "        loss.backward()\n",
    "        optimizer.step()\n",
    "        running_loss += loss.item()\n",
    "\n",
    "        _, predicted = torch.max(outputs[0], 1)\n",
    "        ground_truth += labels.tolist()\n",
    "        prediction += predicted.tolist()\n",
    "\n",
    "    print(f'Epoch {epoch + 1}/{num_epochs} done in {time() - t1} sec, '\n",
    "          f'\\nloss: {round(running_loss / len(train_loader),3)}')\n",
    "    true_labels = np.array(ground_truth)\n",
    "    predicted_labels = np.array(prediction)\n",
    "    acc = accuracy_score(true_labels, predicted_labels)\n",
    "    print(f'accuracy: {acc}')\n",
    "    train_acc.append(acc)\n",
    "    train_loss.append(running_loss / len(train_loader))\n",
    "    scheduler.step()\n",
    "    print()\n",
    "\n",
    "np.save('train_acc.npy', train_acc)\n",
    "np.save('train_loss.npy', train_loss)"
   ]
  },
  {
   "cell_type": "markdown",
   "source": [
    "## Train Loss"
   ],
   "metadata": {
    "collapsed": false
   },
   "id": "3a6d7a08c6627856"
  },
  {
   "cell_type": "code",
   "execution_count": 40,
   "outputs": [
    {
     "data": {
      "text/plain": "<Figure size 640x480 with 1 Axes>",
      "image/png": "[encoded data removed]"
     },
     "metadata": {},
     "output_type": "display_data"
    }
   ],
   "source": [
    "train_loss = np.load('train_loss.npy')\n",
    "\n",
    "plt.plot(train_loss, label='Training Loss')\n",
    "plt.grid()\n",
    "plt.title('Training Loss')\n",
    "plt.xlabel('Epoch')\n",
    "plt.ylabel('Loss');"
   ],
   "metadata": {
    "collapsed": false,
    "ExecuteTime": {
     "end_time": "2023-08-31T22:56:13.989917Z",
     "start_time": "2023-08-31T22:56:13.879386Z"
    }
   },
   "id": "5b6f7922a7fe5073"
  },
  {
   "cell_type": "markdown",
   "source": [
    "## Train Accuracy"
   ],
   "metadata": {
    "collapsed": false
   },
   "id": "c9ace14478c668e0"
  },
  {
   "cell_type": "code",
   "execution_count": 41,
   "outputs": [
    {
     "data": {
      "text/plain": "<Figure size 640x480 with 1 Axes>",
      "image/png": "[encoded data removed]"
     },
     "metadata": {},
     "output_type": "display_data"
    }
   ],
   "source": [
    "train_acc = np.load('train_acc.npy')\n",
    "\n",
    "plt.plot(train_acc, label='Training Accuracy')\n",
    "plt.grid()\n",
    "plt.title('Training Accuracy')\n",
    "plt.xlabel('Epoch')\n",
    "plt.ylabel('Accuracy');"
   ],
   "metadata": {
    "collapsed": false,
    "ExecuteTime": {
     "end_time": "2023-08-31T22:56:15.058808Z",
     "start_time": "2023-08-31T22:56:14.949480Z"
    }
   },
   "id": "968292bc007f56f2"
  },
  {
   "cell_type": "markdown",
   "source": [
    "# Test"
   ],
   "metadata": {
    "collapsed": false
   },
   "id": "21a363be684635c8"
  },
  {
   "cell_type": "code",
   "execution_count": 49,
   "outputs": [
    {
     "name": "stdout",
     "output_type": "stream",
     "text": [
      "Accuracy of the network on 236 test images is 0.8814\n"
     ]
    }
   ],
   "source": [
    "model.eval()\n",
    "correct = 0\n",
    "total = 0\n",
    "prediction = []\n",
    "ground_truth = []\n",
    "name_list = []\n",
    "\n",
    "with torch.no_grad():\n",
    "    for i, data in enumerate(test_loader):\n",
    "        pred_temp = []\n",
    "        truth_temp = []\n",
    "        name_temp = []\n",
    "        images, labels, names = data[0].to(device), data[1].to(device), data[2] \n",
    "        outputs = model(images)\n",
    "        _, predicted = torch.max(outputs.data, 1)\n",
    "        ground_truth += labels.tolist()\n",
    "        prediction += predicted.tolist()\n",
    "        name_list += names # Collect the name values\n",
    "        total += labels.size(0)\n",
    "        correct += (predicted == labels).sum().item()\n",
    "        pred_temp += predicted.tolist()\n",
    "        truth_temp += labels.tolist()\n",
    "        name_temp += names\n",
    "\n",
    "print(f'Accuracy of the network on {total} test images is '\n",
    "      f'{round(accuracy_score(y_true=ground_truth, y_pred=prediction), 4)}')"
   ],
   "metadata": {
    "collapsed": false,
    "ExecuteTime": {
     "end_time": "2023-08-31T23:23:49.177997Z",
     "start_time": "2023-08-31T23:23:46.944458Z"
    }
   },
   "id": "3425a110df6284ac"
  },
  {
   "cell_type": "code",
   "execution_count": 51,
   "outputs": [
    {
     "name": "stdout",
     "output_type": "stream",
     "text": [
      "                          precision    recall  f1-score   support\n",
      "\n",
      "             Air Defense       0.87      0.93      0.90        14\n",
      "                     BMD       0.80      0.73      0.76        22\n",
      "                     BMP       0.86      0.98      0.92        58\n",
      "                     BTR       0.96      0.79      0.87        34\n",
      "                   MT_LB       0.91      0.95      0.93        21\n",
      "Self Propelled Artillery       0.90      0.69      0.78        26\n",
      "                    Tank       0.88      0.93      0.90        61\n",
      "\n",
      "                accuracy                           0.88       236\n",
      "               macro avg       0.88      0.86      0.87       236\n",
      "            weighted avg       0.88      0.88      0.88       236\n"
     ]
    }
   ],
   "source": [
    "print(classification_report(ground_truth, prediction, target_names=dset_classes))"
   ],
   "metadata": {
    "collapsed": false,
    "ExecuteTime": {
     "end_time": "2023-08-31T23:25:21.061248Z",
     "start_time": "2023-08-31T23:25:21.047234Z"
    }
   },
   "id": "cfe459d9ba948587"
  },
  {
   "cell_type": "code",
   "execution_count": null,
   "outputs": [],
   "source": [],
   "metadata": {
    "collapsed": false
   },
   "id": "82500ca00e9c759"
  }
 ],
 "metadata": {
  "kernelspec": {
   "display_name": "Python 3",
   "language": "python",
   "name": "python3"
  },
  "language_info": {
   "codemirror_mode": {
    "name": "ipython",
    "version": 2
   },
   "file_extension": ".py",
   "mimetype": "text/x-python",
   "name": "python",
   "nbconvert_exporter": "python",
   "pygments_lexer": "ipython2",
   "version": "2.7.6"
  }
 },
 "nbformat": 4,
 "nbformat_minor": 5
}
