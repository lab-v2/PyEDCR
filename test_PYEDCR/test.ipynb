{
 "cells": [
  {
   "cell_type": "code",
   "execution_count": 5,
   "id": "initial_id",
   "metadata": {
    "collapsed": true,
    "ExecuteTime": {
     "end_time": "2024-02-11T02:38:51.986865Z",
     "start_time": "2024-02-11T02:38:51.982495Z"
    }
   },
   "source": [
    "import numpy as np\n",
    "import data_preprocessing\n",
    "import PyEDCR"
   ],
   "outputs": []
  },
  {
   "cell_type": "code",
   "source": [
    "# test_pred_fine = np.load('test/test_pred_fine.npy')\n",
    "# test_pred_coarse = np.load('test/test_pred_coarse.npy')\n",
    "\n",
    "K = 20\n",
    "np.save('test/train_pred_fine.npy', np.load('combined_results/vit_b_16_train_fine_pred_BCE_lr0.0001_e19.npy')[:K])\n",
    "np.save('test/train_pred_coarse.npy', np.load('combined_results/vit_b_16_train_coarse_pred_BCE_lr0.0001_e19.npy')[:K])\n",
    "np.save('test/test_pred_fine.npy', np.load('combined_results/vit_b_16_test_fine_pred_BCE_lr0.0001_e19.npy')[:K])\n",
    "np.save('test/test_pred_coarse.npy', np.load('combined_results/vit_b_16_test_coarse_pred_BCE_lr0.0001_e19.npy')[:K])\n",
    "\n",
    "train_pred_fine = np.load('test/train_pred_fine.npy')\n",
    "train_pred_coarse = np.load('test/train_pred_coarse.npy')\n",
    "\n",
    "# test_true_fine, test_true_coarse = data_preprocessing.get_ground_truths(test=True,\n",
    "#                                                                         K=len(test_pred_fine))\n",
    "train_true_fine, train_true_coarse = data_preprocessing.get_ground_truths(test=False,\n",
    "                                                                        K=len(train_pred_fine))\n",
    "\n",
    "[(f'pred: {(data_preprocessing.fine_grain_classes_str[fine_prediction], data_preprocessing.coarse_grain_classes_str[coarse_prediction])}, '\n",
    "  f'true: {(data_preprocessing.fine_grain_classes_str[fine_gt], data_preprocessing.coarse_grain_classes_str[coarse_gt])}')\n",
    " for fine_prediction, coarse_prediction, fine_gt, coarse_gt in zip(train_pred_fine, train_pred_coarse, train_true_fine, train_true_coarse)]"
   ],
   "metadata": {
    "collapsed": false,
    "ExecuteTime": {
     "end_time": "2024-02-11T03:10:07.200283Z",
     "start_time": "2024-02-11T03:10:07.193753Z"
    }
   },
   "id": "cf8c8ddf5d48c8ea",
   "execution_count": 18,
   "outputs": []
  },
  {
   "cell_type": "code",
   "source": [
    "data_preprocessing.coarse_to_fine"
   ],
   "metadata": {
    "collapsed": false,
    "ExecuteTime": {
     "end_time": "2024-02-11T02:33:14.266324Z",
     "start_time": "2024-02-11T02:33:14.262340Z"
    }
   },
   "id": "9d5e2854e23231c2",
   "execution_count": 2,
   "outputs": []
  },
  {
   "cell_type": "code",
   "source": [
    "g_fine, g_coarse = data_preprocessing.granularities\n",
    "\n",
    "l_tank = data_preprocessing.get_labels(g_coarse)[data_preprocessing.coarse_grain_classes_str.index('Tank')]\n",
    "l_SPA = data_preprocessing.get_labels(g_coarse)[data_preprocessing.coarse_grain_classes_str.index('Self Propelled Artillery')]\n",
    "l_BMP = data_preprocessing.get_labels(g_coarse)[data_preprocessing.coarse_grain_classes_str.index('BMP')]\n",
    "\n",
    "l_Tornado = data_preprocessing.get_labels(g_fine)[data_preprocessing.fine_grain_classes_str.index('Tornado')]\n",
    "l_BMP_1 = data_preprocessing.get_labels(g_fine)[data_preprocessing.fine_grain_classes_str.index('BMP-1')]\n",
    "l_2S19_MSTA = data_preprocessing.get_labels(g_fine)[data_preprocessing.fine_grain_classes_str.index('2S19_MSTA')]\n",
    "\n",
    "pred_Tornado = PyEDCR.EDCR.PredCondition(l=l_Tornado)\n",
    "pred_BMP_1 = PyEDCR.EDCR.PredCondition(l=l_BMP_1)\n",
    "pred_2S19_MSTA = PyEDCR.EDCR.PredCondition(l=l_2S19_MSTA)\n",
    "\n",
    "CC_l = {(pred_Tornado, l_SPA), (pred_BMP_1, l_BMP), (pred_2S19_MSTA, l_SPA)}\n",
    "\n",
    "edcr = PyEDCR.EDCR.test(epsilon=0.1, K=20)\n",
    "# edcr.get_CON_l(l=l_SPA, CC_l=CC_l)"
   ],
   "metadata": {
    "collapsed": false,
    "ExecuteTime": {
     "end_time": "2024-02-11T02:48:50.084281Z",
     "start_time": "2024-02-11T02:48:50.007788Z"
    }
   },
   "id": "b6a3a8831c5e2707",
   "execution_count": 15,
   "outputs": []
  },
  {
   "cell_type": "code",
   "source": [],
   "metadata": {
    "collapsed": false
   },
   "id": "314e5b24f2a862db",
   "execution_count": null,
   "outputs": []
  }
 ],
 "metadata": {
  "kernelspec": {
   "display_name": "Python 3",
   "language": "python",
   "name": "python3"
  },
  "language_info": {
   "codemirror_mode": {
    "name": "ipython",
    "version": 2
   },
   "file_extension": ".py",
   "mimetype": "text/x-python",
   "name": "python",
   "nbconvert_exporter": "python",
   "pygments_lexer": "ipython2",
   "version": "2.7.6"
  }
 },
 "nbformat": 4,
 "nbformat_minor": 5
}
