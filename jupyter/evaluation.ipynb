{
 "cells": [
  {
   "cell_type": "code",
   "id": "initial_id",
   "metadata": {
    "collapsed": true,
    "ExecuteTime": {
     "end_time": "2024-05-01T23:15:40.194796Z",
     "start_time": "2024-05-01T23:15:38.274164Z"
    }
   },
   "source": [
    "import os\n",
    "import numpy as np\n",
    "\n",
    "import data_preprocessing\n",
    "import neural_metrics\n",
    "import utils"
   ],
   "outputs": [],
   "execution_count": 1
  },
  {
   "metadata": {
    "ExecuteTime": {
     "end_time": "2024-05-01T23:24:03.777467Z",
     "start_time": "2024-05-01T23:24:03.765089Z"
    }
   },
   "cell_type": "code",
   "source": [
    "data_str = 'imagenet'\n",
    "binary_num_epochs = 5\n",
    "main_model_name = 'dinov2_vits14'\n",
    "\n",
    "preprocessor = data_preprocessing.DataPreprocessor(data_str=data_str)\n",
    "test_fine_true = preprocessor.test_true_fine_data\n",
    "test_coarse_true = preprocessor.test_true_coarse_data\n",
    "train_fine_true = preprocessor.train_true_fine_data\n",
    "train_coarse_true = preprocessor.train_true_coarse_data\n",
    "\n",
    "binary_results_path = 'binary_results'\n",
    "binary_l_strs = list({f for f in os.listdir('binary_results') if f.startswith(f'{data_str}_{main_model_name}')})\n",
    "len(binary_l_strs)"
   ],
   "id": "c6c46f0ed546ef9e",
   "outputs": [
    {
     "data": {
      "text/plain": [
       "98"
      ]
     },
     "execution_count": 7,
     "metadata": {},
     "output_type": "execute_result"
    }
   ],
   "execution_count": 7
  },
  {
   "metadata": {
    "ExecuteTime": {
     "end_time": "2024-05-01T23:27:32.620353Z",
     "start_time": "2024-05-01T23:27:31.266976Z"
    }
   },
   "cell_type": "code",
   "source": [
    "for name in binary_l_strs:\n",
    "    curr_path = fr'{binary_results_path}/{name}'\n",
    "    curr_data = np.load(curr_path)\n",
    "    binary_num_epochs = 5\n",
    "    l_str = name.split(f'e{binary_num_epochs - 1}_')[-1].replace('.npy', '')\n",
    "    is_fine = l_str in preprocessor.fine_grain_classes_str\n",
    "    l_str_index = getattr(preprocessor, \n",
    "                          'fine_grain_classes_str' if is_fine else 'coarse_grain_classes_str').index(l_str) \n",
    "    test = len(curr_data) == len(test_coarse_true)\n",
    "    true_values = (test_fine_true if is_fine else test_coarse_true) if test else (train_fine_true if is_fine else train_coarse_true)\n",
    "    binary_true = np.where(true_values == l_str_index, 1, 0)\n",
    "    accuracy, f1, precision, recall = neural_metrics.get_individual_metrics(pred_data=curr_data,\n",
    "                                                                            true_data=binary_true)\n",
    "    print(f'class: {l_str}; '\n",
    "          f'accuracy: {accuracy:.2f}, '\n",
    "          f'f1: {f1:.2f}, '\n",
    "          f'precision: {precision:.2f}, '\n",
    "          f'recall: {recall:.2f}')\n",
    "    \n",
    "    assert f1 > 0.7"
   ],
   "id": "2e6fb0f4abdcfb16",
   "outputs": [
    {
     "name": "stdout",
     "output_type": "stream",
     "text": [
      "class: hermit crab; accuracy: 0.98, f1: 0.87, precision: 0.80, recall: 0.99\n",
      "class: garden spider, Aranea diademata; accuracy: 0.98, f1: 0.86, precision: 0.79, recall: 0.97\n",
      "class: black grouse; accuracy: 0.99, f1: 0.94, precision: 0.92, recall: 0.97\n",
      "class: whiptail, whiptail lizard; accuracy: 1.00, f1: 0.97, precision: 0.98, recall: 0.97\n",
      "class: hammerhead, hammerhead shark; accuracy: 0.99, f1: 0.94, precision: 0.90, recall: 0.99\n",
      "class: crab; accuracy: 0.99, f1: 0.96, precision: 0.94, recall: 0.98\n",
      "class: wolf spider, hunting spider; accuracy: 0.99, f1: 0.92, precision: 0.88, recall: 0.97\n",
      "class: black grouse; accuracy: 0.98, f1: 0.86, precision: 0.79, recall: 0.98\n",
      "class: night snake, Hypsiglena torquata; accuracy: 0.97, f1: 0.82, precision: 0.74, recall: 0.98\n",
      "class: flamingo; accuracy: 0.98, f1: 0.82, precision: 0.75, recall: 0.97\n",
      "class: agama; accuracy: 0.97, f1: 0.81, precision: 0.74, recall: 0.98\n",
      "class: shark; accuracy: 0.99, f1: 0.96, precision: 0.93, recall: 0.99\n",
      "class: rock crab, Cancer irroratus; accuracy: 0.97, f1: 0.78, precision: 0.71, recall: 0.93\n",
      "class: hognose snake, puff adder, sand viper; accuracy: 0.99, f1: 0.93, precision: 0.90, recall: 0.96\n",
      "class: tiger shark, Galeocerdo cuvieri; accuracy: 0.99, f1: 0.89, precision: 0.83, recall: 0.99\n",
      "class: peacock; accuracy: 0.99, f1: 0.93, precision: 0.88, recall: 0.99\n",
      "class: magpie; accuracy: 1.00, f1: 0.97, precision: 0.95, recall: 0.99\n",
      "class: macaw; accuracy: 1.00, f1: 0.98, precision: 0.98, recall: 0.99\n",
      "class: snake; accuracy: 0.92, f1: 0.90, precision: 0.88, recall: 0.93\n",
      "class: spider; accuracy: 0.94, f1: 0.88, precision: 0.83, recall: 0.94\n",
      "class: Komodo dragon, Komodo lizard, dragon lizard, giant lizard, Varanus komodoensis; accuracy: 1.00, f1: 0.95, precision: 0.92, recall: 0.99\n",
      "class: leatherback turtle, leatherback, leathery turtle, Dermochelys coriacea; accuracy: 1.00, f1: 0.95, precision: 0.92, recall: 0.99\n",
      "class: sidewinder, horned rattlesnake, Crotalus cerastes; accuracy: 0.98, f1: 0.82, precision: 0.75, recall: 0.98\n",
      "class: common iguana, iguana, Iguana iguana; accuracy: 0.99, f1: 0.90, precision: 0.84, recall: 0.99\n",
      "class: king snake, kingsnake; accuracy: 0.99, f1: 0.91, precision: 0.86, recall: 0.99\n",
      "class: tarantula; accuracy: 0.99, f1: 0.90, precision: 0.87, recall: 0.95\n",
      "class: green snake, grass snake; accuracy: 0.99, f1: 0.88, precision: 0.83, recall: 0.95\n",
      "class: spider; accuracy: 0.94, f1: 0.87, precision: 0.83, recall: 0.94\n",
      "class: garter snake, grass snake; accuracy: 0.97, f1: 0.79, precision: 0.72, recall: 0.95\n",
      "class: thunder snake, worm snake, Carphophis amoenus; accuracy: 0.97, f1: 0.78, precision: 0.71, recall: 0.97\n",
      "class: small fish; accuracy: 0.96, f1: 0.83, precision: 0.77, recall: 0.96\n",
      "class: whiptail, whiptail lizard; accuracy: 0.99, f1: 0.92, precision: 0.87, recall: 0.99\n",
      "class: crab; accuracy: 0.98, f1: 0.92, precision: 0.88, recall: 0.98\n",
      "class: indigo bunting, indigo finch, indigo bird, Passerina cyanea; accuracy: 1.00, f1: 0.99, precision: 0.98, recall: 1.00\n",
      "class: sea snake; accuracy: 0.99, f1: 0.92, precision: 0.87, recall: 0.98\n",
      "class: white stork, Ciconia ciconia; accuracy: 0.96, f1: 0.77, precision: 0.70, recall: 0.97\n",
      "class: mud turtle; accuracy: 0.98, f1: 0.83, precision: 0.75, recall: 0.96\n",
      "class: wolf spider, hunting spider; accuracy: 0.99, f1: 0.88, precision: 0.82, recall: 0.99\n",
      "class: lizard; accuracy: 0.97, f1: 0.92, precision: 0.89, recall: 0.97\n",
      "class: turtle; accuracy: 0.98, f1: 0.94, precision: 0.91, recall: 0.98\n",
      "class: leatherback turtle, leatherback, leathery turtle, Dermochelys coriacea; accuracy: 0.99, f1: 0.90, precision: 0.84, recall: 0.98\n",
      "class: thunder snake, worm snake, Carphophis amoenus; accuracy: 0.97, f1: 0.81, precision: 0.74, recall: 0.96\n",
      "class: common iguana, iguana, Iguana iguana; accuracy: 1.00, f1: 0.97, precision: 0.94, recall: 1.00\n",
      "class: indigo bunting, indigo finch, indigo bird, Passerina cyanea; accuracy: 0.99, f1: 0.94, precision: 0.90, recall: 0.99\n",
      "class: macaw; accuracy: 0.99, f1: 0.94, precision: 0.90, recall: 0.99\n",
      "class: tench, Tinca tinca; accuracy: 0.98, f1: 0.84, precision: 0.77, recall: 0.97\n",
      "class: Komodo dragon, Komodo lizard, dragon lizard, giant lizard, Varanus komodoensis; accuracy: 1.00, f1: 0.98, precision: 0.98, recall: 0.98\n",
      "class: hammerhead, hammerhead shark; accuracy: 1.00, f1: 0.98, precision: 0.96, recall: 1.00\n",
      "class: garter snake, grass snake; accuracy: 0.97, f1: 0.78, precision: 0.71, recall: 0.98\n",
      "class: sidewinder, horned rattlesnake, Crotalus cerastes; accuracy: 0.97, f1: 0.81, precision: 0.73, recall: 0.98\n",
      "class: great white shark, white shark, man-eater, man-eating shark, Carcharodon carcharias; accuracy: 0.99, f1: 0.90, precision: 0.83, recall: 0.99\n",
      "class: mud turtle; accuracy: 0.98, f1: 0.83, precision: 0.75, recall: 0.98\n",
      "class: sea snake; accuracy: 0.99, f1: 0.88, precision: 0.81, recall: 0.98\n",
      "class: bird; accuracy: 0.98, f1: 0.98, precision: 0.97, recall: 0.98\n",
      "class: goldfinch, Carduelis carduelis; accuracy: 1.00, f1: 0.96, precision: 0.93, recall: 0.99\n",
      "class: Dungeness crab, Cancer magister; accuracy: 1.00, f1: 0.96, precision: 0.94, recall: 0.98\n",
      "class: diamondback, diamondback rattlesnake, Crotalus adamanteus; accuracy: 0.96, f1: 0.76, precision: 0.69, recall: 0.96\n",
      "class: rock crab, Cancer irroratus; accuracy: 0.97, f1: 0.81, precision: 0.73, recall: 0.97\n",
      "class: loggerhead, loggerhead turtle, Caretta caretta; accuracy: 0.99, f1: 0.89, precision: 0.84, recall: 0.96\n",
      "class: bird; accuracy: 0.96, f1: 0.96, precision: 0.95, recall: 0.97\n",
      "class: garden spider, Aranea diademata; accuracy: 0.98, f1: 0.86, precision: 0.79, recall: 0.98\n",
      "class: barn spider, Araneus cavaticus; accuracy: 0.98, f1: 0.84, precision: 0.77, recall: 0.97\n",
      "class: agama; accuracy: 0.98, f1: 0.83, precision: 0.76, recall: 0.95\n",
      "class: night snake, Hypsiglena torquata; accuracy: 0.98, f1: 0.85, precision: 0.79, recall: 0.94\n",
      "class: king snake, kingsnake; accuracy: 1.00, f1: 0.96, precision: 0.94, recall: 0.97\n",
      "class: great white shark, white shark, man-eater, man-eating shark, Carcharodon carcharias; accuracy: 1.00, f1: 0.97, precision: 0.95, recall: 0.99\n",
      "class: goldfish, Carassius auratus; accuracy: 0.96, f1: 0.75, precision: 0.69, recall: 0.88\n",
      "class: great grey owl, great gray owl, Strix nebulosa; accuracy: 1.00, f1: 0.98, precision: 0.97, recall: 0.99\n",
      "class: bald eagle, American eagle, Haliaeetus leucocephalus; accuracy: 0.98, f1: 0.86, precision: 0.79, recall: 0.98\n",
      "class: hognose snake, puff adder, sand viper; accuracy: 0.99, f1: 0.88, precision: 0.82, recall: 0.98\n",
      "class: hummingbird; accuracy: 0.97, f1: 0.82, precision: 0.74, recall: 0.98\n",
      "class: goldfinch, Carduelis carduelis; accuracy: 0.99, f1: 0.90, precision: 0.85, recall: 0.99\n",
      "class: bald eagle, American eagle, Haliaeetus leucocephalus; accuracy: 0.98, f1: 0.84, precision: 0.76, recall: 0.98\n",
      "class: small fish; accuracy: 0.97, f1: 0.86, precision: 0.81, recall: 0.94\n",
      "class: vine snake; accuracy: 0.95, f1: 0.73, precision: 0.66, recall: 0.95\n",
      "class: hermit crab; accuracy: 0.99, f1: 0.92, precision: 0.87, recall: 0.99\n",
      "class: loggerhead, loggerhead turtle, Caretta caretta; accuracy: 0.98, f1: 0.87, precision: 0.80, recall: 0.99\n",
      "class: terrapin; accuracy: 0.95, f1: 0.71, precision: 0.65, recall: 0.91\n",
      "class: vine snake; accuracy: 0.96, f1: 0.72, precision: 0.66, recall: 0.88\n",
      "class: great grey owl, great gray owl, Strix nebulosa; accuracy: 0.99, f1: 0.94, precision: 0.90, recall: 0.99\n",
      "class: terrapin; accuracy: 0.95, f1: 0.72, precision: 0.66, recall: 0.97\n",
      "class: goldfish, Carassius auratus; accuracy: 0.95, f1: 0.74, precision: 0.67, recall: 0.96\n",
      "class: turtle; accuracy: 0.98, f1: 0.95, precision: 0.92, recall: 0.98\n",
      "class: shark; accuracy: 0.98, f1: 0.92, precision: 0.88, recall: 0.98\n",
      "class: magpie; accuracy: 0.99, f1: 0.91, precision: 0.86, recall: 0.99\n",
      "class: green snake, grass snake; accuracy: 0.98, f1: 0.83, precision: 0.76, recall: 0.98\n",
      "class: tarantula; accuracy: 0.99, f1: 0.88, precision: 0.81, recall: 0.98\n",
      "class: flamingo; accuracy: 0.97, f1: 0.80, precision: 0.72, recall: 0.98\n",
      "class: tench, Tinca tinca; accuracy: 0.97, f1: 0.79, precision: 0.71, recall: 0.97\n",
      "class: white stork, Ciconia ciconia; accuracy: 0.96, f1: 0.77, precision: 0.70, recall: 0.96\n",
      "class: hummingbird; accuracy: 0.98, f1: 0.85, precision: 0.79, recall: 0.97\n",
      "class: lizard; accuracy: 0.98, f1: 0.94, precision: 0.91, recall: 0.97\n",
      "class: snake; accuracy: 0.93, f1: 0.90, precision: 0.88, recall: 0.93\n",
      "class: peacock; accuracy: 1.00, f1: 0.99, precision: 0.98, recall: 1.00\n",
      "class: Dungeness crab, Cancer magister; accuracy: 0.99, f1: 0.91, precision: 0.85, recall: 0.99\n",
      "class: barn spider, Araneus cavaticus; accuracy: 0.98, f1: 0.87, precision: 0.81, recall: 0.95\n",
      "class: tiger shark, Galeocerdo cuvieri; accuracy: 1.00, f1: 0.96, precision: 0.93, recall: 0.99\n",
      "class: diamondback, diamondback rattlesnake, Crotalus adamanteus; accuracy: 0.97, f1: 0.80, precision: 0.72, recall: 0.98\n"
     ]
    }
   ],
   "execution_count": 17
  },
  {
   "metadata": {},
   "cell_type": "code",
   "outputs": [],
   "execution_count": null,
   "source": "",
   "id": "1905be4b647e733d"
  }
 ],
 "metadata": {
  "kernelspec": {
   "display_name": "Python 3",
   "language": "python",
   "name": "python3"
  },
  "language_info": {
   "codemirror_mode": {
    "name": "ipython",
    "version": 2
   },
   "file_extension": ".py",
   "mimetype": "text/x-python",
   "name": "python",
   "nbconvert_exporter": "python",
   "pygments_lexer": "ipython2",
   "version": "2.7.6"
  }
 },
 "nbformat": 4,
 "nbformat_minor": 5
}
