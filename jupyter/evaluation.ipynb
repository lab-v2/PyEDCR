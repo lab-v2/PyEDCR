{
 "cells": [
  {
   "cell_type": "code",
   "id": "initial_id",
   "metadata": {
    "collapsed": true,
    "ExecuteTime": {
     "end_time": "2024-04-28T00:32:23.033749Z",
     "start_time": "2024-04-28T00:32:22.612146Z"
    }
   },
   "source": [
    "import os\n",
    "import numpy as np\n",
    "\n",
    "import data_preprocessing\n",
    "import neural_metrics"
   ],
   "outputs": [],
   "execution_count": 32
  },
  {
   "metadata": {
    "ExecuteTime": {
     "end_time": "2024-04-28T00:47:01.350839Z",
     "start_time": "2024-04-28T00:47:01.331602Z"
    }
   },
   "cell_type": "code",
   "source": [
    "data_str = 'imagenet'\n",
    "\n",
    "preprocessor = data_preprocessing.DataPreprocessor(data_str=data_str)\n",
    "test_fine_true = preprocessor.test_true_fine_data\n",
    "\n",
    "binary_results_path = 'binary_results'\n",
    "binary_files = [f for f in os.listdir(binary_results_path) if f.startswith('imagenet_dinov2_vits14')]\n",
    "index = 1\n",
    "name = binary_files[index]\n",
    "path_0 = fr'{binary_results_path}/{name}'\n",
    "name"
   ],
   "id": "c6c46f0ed546ef9e",
   "outputs": [
    {
     "data": {
      "text/plain": [
       "'imagenet_dinov2_vits14_test_pred_BCE_lr0.0001_e0_peacock.npy'"
      ]
     },
     "execution_count": 51,
     "metadata": {},
     "output_type": "execute_result"
    }
   ],
   "execution_count": 51
  },
  {
   "metadata": {
    "ExecuteTime": {
     "end_time": "2024-04-28T00:46:29.214957Z",
     "start_time": "2024-04-28T00:46:29.209254Z"
    }
   },
   "cell_type": "code",
   "source": [
    "file_0 = np.load(path_0)\n",
    "l_str_0 = binary_files[index].split('e0_')[-1].rstrip('.npy')\n",
    "l_str_0_index = preprocessor.fine_grain_classes_str.index(l_str_0)\n",
    "l_str_0_index"
   ],
   "id": "bf9a17671e9e595e",
   "outputs": [
    {
     "data": {
      "text/plain": [
       "6"
      ]
     },
     "execution_count": 50,
     "metadata": {},
     "output_type": "execute_result"
    }
   ],
   "execution_count": 50
  },
  {
   "metadata": {
    "ExecuteTime": {
     "end_time": "2024-04-28T00:47:28.551616Z",
     "start_time": "2024-04-28T00:47:28.544798Z"
    }
   },
   "cell_type": "code",
   "source": [
    "binary_true_0 = np.where(test_fine_true == l_str_0_index, 1, 0)\n",
    "neural_metrics.get_individual_metrics(pred_data=file_0, true_data=binary_true_0)"
   ],
   "id": "da29e04419980ca2",
   "outputs": [
    {
     "data": {
      "text/plain": [
       "(0.9414285714285714, 0.7062633122535846, 0.643015652142279, 0.9602439024390244)"
      ]
     },
     "execution_count": 52,
     "metadata": {},
     "output_type": "execute_result"
    }
   ],
   "execution_count": 52
  },
  {
   "metadata": {},
   "cell_type": "code",
   "outputs": [],
   "execution_count": null,
   "source": "",
   "id": "2e6fb0f4abdcfb16"
  }
 ],
 "metadata": {
  "kernelspec": {
   "display_name": "Python 3",
   "language": "python",
   "name": "python3"
  },
  "language_info": {
   "codemirror_mode": {
    "name": "ipython",
    "version": 2
   },
   "file_extension": ".py",
   "mimetype": "text/x-python",
   "name": "python",
   "nbconvert_exporter": "python",
   "pygments_lexer": "ipython2",
   "version": "2.7.6"
  }
 },
 "nbformat": 4,
 "nbformat_minor": 5
}
