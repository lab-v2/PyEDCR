{
 "cells": [
  {
   "cell_type": "code",
   "id": "initial_id",
   "metadata": {
    "collapsed": true,
    "ExecuteTime": {
     "end_time": "2024-04-28T00:07:21.144588Z",
     "start_time": "2024-04-28T00:07:21.054270Z"
    }
   },
   "source": [
    "import os\n",
    "import numpy as np"
   ],
   "outputs": [],
   "execution_count": 6
  },
  {
   "metadata": {
    "ExecuteTime": {
     "end_time": "2024-04-28T00:08:46.567474Z",
     "start_time": "2024-04-28T00:08:46.561225Z"
    }
   },
   "cell_type": "code",
   "source": [
    "data_str = 'imagenet'\n",
    "main_model_name = new_model_name = 'dinov2_vits14'\n",
    "main_lr = new_lr = 0.000001\n",
    "original_num_epochs = 8\n",
    "binary_results_path = '../binary_results'\n",
    "binary_files = [f for f in os.listdir(binary_results_path) if f.startswith('imagenet_dinov2_vits14')]\n",
    "file_0 = np.load(fr'{binary_results_path}/{binary_files[0]}')\n",
    "file_0.shape"
   ],
   "id": "c6c46f0ed546ef9e",
   "outputs": [
    {
     "data": {
      "text/plain": [
       "(2100,)"
      ]
     },
     "execution_count": 11,
     "metadata": {},
     "output_type": "execute_result"
    }
   ],
   "execution_count": 11
  },
  {
   "metadata": {},
   "cell_type": "code",
   "outputs": [],
   "execution_count": null,
   "source": "",
   "id": "bf9a17671e9e595e"
  }
 ],
 "metadata": {
  "kernelspec": {
   "display_name": "Python 3",
   "language": "python",
   "name": "python3"
  },
  "language_info": {
   "codemirror_mode": {
    "name": "ipython",
    "version": 2
   },
   "file_extension": ".py",
   "mimetype": "text/x-python",
   "name": "python",
   "nbconvert_exporter": "python",
   "pygments_lexer": "ipython2",
   "version": "2.7.6"
  }
 },
 "nbformat": 4,
 "nbformat_minor": 5
}
