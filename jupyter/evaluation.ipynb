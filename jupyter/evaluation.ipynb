{
 "cells": [
  {
   "cell_type": "code",
   "id": "initial_id",
   "metadata": {
    "collapsed": true,
    "ExecuteTime": {
     "end_time": "2024-05-01T23:15:40.194796Z",
     "start_time": "2024-05-01T23:15:38.274164Z"
    }
   },
   "source": [
    "import os\n",
    "import numpy as np\n",
    "\n",
    "import data_preprocessing\n",
    "import neural_metrics\n",
    "import utils"
   ],
   "execution_count": 1,
   "outputs": []
  },
  {
   "metadata": {
    "ExecuteTime": {
     "end_time": "2024-05-01T23:24:03.777467Z",
     "start_time": "2024-05-01T23:24:03.765089Z"
    }
   },
   "cell_type": "code",
   "source": [
    "data_str = 'imagenet'\n",
    "binary_num_epochs = 5\n",
    "main_model_name = 'dinov2_vits14'\n",
    "\n",
    "preprocessor = data_preprocessing.DataPreprocessor(data_str=data_str)\n",
    "test_fine_true = preprocessor.test_true_fine_data\n",
    "test_coarse_true = preprocessor.test_true_coarse_data\n",
    "train_fine_true = preprocessor.train_true_fine_data\n",
    "train_coarse_true = preprocessor.train_true_coarse_data\n",
    "\n",
    "binary_results_path = 'binary_results'\n",
    "binary_l_strs = list({f for f in os.listdir('binary_results') if f.startswith(f'{data_str}_{main_model_name}')})\n",
    "len(binary_l_strs)"
   ],
   "id": "c6c46f0ed546ef9e",
   "execution_count": 7,
   "outputs": []
  },
  {
   "metadata": {
    "ExecuteTime": {
     "end_time": "2024-05-01T23:27:32.620353Z",
     "start_time": "2024-05-01T23:27:31.266976Z"
    }
   },
   "cell_type": "code",
   "source": [
    "for name in binary_l_strs:\n",
    "    curr_path = fr'{binary_results_path}/{name}'\n",
    "    curr_data = np.load(curr_path)\n",
    "    binary_num_epochs = 5\n",
    "    l_str = name.split(f'e{binary_num_epochs - 1}_')[-1].replace('.npy', '')\n",
    "    is_fine = l_str in preprocessor.fine_grain_classes_str\n",
    "    l_str_index = getattr(preprocessor, \n",
    "                          'fine_grain_classes_str' if is_fine else 'coarse_grain_classes_str').index(l_str) \n",
    "    test = len(curr_data) == len(test_coarse_true)\n",
    "    true_values = (test_fine_true if is_fine else test_coarse_true) if test else (train_fine_true if is_fine else train_coarse_true)\n",
    "    binary_true = np.where(true_values == l_str_index, 1, 0)\n",
    "    accuracy, f1, precision, recall = neural_metrics.get_individual_metrics(pred_data=curr_data,\n",
    "                                                                            true_data=binary_true)\n",
    "    print(f'class: {l_str}; '\n",
    "          f'accuracy: {accuracy:.2f}, '\n",
    "          f'f1: {f1:.2f}, '\n",
    "          f'precision: {precision:.2f}, '\n",
    "          f'recall: {recall:.2f}')\n",
    "    \n",
    "    assert f1 > 0.7"
   ],
   "id": "2e6fb0f4abdcfb16",
   "execution_count": 17,
   "outputs": []
  },
  {
   "metadata": {},
   "cell_type": "code",
   "execution_count": null,
   "source": "",
   "id": "1905be4b647e733d",
   "outputs": []
  }
 ],
 "metadata": {
  "kernelspec": {
   "display_name": "Python 3",
   "language": "python",
   "name": "python3"
  },
  "language_info": {
   "codemirror_mode": {
    "name": "ipython",
    "version": 2
   },
   "file_extension": ".py",
   "mimetype": "text/x-python",
   "name": "python",
   "nbconvert_exporter": "python",
   "pygments_lexer": "ipython2",
   "version": "2.7.6"
  }
 },
 "nbformat": 4,
 "nbformat_minor": 5
}
