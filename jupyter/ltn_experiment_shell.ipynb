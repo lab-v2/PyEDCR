%%capture
!pip install torchinfo
!pip install LTNtorch
!pip install timm


from google.colab import drive
drive.mount('/content/drive')

!python3 /content/drive/MyDrive/ltn_complete.py --base_path /content/drive/MyDrive/ltn --description “b-16_normal_1e-4_ltn_4” --mode ltn_combine --vit_model_index 0 --beta 0.9 --lr 1e-4 --loss_mode binary --num_epochs 25 --load_checkpoint
