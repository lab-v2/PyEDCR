{
 "cells": [
  {
   "cell_type": "code",
   "execution_count": 1,
   "source": [
    "import os\n",
    "import re\n",
    "import numpy as np\n",
    "import matplotlib.pyplot as plt\n",
    "import warnings\n",
    "from sklearn.metrics import accuracy_score, confusion_matrix, precision_score, recall_score, f1_score\n",
    "\n",
    "warnings.filterwarnings('ignore')\n",
    "\n",
    "import data_preprocessing\n",
    "import context_handlers\n",
    "import vit_pipeline\n",
    "import EDCR_pipeline"
   ],
   "metadata": {
    "collapsed": false,
    "ExecuteTime": {
     "end_time": "2023-12-31T04:51:09.840484Z",
     "start_time": "2023-12-31T04:51:06.226173Z"
    }
   },
   "id": "9dc68a5fe4ce4ea7",
   "outputs": []
  },
  {
   "cell_type": "code",
   "execution_count": 2,
   "source": [
    "def load_neural_results_from_path(path):\n",
    "    test_data = {}\n",
    "    test_fine_true = np.load(os.path.join(path, f'test_fine_true.npy'))\n",
    "    test_coarse_true = np.load(os.path.join(path, f'test_coarse_true.npy'))\n",
    "    \n",
    "    for filename in os.listdir(path):\n",
    "        test_match = re.match(pattern=rf'(.+?)_test_(.+?)_pred_lr(.+?)_e(\\d+?).npy',\n",
    "                                   string=filename)\n",
    "        if test_match:\n",
    "            model_name = test_match.group(1)\n",
    "            granularity = test_match.group(2)\n",
    "            lr_value = float(test_match.group(3))\n",
    "            num_epochs = int(test_match.group(4)) + 1\n",
    "        \n",
    "            test_pred = np.load(os.path.join(path, filename))\n",
    "            classes = data_preprocessing.fine_grain_classes \\\n",
    "                if granularity == 'fine' else data_preprocessing.coarse_grain_classes\n",
    "            n_classes = len(classes)\n",
    "            test_true = test_fine_true if granularity == 'fine' else test_coarse_true\n",
    "        \n",
    "            if model_name not in test_data:\n",
    "                test_data[model_name] = {}\n",
    "            if granularity not in test_data[model_name]:\n",
    "                test_data[model_name][granularity] = {}\n",
    "            if lr_value not in test_data[model_name][granularity]:\n",
    "                test_data[model_name][granularity][lr_value] = {}\n",
    "        \n",
    "            test_data[model_name][granularity][lr_value][num_epochs] = \\\n",
    "                {'acc': accuracy_score(y_true=test_true, y_pred=test_pred), \n",
    "                 'cm': confusion_matrix(y_true=test_true, y_pred=test_pred),\n",
    "                 'pre': precision_score(y_true=test_true, y_pred=test_pred, labels=range(n_classes), average='macro'),\n",
    "                 'rec': recall_score(y_true=test_true, y_pred=test_pred, labels=range(n_classes), average='macro'),\n",
    "                 'f1': f1_score(y_true=test_true, y_pred=test_pred, labels=range(n_classes), average='macro')}\n",
    "    \n",
    "    return test_data\n",
    "    \n",
    "def plot_verbose_test_metrics():\n",
    "    for model_name, model_data in sorted(test_data.items()):\n",
    "        print('\\n' + '#'* (100 + len(model_name)))\n",
    "        print('#'* 50 + f'{model_name}' + '#'* 50)\n",
    "        print('#'* (100 + len(model_name)) + '\\n')\n",
    "        metric = 'Accuracy'\n",
    "        \n",
    "        with context_handlers.Plot():\n",
    "            plt.title(f\"{model_name}\")\n",
    "            plt.xlabel('Epoch')\n",
    "            plt.ylabel(metric)\n",
    "            \n",
    "            for granularity, granularity_data in sorted(model_data.items()):\n",
    "                for lr_value, lr_data in sorted(granularity_data.items()):\n",
    "                    epochs, epoch_data = zip(*sorted(lr_data.items()))\n",
    "                    plt.plot(epochs, [curr_data['acc'] for curr_data in epoch_data], label=f'{granularity}-grain acc')\n",
    "                    plt.plot(epochs, [curr_data['f1'] for curr_data in epoch_data], label=f'{granularity}-grain average f1')\n",
    "                    plt.xticks(np.arange(min(epochs), max(epochs)+1, 1)) # Set the x-axis ticks to be integers\n",
    "        \n",
    "            plt.legend()\n",
    "            plt.grid()\n",
    "\n",
    "test_data = load_neural_results_from_path(vit_pipeline.combined_results_path)\n",
    "plot_verbose_test_metrics()"
   ],
   "metadata": {
    "collapsed": false,
    "ExecuteTime": {
     "end_time": "2023-12-31T04:51:11.309201Z",
     "start_time": "2023-12-31T04:51:09.839558Z"
    }
   },
   "id": "7acbcec3ca1dd739",
   "outputs": []
  },
  {
   "cell_type": "markdown",
   "source": [
    "# Prior individual neural models metrics"
   ],
   "metadata": {
    "collapsed": false
   },
   "id": "98f88794d62d4713"
  },
  {
   "cell_type": "code",
   "execution_count": 3,
   "source": [
    "individual_best_model = 'vit_b_16'\n",
    "individual_fine_best_lr = '0.0001'\n",
    "individual_coarse_best_lr = '0.0001'\n",
    "individual_epoch_num = 10\n",
    "\n",
    "individual_prior_fine_path = f'{individual_best_model}_test_pred_lr{individual_fine_best_lr}_e{individual_epoch_num - 1}_fine_individual.npy'\n",
    "individual_prior_coarse_path = f'{individual_best_model}_test_pred_lr{individual_coarse_best_lr}_e{individual_epoch_num - 1}_coarse_individual.npy'\n",
    "\n",
    "individual_prior_fine_data = np.load(os.path.join(vit_pipeline.individual_results_path, individual_prior_fine_path))\n",
    "individual_prior_coarse_data = np.load(os.path.join(vit_pipeline.individual_results_path, individual_prior_coarse_path))\n",
    "\n",
    "individual_true_fine_data = np.load(os.path.join(vit_pipeline.individual_results_path, 'test_true.npy'))\n",
    "individual_true_coarse_data = np.load(os.path.join(vit_pipeline.individual_results_path, 'test_true_coarse.npy'))\n",
    "\n",
    "individual_prior_fine_acc = accuracy_score(y_true=individual_true_fine_data, y_pred=individual_prior_fine_data)\n",
    "individual_prior_fine_f1 = f1_score(y_true=individual_true_fine_data, y_pred=individual_prior_fine_data, labels=range(len(data_preprocessing.fine_grain_classes)), average='macro')\n",
    "individual_prior_coarse_acc = accuracy_score(y_true=individual_true_coarse_data, y_pred=individual_prior_coarse_data)\n",
    "individual_prior_coarse_f1 = f1_score(y_true=individual_true_coarse_data, y_pred=individual_prior_coarse_data, labels=range(len(data_preprocessing.coarse_grain_classes)), average='macro')\n",
    "\n",
    "print(f'Individual models:\\n' +\n",
    "      '#' * 100 + '\\n'\n",
    "      f'Prior fine accuracy: {round(individual_prior_fine_acc * 100, 2)}%, '\n",
    "      f'prior fine macro average f1: {round(individual_prior_fine_f1 * 100, 2)}%\\n'\n",
    "      f'prior coarse accuracy: {round(individual_prior_coarse_acc * 100, 2)}%, '\n",
    "      f'prior coarse macro average f1: {round(individual_prior_coarse_f1 * 100, 2)}%\\n')\n",
    "\n",
    "vit_pipeline.print_num_inconsistencies(fine_labels=individual_prior_fine_data, \n",
    "                                       coarse_labels=individual_prior_coarse_data)"
   ],
   "metadata": {
    "collapsed": false,
    "ExecuteTime": {
     "end_time": "2023-12-31T04:51:50.151774Z",
     "start_time": "2023-12-31T04:51:50.141250Z"
    }
   },
   "id": "495985f3c514c55c",
   "outputs": []
  },
  {
   "cell_type": "markdown",
   "source": [
    "# Prior combined neural net metrics"
   ],
   "metadata": {
    "collapsed": false
   },
   "id": "2b672da201932fd7"
  },
  {
   "cell_type": "code",
   "execution_count": 4,
   "source": [
    "combined_true_fine_data = np.load(os.path.join(vit_pipeline.combined_results_path, 'test_fine_true.npy'))\n",
    "combined_true_coarse_data = np.load(os.path.join(vit_pipeline.combined_results_path, 'test_coarse_true.npy'))\n",
    "\n",
    "# assert np.all(combined_true_fine_data == individual_true_fine_data)\n",
    "\n",
    "combined_best_model = 'vit_b_16'\n",
    "combined_best_lr = 0.0001\n",
    "combined_epoch_num = 20\n",
    "\n",
    "combined_prior_fine_path = f'{combined_best_model}_test_fine_pred_lr{combined_best_lr}_e{combined_epoch_num - 1}.npy'\n",
    "combined_prior_coarse_path = f'{combined_best_model}_test_coarse_pred_lr{combined_best_lr}_e{combined_epoch_num - 1}.npy'\n",
    "\n",
    "combined_prior_fine_data = np.load(os.path.join(vit_pipeline.combined_results_path, combined_prior_fine_path))\n",
    "combined_prior_coarse_data = np.load(os.path.join(vit_pipeline.combined_results_path, combined_prior_coarse_path))\n",
    "\n",
    "combined_prior_fine_acc = accuracy_score(y_true=combined_true_fine_data, y_pred=combined_prior_fine_data)\n",
    "combined_prior_fine_f1 = f1_score(y_true=combined_true_fine_data, y_pred=combined_prior_fine_data, labels=range(len(data_preprocessing.fine_grain_classes)), average='macro')\n",
    "combined_prior_coarse_acc = accuracy_score(y_true=combined_true_coarse_data, y_pred=combined_prior_coarse_data)\n",
    "combined_prior_coarse_f1 = f1_score(y_true=combined_true_coarse_data, y_pred=combined_prior_coarse_data, labels=range(len(data_preprocessing.coarse_grain_classes)), average='macro')\n",
    "\n",
    "print(f'Combined model:\\n' +\n",
    "      '#' * 100 + '\\n'\n",
    "      f'Prior fine accuracy: {round(combined_prior_fine_acc * 100, 2)}%, '\n",
    "      f'prior fine macro average f1: {round(combined_prior_fine_f1 * 100, 2)}%\\n'\n",
    "      f'prior coarse accuracy: {round(combined_prior_coarse_acc * 100, 2)}%, '\n",
    "      f'prior coarse macro average f1: {round(combined_prior_coarse_f1 * 100, 2)}%\\n')\n",
    "\n",
    "vit_pipeline.print_num_inconsistencies(fine_labels=combined_prior_fine_data, \n",
    "                                       coarse_labels=combined_prior_coarse_data)"
   ],
   "metadata": {
    "collapsed": false,
    "ExecuteTime": {
     "end_time": "2023-12-31T04:51:53.624728Z",
     "start_time": "2023-12-31T04:51:53.613902Z"
    }
   },
   "id": "3f053276c6c9221c",
   "outputs": []
  },
  {
   "cell_type": "markdown",
   "source": [
    "# Combined EDCR Results"
   ],
   "metadata": {
    "collapsed": false
   },
   "id": "19b51de3b9915697"
  },
  {
   "cell_type": "code",
   "execution_count": 5,
   "source": [
    "fine_folder = (f'{EDCR_pipeline.figs_folder}/main_fine_{combined_best_model}_lr{combined_best_lr}'\n",
    "                  # f'_secondary_{EDCR_pipeline.secondary_model_name}_lr{EDCR_pipeline.secondary_lr}'\n",
    "               )\n",
    "coarse_folder = (f'{EDCR_pipeline.figs_folder}/main_coarse_{combined_best_model}_lr{combined_best_lr}'\n",
    "                  # f'_secondary_{EDCR_pipeline.secondary_model_name}_lr{EDCR_pipeline.secondary_lr}'\n",
    "                 )\n",
    "\n",
    "post_fine_path = f'{fine_folder}/results.npy'\n",
    "post_coarse_path = f'{coarse_folder}/results.npy'\n",
    "\n",
    "post_fine_data = np.load(post_fine_path)\n",
    "post_coarse_data = np.load(post_coarse_path)\n",
    "\n",
    "post_fine_acc = accuracy_score(y_true=combined_true_fine_data, y_pred=post_fine_data)\n",
    "post_fine_f1 = f1_score(y_true=combined_true_fine_data, y_pred=post_fine_data, labels=range(len(data_preprocessing.fine_grain_classes)), average='macro')\n",
    "post_coarse_acc = accuracy_score(y_true=combined_true_coarse_data, y_pred=post_coarse_data)\n",
    "post_coarse_f1 = f1_score(y_true=combined_true_coarse_data, y_pred=post_coarse_data, labels=range(len(data_preprocessing.coarse_grain_classes)), average='macro')\n",
    "\n",
    "print(f'Post fine accuracy: {round(post_fine_acc * 100, 2)}%, '\n",
    "      f'post fine macro average f1: {round(post_fine_f1 * 100, 2)}%\\n'\n",
    "      f'post coarse accuracy: {round(post_coarse_acc * 100, 2)}%, '\n",
    "      f'post coarse macro average f1: {round(post_coarse_f1 * 100, 2)}%\\n')\n",
    "\n",
    "vit_pipeline.print_num_inconsistencies(fine_labels=post_fine_data,\n",
    "                                       coarse_labels=post_coarse_data,\n",
    "                                       prior=False)"
   ],
   "metadata": {
    "collapsed": false,
    "ExecuteTime": {
     "end_time": "2023-12-31T04:52:11.130784Z",
     "start_time": "2023-12-31T04:52:10.788818Z"
    }
   },
   "id": "336def8bebdfc8bb",
   "outputs": []
  },
  {
   "cell_type": "markdown",
   "source": [],
   "metadata": {
    "collapsed": false
   },
   "id": "eaaebab30abc90f5"
  },
  {
   "cell_type": "markdown",
   "source": [
    "# BCE Loss"
   ],
   "metadata": {
    "collapsed": false
   },
   "id": "6d1eb3db2d36a137"
  },
  {
   "cell_type": "code",
   "execution_count": 41,
   "source": [
    "combined_bce_loss_fine_ground_truths = np.load(r'bce_loss/fine_grain_ground_truth.npy')\n",
    "combined_bce_loss_fine_predictions = np.load(r'bce_loss/fine_grain_prediction.npy')\n",
    "\n",
    "combined_bce_loss_fine_acc = accuracy_score(y_true=combined_bce_loss_fine_ground_truths,\n",
    "                                            y_pred=combined_bce_loss_fine_predictions)\n",
    "combined_bce_loss_fine_f1 = f1_score(y_true=combined_bce_loss_fine_ground_truths, \n",
    "                                     y_pred=combined_bce_loss_fine_predictions,\n",
    "                                     labels=range(len(data_preprocessing.coarse_grain_classes), \n",
    "                                                  len(data_preprocessing.coarse_grain_classes) + \n",
    "                                                  len(data_preprocessing.fine_grain_classes)), \n",
    "                                     average='macro')\n",
    "\n",
    "combined_bce_loss_coarse_ground_truths = np.load(r'bce_loss/coarse_grain_ground_truth.npy')\n",
    "combined_bce_loss_coarse_predictions = np.load(r'bce_loss/coarse_grain_prediction.npy')\n",
    "\n",
    "combined_bce_loss_coarse_acc = accuracy_score(y_true=combined_bce_loss_coarse_ground_truths,\n",
    "                                              y_pred=combined_bce_loss_coarse_predictions)\n",
    "combined_bce_loss_coarse_f1 = f1_score(y_true=combined_bce_loss_coarse_ground_truths, \n",
    "                                       y_pred=combined_bce_loss_coarse_predictions,\n",
    "                                       labels=range(len(data_preprocessing.coarse_grain_classes)), \n",
    "                                       average='macro')\n",
    "\n",
    "print(f'BCE loss fine accuracy: {round(combined_bce_loss_fine_acc * 100, 2)}%, '\n",
    "      f'BCE loss fine macro average f1: {round(combined_bce_loss_fine_f1 * 100, 2)}%\\n'\n",
    "      f'BCE loss coarse accuracy: {round(combined_bce_loss_coarse_acc * 100, 2)}%, '\n",
    "      f'BCE loss coarse macro average f1: {round(combined_bce_loss_coarse_f1 * 100, 2)}%\\n')"
   ],
   "metadata": {
    "collapsed": false,
    "ExecuteTime": {
     "end_time": "2023-12-25T00:06:58.877191Z",
     "start_time": "2023-12-25T00:06:58.853777Z"
    }
   },
   "id": "34cca137033722f",
   "outputs": []
  },
  {
   "cell_type": "code",
   "source": [
    "# get_num_inconsistencies(fine_predictions=combined_bce_loss_fine_predictions, \n",
    "#                         coarse_predictions=combined_bce_loss_coarse_predictions)"
   ],
   "metadata": {
    "collapsed": false,
    "ExecuteTime": {
     "end_time": "2023-12-24T23:57:23.997276Z",
     "start_time": "2023-12-24T23:57:23.978885Z"
    }
   },
   "id": "878a332650895816",
   "execution_count": 31,
   "outputs": []
  },
  {
   "cell_type": "code",
   "source": [],
   "metadata": {
    "collapsed": false
   },
   "id": "562990d9b9ab2ae4",
   "execution_count": null,
   "outputs": []
  }
 ],
 "metadata": {
  "kernelspec": {
   "display_name": "Python 3",
   "language": "python",
   "name": "python3"
  },
  "language_info": {
   "codemirror_mode": {
    "name": "ipython",
    "version": 2
   },
   "file_extension": ".py",
   "mimetype": "text/x-python",
   "name": "python",
   "nbconvert_exporter": "python",
   "pygments_lexer": "ipython2",
   "version": "2.7.6"
  }
 },
 "nbformat": 4,
 "nbformat_minor": 5
}
