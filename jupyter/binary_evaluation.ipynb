{
 "cells": [
  {
   "cell_type": "code",
   "id": "initial_id",
   "metadata": {
    "collapsed": true,
    "ExecuteTime": {
     "end_time": "2024-05-08T22:11:10.246008Z",
     "start_time": "2024-05-08T22:11:10.239805Z"
    }
   },
   "source": [
    "import os\n",
    "import numpy as np\n",
    "\n",
    "import data_preprocessing\n",
    "import neural_metrics"
   ],
   "outputs": [],
   "execution_count": 12
  },
  {
   "metadata": {
    "ExecuteTime": {
     "end_time": "2024-05-08T23:36:42.615132Z",
     "start_time": "2024-05-08T23:36:42.592989Z"
    }
   },
   "cell_type": "code",
   "source": [
    "data_str = 'openimage'\n",
    "binary_num_epochs = 4\n",
    "binary_model_name = 'dinov2_vits14'\n",
    "\n",
    "preprocessor = data_preprocessing.DataPreprocessor(data_str=data_str)\n",
    "\n",
    "binary_results_path = 'binary_results'\n",
    "binary_l_strs = {f\n",
    "                 for f in os.listdir(binary_results_path)\n",
    "                 if f.startswith(f'{data_str}_{binary_model_name}')}\n",
    "len(binary_l_strs)"
   ],
   "id": "c6c46f0ed546ef9e",
   "outputs": [
    {
     "data": {
      "text/plain": [
       "60"
      ]
     },
     "execution_count": 26,
     "metadata": {},
     "output_type": "execute_result"
    }
   ],
   "execution_count": 26
  },
  {
   "metadata": {
    "ExecuteTime": {
     "end_time": "2024-05-08T23:36:46.898659Z",
     "start_time": "2024-05-08T23:36:45.794924Z"
    }
   },
   "cell_type": "code",
   "source": [
    "for name in binary_l_strs:\n",
    "    curr_path = fr'{binary_results_path}/{name}'\n",
    "    curr_data = np.load(curr_path)\n",
    "    l_str = name.split(f'e{binary_num_epochs - 1}_')[-1].replace('.npy', '')\n",
    "    is_fine = l_str in preprocessor.fine_grain_classes_str\n",
    "    l_str_index = getattr(preprocessor, \n",
    "                          'fine_grain_classes_str' if is_fine else 'coarse_grain_classes_str').index(l_str) \n",
    "    test = len(curr_data) == len(preprocessor.test_true_coarse_data)\n",
    "    true_values = (preprocessor.test_true_fine_data \n",
    "                   if is_fine else preprocessor.test_true_coarse_data) \\\n",
    "        if test else (preprocessor.train_true_fine_data \n",
    "                      if is_fine else preprocessor.train_true_coarse_data)\n",
    "    binary_true = np.where(true_values == l_str_index, 1, 0)\n",
    "    accuracy, f1, precision, recall = neural_metrics.get_individual_metrics(pred_data=curr_data,\n",
    "                                                                            true_data=binary_true)\n",
    "    print(f'class: {l_str}; '\n",
    "          f'accuracy: {accuracy:.2f}, '\n",
    "          f'f1: {f1:.2f}, '\n",
    "          f'precision: {precision:.2f}, '\n",
    "          f'recall: {recall:.2f}')\n",
    "    \n",
    "    assert f1 > 0.7"
   ],
   "id": "2e6fb0f4abdcfb16",
   "outputs": [
    {
     "name": "stdout",
     "output_type": "stream",
     "text": [
      "class: Clothing; accuracy: 0.95, f1: 0.94, precision: 0.94, recall: 0.93\n",
      "class: Bicycle; accuracy: 0.98, f1: 0.88, precision: 0.87, recall: 0.90\n",
      "class: Dessert; accuracy: 0.95, f1: 0.78, precision: 0.71, recall: 0.96\n",
      "class: Monkey; accuracy: 1.00, f1: 0.98, precision: 0.98, recall: 0.99\n",
      "class: Desk; accuracy: 0.96, f1: 0.78, precision: 0.72, recall: 0.88\n",
      "class: Desk; accuracy: 0.97, f1: 0.85, precision: 0.78, recall: 0.96\n",
      "class: Plant; accuracy: 0.95, f1: 0.87, precision: 0.86, recall: 0.88\n",
      "class: Chair; accuracy: 0.97, f1: 0.82, precision: 0.76, recall: 0.95\n",
      "class: Carnivore; accuracy: 0.98, f1: 0.88, precision: 0.86, recall: 0.90\n",
      "class: Food; accuracy: 0.97, f1: 0.96, precision: 0.95, recall: 0.98\n",
      "class: Vegetable; accuracy: 0.96, f1: 0.77, precision: 0.73, recall: 0.85\n",
      "class: Suit; accuracy: 0.98, f1: 0.87, precision: 0.84, recall: 0.89\n",
      "class: Swimwear; accuracy: 0.98, f1: 0.86, precision: 0.81, recall: 0.92\n",
      "class: Flower; accuracy: 0.97, f1: 0.84, precision: 0.78, recall: 0.93\n",
      "class: Furniture; accuracy: 0.96, f1: 0.92, precision: 0.91, recall: 0.93\n",
      "class: Horse; accuracy: 1.00, f1: 0.97, precision: 0.95, recall: 0.99\n",
      "class: Houseplant; accuracy: 0.99, f1: 0.91, precision: 0.87, recall: 0.96\n",
      "class: Land vehicle; accuracy: 0.97, f1: 0.94, precision: 0.91, recall: 0.97\n",
      "class: Motorcycle; accuracy: 0.99, f1: 0.95, precision: 0.92, recall: 0.98\n",
      "class: Sports uniform; accuracy: 0.96, f1: 0.78, precision: 0.72, recall: 0.89\n",
      "class: Shorts; accuracy: 0.98, f1: 0.88, precision: 0.83, recall: 0.95\n",
      "class: Trousers; accuracy: 0.95, f1: 0.71, precision: 0.66, recall: 0.80\n",
      "class: Sports uniform; accuracy: 0.99, f1: 0.93, precision: 0.89, recall: 0.98\n",
      "class: Motorcycle; accuracy: 0.98, f1: 0.89, precision: 0.85, recall: 0.93\n",
      "class: Houseplant; accuracy: 0.98, f1: 0.80, precision: 0.81, recall: 0.79\n",
      "class: Suit; accuracy: 0.98, f1: 0.88, precision: 0.81, recall: 0.98\n",
      "class: Food; accuracy: 0.98, f1: 0.98, precision: 0.97, recall: 0.98\n",
      "class: Furniture; accuracy: 0.96, f1: 0.91, precision: 0.88, recall: 0.96\n",
      "class: Shorts; accuracy: 0.97, f1: 0.75, precision: 0.75, recall: 0.75\n",
      "class: Swimwear; accuracy: 0.99, f1: 0.95, precision: 0.92, recall: 0.99\n",
      "class: Plant; accuracy: 0.96, f1: 0.90, precision: 0.86, recall: 0.95\n",
      "class: Tree; accuracy: 0.98, f1: 0.86, precision: 0.80, recall: 0.96\n",
      "class: Carnivore; accuracy: 0.99, f1: 0.95, precision: 0.92, recall: 0.98\n",
      "class: Fruit; accuracy: 0.97, f1: 0.81, precision: 0.78, recall: 0.85\n",
      "class: Tree; accuracy: 0.97, f1: 0.74, precision: 0.76, recall: 0.71\n",
      "class: Dessert; accuracy: 0.93, f1: 0.70, precision: 0.65, recall: 0.85\n",
      "class: Trousers; accuracy: 0.96, f1: 0.78, precision: 0.71, recall: 0.94\n",
      "class: Seafood; accuracy: 0.99, f1: 0.95, precision: 0.92, recall: 0.98\n",
      "class: Seafood; accuracy: 0.98, f1: 0.87, precision: 0.85, recall: 0.89\n",
      "class: Monkey; accuracy: 0.99, f1: 0.95, precision: 0.91, recall: 0.99\n",
      "class: Fast food; accuracy: 0.95, f1: 0.77, precision: 0.71, recall: 0.94\n",
      "class: Mammal; accuracy: 0.98, f1: 0.94, precision: 0.91, recall: 0.98\n",
      "class: Car; accuracy: 0.98, f1: 0.86, precision: 0.80, recall: 0.96\n",
      "class: Chair; accuracy: 0.96, f1: 0.75, precision: 0.72, recall: 0.81\n",
      "class: Horse; accuracy: 0.99, f1: 0.93, precision: 0.89, recall: 0.97\n",
      "class: Fast food; accuracy: 0.93, f1: 0.70, precision: 0.65, recall: 0.86\n",
      "class: Clothing; accuracy: 0.95, f1: 0.94, precision: 0.93, recall: 0.95\n",
      "class: Dress; accuracy: 0.98, f1: 0.88, precision: 0.83, recall: 0.95\n",
      "class: Land vehicle; accuracy: 0.98, f1: 0.96, precision: 0.94, recall: 0.98\n",
      "class: Mammal; accuracy: 0.99, f1: 0.97, precision: 0.95, recall: 0.99\n",
      "class: Dress; accuracy: 0.96, f1: 0.74, precision: 0.72, recall: 0.76\n",
      "class: Fruit; accuracy: 0.98, f1: 0.90, precision: 0.84, recall: 0.97\n",
      "class: Shelf; accuracy: 0.97, f1: 0.81, precision: 0.75, recall: 0.94\n",
      "class: Car; accuracy: 0.96, f1: 0.78, precision: 0.71, recall: 0.94\n",
      "class: Shelf; accuracy: 0.98, f1: 0.89, precision: 0.84, recall: 0.98\n",
      "class: Jacket; accuracy: 0.97, f1: 0.79, precision: 0.75, recall: 0.85\n",
      "class: Jacket; accuracy: 0.98, f1: 0.87, precision: 0.81, recall: 0.97\n",
      "class: Flower; accuracy: 0.98, f1: 0.89, precision: 0.85, recall: 0.96\n",
      "class: Bicycle; accuracy: 0.99, f1: 0.94, precision: 0.91, recall: 0.97\n",
      "class: Vegetable; accuracy: 0.98, f1: 0.86, precision: 0.80, recall: 0.96\n"
     ]
    }
   ],
   "execution_count": 27
  },
  {
   "metadata": {},
   "cell_type": "code",
   "execution_count": null,
   "source": "",
   "id": "1905be4b647e733d",
   "outputs": []
  }
 ],
 "metadata": {
  "kernelspec": {
   "display_name": "Python 3",
   "language": "python",
   "name": "python3"
  },
  "language_info": {
   "codemirror_mode": {
    "name": "ipython",
    "version": 2
   },
   "file_extension": ".py",
   "mimetype": "text/x-python",
   "name": "python",
   "nbconvert_exporter": "python",
   "pygments_lexer": "ipython2",
   "version": "2.7.6"
  }
 },
 "nbformat": 4,
 "nbformat_minor": 5
}
