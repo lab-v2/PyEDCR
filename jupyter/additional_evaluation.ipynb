{
 "cells": [
  {
   "cell_type": "code",
   "id": "initial_id",
   "metadata": {
    "collapsed": true,
    "ExecuteTime": {
     "end_time": "2024-05-08T23:02:36.543277Z",
     "start_time": "2024-05-08T23:02:34.405035Z"
    }
   },
   "source": [
    "import numpy as np\n",
    "\n",
    "import data_preprocessing\n",
    "import neural_metrics"
   ],
   "outputs": [],
   "execution_count": 2
  },
  {
   "metadata": {
    "ExecuteTime": {
     "end_time": "2024-05-08T23:02:36.576028Z",
     "start_time": "2024-05-08T23:02:36.544352Z"
    }
   },
   "cell_type": "code",
   "source": [
    "# data_str = 'military_vehicles'\n",
    "# main_model_name = binary_model_name = additional_model_name = 'vit_b_16'\n",
    "# secondary_model_name = 'vit_l_16'\n",
    "# main_lr = binary_lr = 0.0001\n",
    "# original_num_epochs = secondary_num_epochs = 20\n",
    "# additional_epoch_num = 30\n",
    "# binary_num_epochs = 10\n",
    "# number_of_fine_classes = 24\n",
    "\n",
    "# data_str = 'imagenet'\n",
    "# main_model_name = binary_model_name = 'dinov2_vits14'\n",
    "# secondary_model_name = 'dinov2_vitl14'\n",
    "# main_lr = binary_lr = 0.000001\n",
    "# original_num_epochs = 8\n",
    "# secondary_num_epochs = 2\n",
    "# binary_num_epochs = 5\n",
    "# number_of_fine_classes = 42\n",
    "\n",
    "data_str = 'openimage'\n",
    "main_model_name = 'tresnet_m'\n",
    "secondary_model_name = additional_model_name = binary_model_name = 'dinov2_vits14'\n",
    "main_lr = binary_lr = 0.000001\n",
    "original_num_epochs = 0\n",
    "secondary_num_epochs = 2\n",
    "binary_num_epochs = 4\n",
    "number_of_fine_classes = 30\n",
    "additional_epoch_num = 10\n",
    "\n",
    "preprocessor = data_preprocessing.DataPreprocessor(data_str=data_str)\n",
    "\n",
    "additional_results_path = 'combined_results'\n",
    "fine_test_pred = np.load(f'{additional_results_path}/'\n",
    "                          f\"{f'{data_str}_' if data_str != 'military_vehicles' else ''}{main_model_name}_test_fine_pred_BCE_lr{main_lr}_e{original_num_epochs - 1}.npy\")\n",
    "coarse_test_pred = np.load(f'{additional_results_path}/'\n",
    "                          f\"{f'{data_str}_' if data_str != 'military_vehicles' else ''}{main_model_name}_test_coarse_pred_BCE_lr{main_lr}_e{original_num_epochs - 1}.npy\")\n",
    "additional_fine_test_pred = np.load(f'{additional_results_path}/'\n",
    "                          f'{data_str}_{additional_model_name}_'\n",
    "                                    f'test_fine_pred_BCE_lr{main_lr}_e{additional_epoch_num - 1}_additional.npy')\n",
    "additional_coarse_test_pred = np.load(f'{additional_results_path}/'\n",
    "                          f'{data_str}_{additional_model_name}_'\n",
    "                                      f'test_coarse_pred_BCE_lr{main_lr}_e{additional_epoch_num - 1}_additional.npy')\n",
    "fine_test_gt = np.load('data/OpenImage/test_fine/test_true_fine.npy')\n",
    "coarse_test_gt = np.load('data/OpenImage/test_coarse/test_true_coarse.npy')\n",
    "fine_acc, fine_f1, _, _ = neural_metrics.get_individual_metrics(pred_data=additional_fine_test_pred,\n",
    "                                                                true_data=fine_test_gt)\n",
    "coarse_acc, coarse_f1, _, _ = neural_metrics.get_individual_metrics(pred_data=additional_coarse_test_pred,\n",
    "                                                          true_data=coarse_test_gt)\n",
    "print(f'fine acc: {fine_acc}, fine_f1: {fine_f1}\\ncoarse acc: {coarse_acc}, coarse_f1: {coarse_f1}')"
   ],
   "id": "ad4f5e89445e3492",
   "outputs": [
    {
     "name": "stdout",
     "output_type": "stream",
     "text": [
      "fine acc: 0.4977503749375104, fine_f1: 0.4764294318151229\n",
      "coarse acc: 0.8769371771371438, coarse_f1: 0.8627142068930898\n"
     ]
    }
   ],
   "execution_count": 3
  },
  {
   "metadata": {
    "ExecuteTime": {
     "end_time": "2024-05-08T23:02:19.164396Z",
     "start_time": "2024-05-08T23:02:19.147434Z"
    }
   },
   "cell_type": "code",
   "source": [
    "error_predictions = (np.where(fine_test_pred != additional_fine_test_pred, 1, 0) | \n",
    "                     np.where(fine_test_pred != additional_fine_test_pred , 1, 0))\n",
    "error_ground_truth = (np.where(fine_test_pred != fine_test_gt , 1, 0) | \n",
    "                      np.where( coarse_test_pred != coarse_test_gt, 1, 0))\n",
    "error_acc, error_f1, _, _ = neural_metrics.get_individual_metrics(pred_data=error_predictions,\n",
    "                                                          true_data=error_ground_truth)\n",
    "print(f'error acc: {error_acc}, fine_f1: {error_f1}')\n"
   ],
   "id": "4631e5e17f85ef79",
   "outputs": [
    {
     "name": "stdout",
     "output_type": "stream",
     "text": [
      "error acc: 0.6824695884019331, fine_f1: 0.6813826668773988\n"
     ]
    }
   ],
   "execution_count": 42
  },
  {
   "metadata": {},
   "cell_type": "code",
   "outputs": [],
   "execution_count": null,
   "source": "",
   "id": "70d558afe5b609a1"
  }
 ],
 "metadata": {
  "kernelspec": {
   "display_name": "Python 3",
   "language": "python",
   "name": "python3"
  },
  "language_info": {
   "codemirror_mode": {
    "name": "ipython",
    "version": 2
   },
   "file_extension": ".py",
   "mimetype": "text/x-python",
   "name": "python",
   "nbconvert_exporter": "python",
   "pygments_lexer": "ipython2",
   "version": "2.7.6"
  }
 },
 "nbformat": 4,
 "nbformat_minor": 5
}
