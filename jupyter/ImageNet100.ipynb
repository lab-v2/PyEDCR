{
 "cells": [
  {
   "cell_type": "code",
   "id": "initial_id",
   "metadata": {
    "collapsed": true,
    "ExecuteTime": {
     "end_time": "2024-04-09T02:49:16.009860Z",
     "start_time": "2024-04-09T02:49:15.588710Z"
    }
   },
   "source": [
    "import json\n",
    "import os\n",
    "import matplotlib.pyplot as plt"
   ],
   "execution_count": 1,
   "outputs": []
  },
  {
   "metadata": {
    "ExecuteTime": {
     "end_time": "2024-04-09T02:49:23.034600Z",
     "start_time": "2024-04-09T02:49:23.025458Z"
    }
   },
   "cell_type": "code",
   "source": [
    "imagenet100_folder_path = 'data/ImageNet100'\n",
    "\n",
    "with open(f'{imagenet100_folder_path}/Labels.json', 'r') as f:\n",
    "    labels = json.load(f)\n",
    "\n",
    "labels"
   ],
   "id": "4140172134ffa9fe",
   "execution_count": 3,
   "outputs": []
  },
  {
   "metadata": {
    "ExecuteTime": {
     "end_time": "2024-04-09T02:49:25.444930Z",
     "start_time": "2024-04-09T02:49:25.437900Z"
    }
   },
   "cell_type": "code",
   "source": [
    "coarse_grain_classes_list = [\n",
    "    'Bird', 'Snake', 'Spider', 'Small Fish', 'Turtle', 'Lizard', 'Crab', 'Shark'\n",
    "]\n",
    "\n",
    "fine_grain_classes_dict = {\n",
    "    'n01818515': 'macaw',\n",
    "    'n01537544': 'indigo bunting, indigo finch, indigo bird, Passerina cyanea',\n",
    "    'n02007558': 'flamingo',\n",
    "    'n02002556': 'white stork, Ciconia ciconia',\n",
    "    'n01614925': 'bald eagle, American eagle, Haliaeetus leucocephalus',\n",
    "    'n01582220': 'magpie',\n",
    "    'n01806143': 'peacock',\n",
    "    'n01795545': 'black grouse',\n",
    "    'n01531178': 'goldfinch, Carduelis carduelis',\n",
    "    'n01622779': 'great grey owl, great gray owl, Strix nebulosa',\n",
    "    'n01833805': 'hummingbird',\n",
    "    'n01740131': 'night snake, Hypsiglena torquata',\n",
    "    'n01735189': 'garter snake, grass snake',\n",
    "    'n01755581': 'diamondback, diamondback rattlesnake, Crotalus adamanteus',\n",
    "    'n01751748': 'sea snake',\n",
    "    'n01729977': 'green snake, grass snake',\n",
    "    'n01729322': 'hognose snake, puff adder, sand viper',\n",
    "    'n01734418': 'king snake, kingsnake',\n",
    "    'n01728572': 'thunder snake, worm snake, Carphophis amoenus',\n",
    "    'n01739381': 'vine snake',\n",
    "    'n01756291': 'sidewinder, horned rattlesnake, Crotalus cerastes',\n",
    "    'n01773797': 'garden spider, Aranea diademata',\n",
    "    'n01775062': 'wolf spider, hunting spider',\n",
    "    'n01773549': 'barn spider, Araneus cavaticus',\n",
    "    'n01774384': 'black widow, Latrodectus mactans',\n",
    "    'n01774750': 'tarantula',\n",
    "    'n01440764': 'tench, Tinca tinca',\n",
    "    'n01443537': 'goldfish, Carassius auratus',\n",
    "    'n01667778': 'terrapin',\n",
    "    'n01667114': 'mud turtle',\n",
    "    'n01664065': 'loggerhead, loggerhead turtle, Caretta caretta',\n",
    "    'n01665541': 'leatherback turtle, leatherback, leathery turtle, Dermochelys coriacea',\n",
    "    'n01687978': 'agama',\n",
    "    'n01677366': 'common iguana, iguana, Iguana iguana',\n",
    "    'n01695060': 'Komodo dragon, Komodo lizard, dragon lizard, giant lizard, Varanus komodoensis',\n",
    "    'n01685808': 'whiptail, whiptail lizard',\n",
    "    'n01978287': 'Dungeness crab, Cancer magister',\n",
    "    'n01986214': 'hermit crab',\n",
    "    'n01978455': 'rock crab, Cancer irroratus',\n",
    "    'n01491361': 'tiger shark, Galeocerdo cuvieri',\n",
    "    'n01484850': 'great white shark, white shark, man-eater, man-eating shark, Carcharodon carcharias',\n",
    "    'n01494475': 'hammerhead, hammerhead shark'\n",
    "}"
   ],
   "id": "9a23c1eebaaf68be",
   "execution_count": 4,
   "outputs": []
  },
  {
   "metadata": {
    "ExecuteTime": {
     "end_time": "2024-04-09T02:49:26.439997Z",
     "start_time": "2024-04-09T02:49:26.437301Z"
    }
   },
   "cell_type": "code",
   "source": [
    "folders_in_imagenet100 = [name for name in os.listdir(imagenet100_folder_path) \n",
    "                          if os.path.isdir(os.path.join(imagenet100_folder_path, name))]\n",
    "print(folders_in_imagenet100)"
   ],
   "id": "4b6e1fdf27b123ad",
   "execution_count": 5,
   "outputs": []
  },
  {
   "metadata": {
    "ExecuteTime": {
     "end_time": "2024-04-09T02:55:30.535462Z",
     "start_time": "2024-04-09T02:55:30.521507Z"
    }
   },
   "cell_type": "code",
   "source": [
    "for i in range(len(os.listdir(f'{imagenet100_folder_path}/test_fine'))):\n",
    "    print(len(os.listdir(f\"{imagenet100_folder_path}/test_fine/{os.listdir(f'{imagenet100_folder_path}/test_fine')[0]}\")))"
   ],
   "id": "24a87083c746b66d",
   "execution_count": 14,
   "outputs": []
  },
  {
   "metadata": {
    "ExecuteTime": {
     "end_time": "2024-04-09T02:49:43.491811Z",
     "start_time": "2024-04-09T02:49:42.609034Z"
    }
   },
   "cell_type": "code",
   "source": [
    "def plot_distribution(test: bool):\n",
    "    # Initialize an empty dictionary to store the mapping\n",
    "    class_to_train_folder = {}\n",
    "    \n",
    "    # Function to list sub-folders in a given folder\n",
    "    def list_subfolders(input_folder_path):\n",
    "        return {name for name in os.listdir(input_folder_path) if os.path.isdir(os.path.join(input_folder_path, name))}\n",
    "    \n",
    "    # Iterate over each training folder\n",
    "    # for train_folder in folders_in_imagenet100:\n",
    "    folder_path = os.path.join(imagenet100_folder_path, train_folder)\n",
    "    subfolders = list_subfolders(folder_path)\n",
    "\n",
    "    # Update the dictionary with subfolder names as keys and the train folder as the value\n",
    "    for subfolder in subfolders:\n",
    "        class_to_train_folder[subfolder] = train_folder\n",
    "    \n",
    "    # Initialize a dictionary to count images per class\n",
    "    images_per_class = {class_key: 0 for class_key in class_to_train_folder.keys()}\n",
    "    \n",
    "    # Function to count images in a folder\n",
    "    def count_images(input_folder_path):\n",
    "        return sum([len(files) for r, d, files in os.walk(input_folder_path)])\n",
    "    \n",
    "    # Iterate over each class and its corresponding train folder\n",
    "    for class_key, train_folder in class_to_train_folder.items():\n",
    "        folder_path = os.path.join(imagenet100_folder_path, train_folder, class_key)\n",
    "        images_per_class[class_key] = count_images(folder_path)\n",
    "    \n",
    "    # Data for plotting\n",
    "    class_names = [fine_grain_classes_dict[class_key] for class_key in fine_grain_classes_dict.keys()]\n",
    "    image_counts = [images_per_class[class_key] for class_key in fine_grain_classes_dict.keys()]\n",
    "    \n",
    "    # Increase the figure width for better spacing and readability\n",
    "    plt.figure(figsize=(15, 10))  # Adjusted width from 10 to 15\n",
    "    \n",
    "    bars = plt.bar(class_names, image_counts, color='skyblue', align='center')\n",
    "    \n",
    "    # Setting the labels and title\n",
    "    plt.ylabel('Number of Images')\n",
    "    plt.xlabel('Class')\n",
    "    plt.title('Distribution of Images per Class')\n",
    "    \n",
    "    # Rotating x-axis labels\n",
    "    plt.xticks(rotation=90)\n",
    "    \n",
    "    # Adding a label with the exact count above each bar, with adjustments for better spacing and readability\n",
    "    for bar in bars:\n",
    "        yval = bar.get_height()\n",
    "        plt.text(bar.get_x() + bar.get_width() / 2.0, yval, str(yval), ha='center', va='bottom', fontsize=8, rotation=45)\n",
    "    \n",
    "    plt.tight_layout()  # Adjust layout to make room for the rotated x-axis labels and text\n",
    "    plt.show()"
   ],
   "id": "489226509ec0ba93",
   "execution_count": 6,
   "outputs": []
  },
  {
   "metadata": {},
   "cell_type": "code",
   "execution_count": null,
   "source": "",
   "id": "c100f291c3b75806",
   "outputs": []
  },
  {
   "metadata": {
    "ExecuteTime": {
     "end_time": "2024-04-06T21:06:06.173940Z",
     "start_time": "2024-04-06T21:05:18.812643Z"
    }
   },
   "cell_type": "code",
   "source": [
    "from transformers import AutoImageProcessor, AutoModel\n",
    "from PIL import Image\n",
    "import requests\n",
    "\n",
    "model_name = 'facebook/dinov2-large'\n",
    "processor = AutoImageProcessor.from_pretrained(model_name)\n",
    "model = AutoModel.from_pretrained(model_name)\n",
    "\n",
    "inputs = processor(images=image, return_tensors=\"pt\")\n",
    "outputs = model(**inputs)\n",
    "last_hidden_states = outputs.last_hidden_state"
   ],
   "id": "2238c992a972ea07",
   "execution_count": 42,
   "outputs": []
  },
  {
   "metadata": {
    "ExecuteTime": {
     "end_time": "2024-04-06T21:06:14.039449Z",
     "start_time": "2024-04-06T21:06:14.035466Z"
    }
   },
   "cell_type": "code",
   "source": [
    "outputs"
   ],
   "id": "be74874a1bd1bafd",
   "execution_count": 43,
   "outputs": []
  },
  {
   "metadata": {
    "ExecuteTime": {
     "end_time": "2024-04-08T17:52:39.391460Z",
     "start_time": "2024-04-08T17:52:39.385420Z"
    }
   },
   "cell_type": "code",
   "execution_count": 10,
   "source": "",
   "id": "22b6a6cbe4a842f2",
   "outputs": []
  },
  {
   "cell_type": "code",
   "source": [
    "imagenet_dict = convert_imagenet_hierarchy('Imagenet_hierachy.txt')"
   ],
   "metadata": {
    "collapsed": false,
    "ExecuteTime": {
     "end_time": "2024-04-08T17:52:39.799463Z",
     "start_time": "2024-04-08T17:52:39.795744Z"
    }
   },
   "id": "3f9e3c3fc8dd15b4",
   "execution_count": 11,
   "outputs": []
  },
  {
   "cell_type": "code",
   "source": [
    "imagenet_dict"
   ],
   "metadata": {
    "collapsed": false,
    "ExecuteTime": {
     "end_time": "2024-04-08T17:52:40.302171Z",
     "start_time": "2024-04-08T17:52:40.297722Z"
    }
   },
   "id": "6985442cf52cea3d",
   "execution_count": 12,
   "outputs": []
  },
  {
   "cell_type": "code",
   "source": [],
   "metadata": {
    "collapsed": false
   },
   "id": "f49a30c015d75a6a",
   "execution_count": null,
   "outputs": []
  }
 ],
 "metadata": {
  "kernelspec": {
   "display_name": "Python 3",
   "language": "python",
   "name": "python3"
  },
  "language_info": {
   "codemirror_mode": {
    "name": "ipython",
    "version": 2
   },
   "file_extension": ".py",
   "mimetype": "text/x-python",
   "name": "python",
   "nbconvert_exporter": "python",
   "pygments_lexer": "ipython2",
   "version": "2.7.6"
  }
 },
 "nbformat": 4,
 "nbformat_minor": 5
}
