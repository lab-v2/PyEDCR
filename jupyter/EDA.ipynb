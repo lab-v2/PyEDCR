{
 "cells": [
  {
   "cell_type": "code",
   "execution_count": 1,
   "id": "initial_id",
   "metadata": {
    "ExecuteTime": {
     "end_time": "2023-11-27T00:35:28.565007Z",
     "start_time": "2023-11-27T00:35:24.951561Z"
    }
   },
   "source": [
    "import pandas as pd\n",
    "import numpy as np\n",
    "from sklearn.metrics import accuracy_score\n",
    "import matplotlib.pylab as plt\n",
    "\n",
    "import data_preprocessing\n",
    "import utils\n",
    "from vit_pipeline import vit_model_names, cwd"
   ],
   "outputs": []
  },
  {
   "cell_type": "code",
   "execution_count": 2,
   "source": [
    "data_preprocessing.coarse_grain_classes"
   ],
   "metadata": {
    "collapsed": false,
    "ExecuteTime": {
     "end_time": "2023-11-27T00:35:28.570446Z",
     "start_time": "2023-11-27T00:35:28.567028Z"
    }
   },
   "id": "20b3605db704ff0",
   "outputs": []
  },
  {
   "cell_type": "code",
   "execution_count": 5,
   "source": [
    "fine_to_coarse, fine_to_course_idx = data_preprocessing.get_fine_to_coarse()\n",
    "fine_to_coarse"
   ],
   "metadata": {
    "collapsed": false,
    "ExecuteTime": {
     "end_time": "2023-11-27T00:35:34.994098Z",
     "start_time": "2023-11-27T00:35:34.979920Z"
    }
   },
   "id": "9558392f787c12dd",
   "outputs": []
  },
  {
   "cell_type": "code",
   "execution_count": 4,
   "source": [
    "fine_to_course_idx"
   ],
   "metadata": {
    "collapsed": false,
    "ExecuteTime": {
     "end_time": "2023-11-27T00:35:28.586109Z",
     "start_time": "2023-11-27T00:35:28.581816Z"
    }
   },
   "id": "a8c4407e1353c2d0",
   "outputs": []
  },
  {
   "cell_type": "markdown",
   "source": [
    "# Class Distribution"
   ],
   "metadata": {
    "collapsed": false
   },
   "id": "ae3ef30e8c2b42a0"
  },
  {
   "cell_type": "code",
   "execution_count": 6,
   "source": [
    "for i, granularity in enumerate(granularities.values()):\n",
    "    train_folder_name = f'train_{granularity}'\n",
    "    test_folder_name = f'test_{granularity}'\n",
    "    model_name = vit_model_names[0]\n",
    "    \n",
    "    datasets, n = data_preprocessing.get_datasets(cwd=cwd)\n",
    "    \n",
    "    num_train_examples = len(datasets[f'{vit_model_names[0]}_{train_folder_name}'])\n",
    "    num_test_examples = len(datasets[f'{vit_model_names[0]}_{test_folder_name}'])\n",
    "    train_ratio = round(num_train_examples / (num_train_examples + num_test_examples) * 100, 2)\n",
    "    test_ratio = round(num_test_examples / (num_train_examples + num_test_examples) * 100, 2)\n",
    "    \n",
    "    if i == 0:\n",
    "        print(f\"Total num of examples: train: {num_train_examples} ({train_ratio}%), \"\n",
    "              f\"test: {num_test_examples} ({test_ratio}%)\")\n",
    "    \n",
    "    def calculate_class_distribution(dataset: data_preprocessing.ImageFolderWithName):\n",
    "        class_counts = np.zeros(len(dataset.classes), \n",
    "                                dtype=int)\n",
    "    \n",
    "        for _, y in dataset.imgs:\n",
    "            class_counts[y] += 1\n",
    "    \n",
    "        return class_counts\n",
    "    \n",
    "    # Create a single plot for one model, with the test class distribution inside the train bar\n",
    "    plt.figure(figsize=(15, 6))\n",
    "    width = 0.35\n",
    "    x = np.arange(n)\n",
    "    \n",
    "    plt.bar(x, \n",
    "            calculate_class_distribution(dataset=datasets[f\"{model_name}_{train_folder_name}\"]), \n",
    "            width=width, \n",
    "            label='Train', \n",
    "            alpha=0.7)\n",
    "    plt.bar(x, \n",
    "            calculate_class_distribution(dataset=datasets[f\"{model_name}_{test_folder_name}\"]), \n",
    "            width=width, \n",
    "            label='Test', \n",
    "            bottom=0, \n",
    "            alpha=0.7)\n",
    "    \n",
    "    plt.title(f'{granularity.capitalize()}-Grain Class Distribution')\n",
    "    plt.xlabel(\"Class\")\n",
    "    plt.ylabel(\"Count\")\n",
    "    plt.xticks(x, datasets[f\"{model_name}_{train_folder_name}\"].classes, rotation=45)\n",
    "    plt.legend()\n",
    "    plt.show()"
   ],
   "metadata": {
    "collapsed": false,
    "ExecuteTime": {
     "end_time": "2023-11-06T23:47:46.164993Z",
     "start_time": "2023-11-06T23:47:45.415807Z"
    }
   },
   "id": "1b316c39180f8dfb",
   "outputs": []
  },
  {
   "cell_type": "code",
   "execution_count": 7,
   "source": [
    "files_path = '/content/drive/My Drive/' if utils.is_running_in_colab() else ''\n",
    "results_path = fr'{files_path}results/'\n",
    "coarse_test_true_data = np.load(fr\"{results_path}test_true_coarse.npy\")\n",
    "\n",
    "def get_counts(arr: np.array) -> dict:\n",
    "    return ({k: 0 for k in range(np.unique(true_data).shape[0])} | \n",
    "            {k: v for k, v in zip(*np.unique(arr, return_counts=True))})\n",
    "\n",
    "def plot_bars(arr: np.array):\n",
    "    counts = get_counts(arr)\n",
    "    unique_values, counts = list(counts.keys()), list(counts.values())\n",
    "    plt.bar(unique_values, counts, color='skyblue')\n",
    "    plt.xlabel('Value')\n",
    "    plt.ylabel('Occurrences')\n",
    "    plt.title(f'{arr=}'.split('=')[0])\n",
    "    \n",
    "    plt.xticks(unique_values)"
   ],
   "metadata": {
    "collapsed": false,
    "ExecuteTime": {
     "end_time": "2023-11-06T23:47:47.195144Z",
     "start_time": "2023-11-06T23:47:47.191222Z"
    }
   },
   "id": "4f28a7dd4c95fcb8",
   "outputs": []
  },
  {
   "cell_type": "code",
   "execution_count": 9,
   "id": "816799c60e8597ba",
   "metadata": {
    "ExecuteTime": {
     "end_time": "2023-11-06T23:49:57.040311Z",
     "start_time": "2023-11-06T23:49:55.243828Z"
    }
   },
   "source": [
    "data_file_path = rf'data/WEO_Data_Sheet.xlsx'\n",
    "dataframes_by_sheet = pd.read_excel(data_file_path, sheet_name=None)\n",
    "\n",
    "dataframes_by_sheet.keys()"
   ],
   "outputs": []
  },
  {
   "cell_type": "code",
   "execution_count": 10,
   "source": [
    "train_df = dataframes_by_sheet['Training']\n",
    "train_image_names = train_df['Image Name']\n",
    "train_df.shape"
   ],
   "metadata": {
    "collapsed": false,
    "ExecuteTime": {
     "end_time": "2023-11-06T23:49:58.375528Z",
     "start_time": "2023-11-06T23:49:58.364062Z"
    }
   },
   "id": "fb9944eab35d85a3",
   "outputs": []
  },
  {
   "cell_type": "code",
   "execution_count": 11,
   "source": [
    "train_df.head()"
   ],
   "metadata": {
    "collapsed": false,
    "ExecuteTime": {
     "end_time": "2023-11-06T23:49:59.339370Z",
     "start_time": "2023-11-06T23:49:59.332206Z"
    }
   },
   "id": "fb8db9e314d1db71",
   "outputs": []
  },
  {
   "cell_type": "code",
   "execution_count": 12,
   "id": "8e674392b40ad93a",
   "metadata": {
    "ExecuteTime": {
     "end_time": "2023-11-06T23:49:59.897979Z",
     "start_time": "2023-11-06T23:49:59.895610Z"
    }
   },
   "source": [
    "fine_grain_results_df = dataframes_by_sheet['Fine-Grain Results']\n",
    "fine_grain_results_df.columns"
   ],
   "outputs": []
  },
  {
   "cell_type": "code",
   "execution_count": 13,
   "source": [
    "coarse_grain_results_df = dataframes_by_sheet['Coarse-Grain Results']\n",
    "coarse_grain_classes = coarse_grain_results_df['Class Name'].values\n",
    "coarse_grain_classes"
   ],
   "metadata": {
    "collapsed": false,
    "ExecuteTime": {
     "end_time": "2023-11-06T23:50:00.423399Z",
     "start_time": "2023-11-06T23:50:00.420108Z"
    }
   },
   "id": "bd75739e8738e97e",
   "outputs": []
  },
  {
   "cell_type": "code",
   "execution_count": 14,
   "source": [
    "fine_grain_classes = {k:v for k, v in enumerate(fine_grain_results_df['Class Name'].values)}\n",
    "n = len(fine_grain_classes)\n",
    "\n",
    "fine_grain_classes"
   ],
   "metadata": {
    "collapsed": false,
    "ExecuteTime": {
     "end_time": "2023-11-06T23:50:01.061260Z",
     "start_time": "2023-11-06T23:50:01.038621Z"
    }
   },
   "id": "7db40207195c64b4",
   "outputs": []
  },
  {
   "cell_type": "code",
   "execution_count": 15,
   "source": [
    "fine_to_coarse = {}\n",
    "\n",
    "for fine_grain_class in fine_grain_classes.values():\n",
    "    fine_grain_values = train_df[train_df['Fine-Grain Ground Truth'] == fine_grain_class]\n",
    "    coarse_grain_class = fine_grain_values.iloc[0]['Course-Grain Ground Truth']\n",
    "    fine_to_coarse[fine_grain_class] = coarse_grain_class\n",
    "\n",
    "fine_to_coarse"
   ],
   "metadata": {
    "collapsed": false,
    "ExecuteTime": {
     "end_time": "2023-11-06T23:50:01.627699Z",
     "start_time": "2023-11-06T23:50:01.620889Z"
    }
   },
   "id": "af6bd073c300d297",
   "outputs": []
  },
  {
   "cell_type": "code",
   "execution_count": 16,
   "source": [
    "import os\n",
    "import shutil\n",
    "\n",
    "train_folder = 'train_fine'\n",
    "test_folder = 'test_fine'\n",
    "\n",
    "# Create the train_coarse and test_coarse folders\n",
    "train_coarse_folder = 'train_coarse'\n",
    "test_coarse_folder = 'test_coarse'\n",
    "\n",
    "os.makedirs(train_coarse_folder, exist_ok=True)\n",
    "os.makedirs(test_coarse_folder, exist_ok=True)\n",
    "\n",
    "# Initialize a dictionary to store file counters for each coarse class\n",
    "coarse_class_counters = {}\n",
    "\n",
    "# Function to copy images to coarse-grained class folders with sequential filenames\n",
    "def copy_images_with_sequential_filenames(source_folder, destination_folder):\n",
    "    content = [d for d in os.listdir(source_folder) if not d.startswith(\".\")]\n",
    "    assert len(content) == n\n",
    "\n",
    "    for fine_class in content:\n",
    "        coarse_class = fine_to_coarse[fine_class]\n",
    "        destination_class_path = os.path.join(destination_folder, coarse_class)\n",
    "        os.makedirs(destination_class_path, exist_ok=True)\n",
    "\n",
    "        source_class_path = os.path.join(source_folder, fine_class)\n",
    "\n",
    "        # Initialize the file counter for this coarse class if it's not set\n",
    "        if coarse_class not in coarse_class_counters:\n",
    "            coarse_class_counters[coarse_class] = 0\n",
    "\n",
    "        for file in [d for d in os.listdir(source_class_path) if not d.startswith(\".\")]:\n",
    "            source_path = os.path.join(source_class_path, file)\n",
    "\n",
    "            # Get the file counter for this coarse class\n",
    "            file_counter = coarse_class_counters[coarse_class]\n",
    "\n",
    "            destination_filename = f\"{file_counter:04d}{os.path.splitext(file)[-1]}\"\n",
    "            destination_path = os.path.join(destination_class_path, destination_filename)\n",
    "\n",
    "            shutil.copy(source_path, destination_path)\n",
    "\n",
    "            # Increment the file counter for this coarse class\n",
    "            coarse_class_counters[coarse_class] += 1\n",
    "\n",
    "# Iterate through the train_fine and test_fine folders and copy images to train_coarse and test_coarse\n",
    "for source_folder, destination_folder in [(train_folder, train_coarse_folder), (test_folder, test_coarse_folder)]:\n",
    "    copy_images_with_sequential_filenames(source_folder, destination_folder)\n",
    "\n",
    "print(\"Coarse-grained class folders created, and images copied with sequential filenames.\")\n"
   ],
   "metadata": {
    "collapsed": false,
    "ExecuteTime": {
     "end_time": "2023-11-06T23:50:05.258302Z",
     "start_time": "2023-11-06T23:50:02.371906Z"
    }
   },
   "id": "16aa2333fad86bc5",
   "outputs": []
  },
  {
   "cell_type": "code",
   "execution_count": 17,
   "source": [
    "def count_images_in_folder(folder_path):\n",
    "    count = 0\n",
    "    for root, _, files in os.walk(folder_path):\n",
    "        count += len(files)\n",
    "    return count\n",
    "\n",
    "# Count the number of images in the original train and test folders\n",
    "original_train_count = count_images_in_folder(train_folder)\n",
    "original_test_count = count_images_in_folder(test_folder)\n",
    "\n",
    "# Count the number of images in the new train_coarse and test_coarse folders\n",
    "new_train_count = count_images_in_folder(train_coarse_folder)\n",
    "new_test_count = count_images_in_folder(test_coarse_folder)\n",
    "\n",
    "# Assert that the counts are consistent\n",
    "# assert original_train_count == new_train_count, f\"Train image count mismatch: {original_train_count} != {new_train_count}\"\n",
    "assert original_test_count == new_test_count, f\"Test image count mismatch: {original_test_count} != {new_test_count}\"\n",
    "\n",
    "print(\"Image counts are consistent.\")"
   ],
   "metadata": {
    "collapsed": false,
    "ExecuteTime": {
     "end_time": "2023-11-06T23:50:46.414815Z",
     "start_time": "2023-11-06T23:50:46.385911Z"
    }
   },
   "id": "c0508157c2fad06a",
   "outputs": []
  },
  {
   "cell_type": "code",
   "execution_count": 18,
   "source": [
    "# Debugging - print class names and image counts\n",
    "for fine_class in os.listdir(train_folder):\n",
    "    source_class_path = os.path.join(train_folder, fine_class)\n",
    "    \n",
    "    # Skip hidden system files and non-directory files\n",
    "    if not os.path.isdir(source_class_path) or fine_class.startswith('.'):\n",
    "        continue\n",
    "\n",
    "    coarse_class = fine_to_coarse.get(fine_class, \"other\")\n",
    "    num_images = len(os.listdir(source_class_path))\n",
    "    print(f\"Fine class: {fine_class}, Coarse class: {coarse_class}, Image count: {num_images}\")\n"
   ],
   "metadata": {
    "collapsed": false,
    "ExecuteTime": {
     "end_time": "2023-11-06T23:51:05.381123Z",
     "start_time": "2023-11-06T23:51:05.337705Z"
    }
   },
   "id": "3870c438d3eb0dc1",
   "outputs": []
  },
  {
   "cell_type": "code",
   "execution_count": 19,
   "source": [
    "test_df = dataframes_by_sheet['1s_0s_Sheet']\n",
    "test_df.shape"
   ],
   "metadata": {
    "collapsed": false,
    "ExecuteTime": {
     "end_time": "2023-11-06T23:51:08.078053Z",
     "start_time": "2023-11-06T23:51:08.075075Z"
    }
   },
   "id": "48176f5aa412f85b",
   "outputs": []
  },
  {
   "cell_type": "code",
   "execution_count": 20,
   "source": [
    "test_df.head()"
   ],
   "metadata": {
    "collapsed": false,
    "ExecuteTime": {
     "end_time": "2023-11-06T23:51:10.344465Z",
     "start_time": "2023-11-06T23:51:10.337117Z"
    }
   },
   "id": "7021686ca496263c",
   "outputs": []
  },
  {
   "cell_type": "code",
   "execution_count": 21,
   "source": [
    "test_df.columns"
   ],
   "metadata": {
    "collapsed": false,
    "ExecuteTime": {
     "end_time": "2023-11-06T23:51:11.723336Z",
     "start_time": "2023-11-06T23:51:11.719519Z"
    }
   },
   "id": "2cd18ec9e36ded4f",
   "outputs": []
  },
  {
   "cell_type": "code",
   "execution_count": 22,
   "source": [
    "test_image_names = test_df['Image Name'].values\n",
    "set(test_image_names).intersection(set(train_image_names))"
   ],
   "metadata": {
    "collapsed": false,
    "ExecuteTime": {
     "end_time": "2023-11-06T23:51:12.468391Z",
     "start_time": "2023-11-06T23:51:12.465115Z"
    }
   },
   "id": "e6bf81a04a4863f8",
   "outputs": []
  },
  {
   "cell_type": "code",
   "execution_count": 23,
   "source": [
    "def get_example_info(image_name: str) -> pd.Series:\n",
    "    \"\"\"\n",
    "    :param image_name: The image name of the example to consider\n",
    "    :return: A row of all the info about the example\n",
    "    \"\"\"\n",
    "\n",
    "    return test_df[test_df['Image Name'] == image_name]\n",
    "\n",
    "\n",
    "def get_example_fine_grain_one_hot_classes(image_name: str):\n",
    "    \"\"\"\n",
    "    :param image_name: The image name of the example to consider\n",
    "    :return: One-hot prediction vectors for all the classes on the image\n",
    "    \"\"\"\n",
    "\n",
    "    return get_example_info(image_name)[fine_grain_classes].values\n",
    "\n",
    "\n",
    "def get_class_name(cls: str,\n",
    "                   ground_truth: bool) -> str:\n",
    "    \"\"\"\n",
    "    :param cls: The image name of the example to consider\n",
    "    :param ground_truth: Whether to get g_t data or not\n",
    "    :return: A string of the class name\n",
    "    \"\"\"\n",
    "\n",
    "    if ground_truth and cls == 'Air Defense':\n",
    "        return 'Air Defence'\n",
    "\n",
    "    return cls if cls != 'Self Propelled Artillery' else 'SPA'\n",
    "\n",
    "\n",
    "def get_class_index(image_name: str,\n",
    "                    ground_truth: bool,\n",
    "                    granularity: str = 'fine') -> int:\n",
    "    \"\"\"\n",
    "    :param image_name: The image name of the example to consider\n",
    "    :param ground_truth: Whether to get ground truth data or not\n",
    "    :param granularity: Fine or course label\n",
    "    :return: A string of the class name\n",
    "    \"\"\"\n",
    "\n",
    "    w_info = get_example_info(image_name)\n",
    "    column_name_generator = lambda cls: get_class_name(cls, ground_truth) if ground_truth else (\n",
    "        f\"pred_{get_class_name(cls, ground_truth)}\" if granularity == 'fine'\n",
    "        else f\"Exp 2 Prediction ({get_class_name(cls, ground_truth)})\")\n",
    "    classes = fine_grain_classes if granularity == 'fine' else coarse_grain_classes\n",
    "    class_index = int(np.array([w_info[column_name_generator(cls)] for cls in classes]).argmax())\n",
    "\n",
    "    return class_index\n",
    "\n",
    "\n",
    "def get_fine_grain_predicted_index(image_name: str) -> int:\n",
    "    \"\"\"\n",
    "    :param image_name: The image name of the example to consider\n",
    "    :return: The fine grain predicted index\n",
    "    \"\"\"\n",
    "\n",
    "    return get_class_index(image_name=image_name, ground_truth=False)\n",
    "\n",
    "\n",
    "def get_fine_grain_true_index(image_name: str) -> int:\n",
    "    \"\"\"\n",
    "    :param image_name: The image name of the example to consider\n",
    "    :return: The fine grain ground truth index\n",
    "    \"\"\"\n",
    "\n",
    "    return get_class_index(image_name=image_name, ground_truth=True)\n",
    "\n",
    "\n",
    "def get_class(image_name: str,\n",
    "              ground_truth: bool,\n",
    "              granularity: str = 'fine') -> str:\n",
    "    \"\"\"\n",
    "    :param image_name: The image name of the example to consider\n",
    "    :param ground_truth: Whether to get ground truth data or not\n",
    "    :param granularity: Fine or course label\n",
    "    :return: A row of all the info about the example\n",
    "    \"\"\"\n",
    "\n",
    "    class_index = get_class_index(image_name=image_name, ground_truth=ground_truth, granularity=granularity)\n",
    "    classes = fine_grain_classes if granularity == 'fine' else coarse_grain_classes\n",
    "    resulted_class = classes[class_index]\n",
    "\n",
    "    return resulted_class\n"
   ],
   "metadata": {
    "collapsed": false,
    "ExecuteTime": {
     "end_time": "2023-11-06T23:51:13.773697Z",
     "start_time": "2023-11-06T23:51:13.767318Z"
    }
   },
   "id": "5f1906f60afcd98b",
   "outputs": []
  },
  {
   "cell_type": "code",
   "execution_count": 24,
   "source": [
    "pred_data = [get_fine_grain_predicted_index(image_name) for image_name in test_image_names]\n",
    "true_data = [get_fine_grain_true_index(image_name) for image_name in test_image_names]\n",
    "accuracy_score(y_true=true_data, y_pred=pred_data)"
   ],
   "metadata": {
    "collapsed": false,
    "ExecuteTime": {
     "end_time": "2023-11-06T23:51:15.584807Z",
     "start_time": "2023-11-06T23:51:14.975052Z"
    }
   },
   "id": "b9e7ee865e03ed4e",
   "outputs": []
  },
  {
   "cell_type": "code",
   "execution_count": 28,
   "source": [
    "vit_pred_data = np.load(\"vit_pred.npy\", allow_pickle=True)\n",
    "accuracy_score(y_true=true_data, y_pred=vit_pred_data)"
   ],
   "metadata": {
    "collapsed": false,
    "ExecuteTime": {
     "end_time": "2023-09-06T22:05:22.255606Z",
     "start_time": "2023-09-06T22:05:22.113672Z"
    }
   },
   "id": "187a8fa5c6832951",
   "outputs": []
  },
  {
   "cell_type": "code",
   "execution_count": 29,
   "source": [
    "plot_bars(pred_data)"
   ],
   "metadata": {
    "collapsed": false,
    "ExecuteTime": {
     "end_time": "2023-09-06T22:05:22.714129Z",
     "start_time": "2023-09-06T22:05:22.563285Z"
    }
   },
   "id": "8751db2710bd5542",
   "outputs": []
  },
  {
   "cell_type": "code",
   "execution_count": 30,
   "source": [
    "plot_bars(true_data)"
   ],
   "metadata": {
    "collapsed": false,
    "ExecuteTime": {
     "end_time": "2023-09-06T22:07:04.866805Z",
     "start_time": "2023-09-06T22:05:22.983565Z"
    }
   },
   "id": "69192f33bfb0e022",
   "outputs": []
  }
 ],
 "metadata": {
  "kernelspec": {
   "display_name": "Python 3 (ipykernel)",
   "language": "python",
   "name": "python3"
  },
  "language_info": {
   "codemirror_mode": {
    "name": "ipython",
    "version": 3
   },
   "file_extension": ".py",
   "mimetype": "text/x-python",
   "name": "python",
   "nbconvert_exporter": "python",
   "pygments_lexer": "ipython3",
   "version": "3.11.1"
  }
 },
 "nbformat": 4,
 "nbformat_minor": 5
}
