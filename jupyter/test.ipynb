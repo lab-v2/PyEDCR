{
 "cells": [
  {
   "cell_type": "code",
   "execution_count": 21,
   "id": "initial_id",
   "metadata": {
    "collapsed": true,
    "ExecuteTime": {
     "end_time": "2024-02-14T20:09:22.661045Z",
     "start_time": "2024-02-14T20:09:22.651535Z"
    }
   },
   "source": [
    "import numpy as np\n",
    "import data_preprocessing\n",
    "import PyEDCR\n",
    "import vit_pipeline"
   ],
   "outputs": []
  },
  {
   "cell_type": "markdown",
   "id": "0fc058d1",
   "metadata": {},
   "source": [
    "# Creating test_data"
   ]
  },
  {
   "cell_type": "code",
   "execution_count": 6,
   "id": "cf8c8ddf5d48c8ea",
   "metadata": {
    "ExecuteTime": {
     "end_time": "2024-02-11T03:10:07.200283Z",
     "start_time": "2024-02-11T03:10:07.193753Z"
    },
    "collapsed": false
   },
   "source": [
    "# test_pred_fine = np.load('test/test_pred_fine.npy')\n",
    "# test_pred_coarse = np.load('test/test_pred_coarse.npy')\n",
    "\n",
    "train_fine_pred = np.load('combined_results/vit_b_16_train_fine_pred_BCE_lr0.0001_e19.npy')\n",
    "train_coarse_pred = np.load('combined_results/vit_b_16_train_coarse_pred_BCE_lr0.0001_e19.npy')\n",
    "test_fine_pred = np.load('combined_results/vit_b_16_test_fine_pred_BCE_lr0.0001_e19.npy')\n",
    "test_coarse_pred = np.load('combined_results/vit_b_16_test_coarse_pred_BCE_lr0.0001_e19.npy')\n",
    "\n",
    "test_fine_true, test_coarse_true = data_preprocessing.get_ground_truths(test=True,)\n",
    "train_fine_true, train_coarse_true = data_preprocessing.get_ground_truths(test=False)"
   ],
   "outputs": []
  },
  {
   "cell_type": "code",
   "execution_count": 7,
   "id": "314e5b24f2a862db",
   "metadata": {
    "collapsed": false
   },
   "source": [
    "import numpy as np\n",
    "\n",
    "# Initialize empty lists to store indices for each value\n",
    "indices_list_train = []\n",
    "\n",
    "# Iterate through each unique value and limit to 10 instances\n",
    "for value in [0, 1, 2]:\n",
    "    # Get indices where the value is present\n",
    "    indices = np.where(train_fine_true == value)[0]\n",
    "    \n",
    "    # Limit to 10 instances and shuffle the indices\n",
    "    indices = np.random.choice(indices, size=10, replace=False)\n",
    "    \n",
    "    # Append the limited indices to corresponding lists\n",
    "    indices_list_train.extend(indices)"
   ],
   "outputs": []
  },
  {
   "cell_type": "code",
   "execution_count": 8,
   "id": "232a796f",
   "metadata": {},
   "source": [
    "import numpy as np\n",
    "\n",
    "# Initialize empty lists to store indices for each value\n",
    "indices_list_test = []\n",
    "\n",
    "# Iterate through each unique value and limit to 10 instances\n",
    "for value in [0, 1, 2]:\n",
    "    # Get indices where the value is present\n",
    "    indices = np.where(test_fine_true == value)[0]\n",
    "    \n",
    "    # Limit to 10 instances and shuffle the indices\n",
    "    indices = np.random.choice(indices, size=10, replace=False)\n",
    "    \n",
    "    # Append the limited indices to corresponding lists\n",
    "    indices_list_test.extend(indices)"
   ],
   "outputs": []
  },
  {
   "cell_type": "code",
   "execution_count": 9,
   "id": "fad006a4",
   "metadata": {},
   "source": [
    "check_train_fine_pred = train_fine_pred[indices_list_train]\n",
    "check_train_coarse_pred = train_coarse_pred[indices_list_train]\n",
    "\n",
    "check_test_fine_pred = test_fine_pred[indices_list_test]\n",
    "check_test_coarse_pred = test_coarse_pred[indices_list_test]\n",
    "\n",
    "check_train_fine_true = train_fine_true[indices_list_train]\n",
    "check_train_coarse_true = train_coarse_true[indices_list_train]\n",
    "\n",
    "check_test_fine_true = test_fine_true[indices_list_test]\n",
    "check_test_coarse_true = test_coarse_true[indices_list_test]"
   ],
   "outputs": []
  },
  {
   "cell_type": "code",
   "execution_count": 13,
   "id": "7df66545",
   "metadata": {},
   "source": [
    "np.save(\"test_data/check_train_fine_pred.npy\", check_train_fine_pred)\n",
    "np.save(\"test_data/check_train_coarse_pred.npy\", check_train_coarse_pred)\n",
    "\n",
    "np.save(\"test_data/check_test_fine_pred.npy\", check_test_fine_pred)\n",
    "np.save(\"test_data/check_test_coarse_pred.npy\", check_test_coarse_pred)\n",
    "\n",
    "np.save(\"test_data/check_train_fine_true.npy\", check_train_fine_true)\n",
    "np.save(\"test_data/check_train_coarse_true.npy\", check_train_coarse_true)\n",
    "\n",
    "np.save(\"test_data/check_test_fine_true.npy\", check_test_fine_true)\n",
    "np.save(\"test_data/check_test_coarse_true.npy\", check_test_coarse_true)"
   ],
   "outputs": []
  },
  {
   "cell_type": "markdown",
   "id": "6504af76",
   "metadata": {},
   "source": [
    "# Retrieve check data"
   ]
  },
  {
   "cell_type": "code",
   "execution_count": 9,
   "id": "eb1c9971",
   "metadata": {
    "ExecuteTime": {
     "end_time": "2024-02-14T18:46:50.425397Z",
     "start_time": "2024-02-14T18:46:50.410850Z"
    }
   },
   "source": [
    "test_true_fine_data = np.load(r'data/test_fine/test_true_fine.npy')\n",
    "test_true_coarse_data = np.load(r'data/test_coarse/test_true_coarse.npy')\n",
    "\n",
    "train_true_fine_data = np.load(r'data/train_fine/train_true_fine.npy')\n",
    "train_true_coarse_data = np.load(r'data/train_coarse/train_true_coarse.npy')"
   ],
   "outputs": []
  },
  {
   "cell_type": "code",
   "source": [
    "np.where(train_true_fine_data==1)"
   ],
   "metadata": {
    "collapsed": false,
    "ExecuteTime": {
     "end_time": "2024-02-14T18:49:24.958040Z",
     "start_time": "2024-02-14T18:49:24.953896Z"
    }
   },
   "id": "28cbb40521511bb7",
   "execution_count": 14,
   "outputs": []
  },
  {
   "cell_type": "code",
   "source": [
    "labels = data_preprocessing.fine_grain_classes_str\n",
    "# Sample data (sorted)\n",
    "data = test_true_fine_data\n",
    "\n",
    "# Define the target label\n",
    "for index, target_label in enumerate(labels):\n",
    "\n",
    "    # Find the starting and ending indices of the target label\n",
    "    start_index = np.argmax(test_true_fine_data==index)\n",
    "    end_index = start_index + 1\n",
    "\n",
    "    # While the next label is the same, keep incrementing the end index\n",
    "    while end_index < len(data) and data[end_index] == index:\n",
    "        end_index += 1\n",
    "\n",
    "    # Print the range of indices\n",
    "    print(f\"{target_label}: [{start_index}, {end_index - 1}]\")"
   ],
   "metadata": {
    "collapsed": false,
    "ExecuteTime": {
     "end_time": "2024-02-14T19:58:09.496158Z",
     "start_time": "2024-02-14T19:58:09.478719Z"
    }
   },
   "id": "5ae55bb1adc07cdf",
   "execution_count": 19,
   "outputs": []
  },
  {
   "cell_type": "code",
   "source": [
    "main_model_name = 'vit_b_16'\n",
    "combined = True\n",
    "test = True\n",
    "g_str = data_preprocessing.granularities['fine'].g_str\n",
    "loss = 'BCE'\n",
    "lr = 1e-04\n",
    "pred=False\n",
    "num_epochs=19\n",
    "test_true_fine_path = vit_pipeline.get_filepath(model_name=main_model_name,\n",
    "                          combined=combined,\n",
    "                          test=test,\n",
    "                          granularity=g_str,\n",
    "                          loss=loss,\n",
    "                          lr=lr,\n",
    "                          pred=True,\n",
    "                          epoch=num_epochs)"
   ],
   "metadata": {
    "collapsed": false,
    "ExecuteTime": {
     "end_time": "2024-02-14T18:46:10.807840Z",
     "start_time": "2024-02-14T18:46:10.797043Z"
    }
   },
   "id": "313551b7014fcd98",
   "execution_count": 7,
   "outputs": []
  },
  {
   "cell_type": "code",
   "source": [
    "test_true_fine_data = np.load(test_true_fine_path)"
   ],
   "metadata": {
    "collapsed": false,
    "ExecuteTime": {
     "end_time": "2024-02-14T18:46:25.735920Z",
     "start_time": "2024-02-14T18:46:25.702426Z"
    }
   },
   "id": "b9ce5667f29a7dbb",
   "execution_count": 8,
   "outputs": []
  },
  {
   "cell_type": "code",
   "source": [
    "data_preprocessing.coarse_to_fine"
   ],
   "metadata": {
    "collapsed": false,
    "ExecuteTime": {
     "end_time": "2024-02-14T20:12:00.810624Z",
     "start_time": "2024-02-14T20:12:00.801385Z"
    }
   },
   "id": "d30ceccdccdd58a6",
   "execution_count": 24,
   "outputs": []
  },
  {
   "cell_type": "code",
   "execution_count": 34,
   "id": "78309ec0",
   "metadata": {},
   "source": [
    "g_fine, g_coarse = data_preprocessing.granularities.values()\n",
    "fg_l, cg_l = list(data_preprocessing.fine_grain_labels.values()), list(data_preprocessing.coarse_grain_labels.values())\n"
   ],
   "outputs": []
  },
  {
   "cell_type": "code",
   "execution_count": 32,
   "id": "c6693c1a",
   "metadata": {},
   "source": [
    "import numpy as np\n",
    "\n",
    "# Sample data (assuming fg_l and cg_l are defined elsewhere)\n",
    "# check_train_fine_pred = np.array([0, 2, 1])\n",
    "# check_train_coarse_pred = np.array([0, 1, 0])\n",
    "# check_train_fine_true = np.array([2, 1, 0])\n",
    "# check_train_coarse_true = np.array([1, 0, 2])\n",
    "# fg_l = [\"2S19_MSTA\", \"BMP-3\", \"T-72B\"]\n",
    "# cg_l = [\"Tank\", \"Infantry fighting vehicle\", \"Self Propelled Artillery\"]\n",
    "\n",
    "# Function to format prediction/ground truth pairs\n",
    "def format_pair(pred_fine, pred_coarse, true_fine, true_coarse):\n",
    "  max_pred_len = max([len(str(l)) for l in fg_l]) + max([len(str(l)) for l in cg_l]) + 10 \n",
    "  max_true_len = max([len(str(l)) for l in fg_l]) + max([len(str(l)) for l in cg_l]) + 10\n",
    "  pred_str = f\"pred: ({fg_l[pred_fine]}, {cg_l[pred_coarse]})\"\n",
    "  true_str = f\"true: ({fg_l[true_fine]}, {cg_l[true_coarse]})\"\n",
    "  pred_str += \" \" * (max_pred_len - len(pred_str))\n",
    "  true_str += \" \" * (max_true_len - len(true_str))\n",
    "  return f\"pred: ({fg_l[pred_fine]}, {cg_l[pred_coarse]})\", f\"true: ({fg_l[true_fine]}, {cg_l[true_coarse]})\"\n",
    "\n",
    "# Print information in desired format\n",
    "for i in range(len(check_train_fine_pred)):\n",
    "  pred_fine, pred_coarse = check_train_fine_pred[i], check_train_coarse_pred[i]\n",
    "  true_fine, true_coarse = check_train_fine_true[i], check_train_coarse_true[i]\n",
    "  pred_str, true_str = format_pair(pred_fine, pred_coarse, true_fine, true_coarse)\n",
    "  print(f'[\"{pred_str}\", \"{true_str}\"]')\n",
    "\n"
   ],
   "outputs": []
  },
  {
   "cell_type": "code",
   "execution_count": null,
   "id": "2f784848",
   "metadata": {},
   "source": [
    "!python test/test_get_where_train_fp_l.py"
   ],
   "outputs": []
  },
  {
   "cell_type": "code",
   "execution_count": null,
   "id": "215bbcd2",
   "metadata": {},
   "source": [],
   "outputs": []
  }
 ],
 "metadata": {
  "kernelspec": {
   "display_name": "Python 3",
   "language": "python",
   "name": "python3"
  },
  "language_info": {
   "codemirror_mode": {
    "name": "ipython",
    "version": 3
   },
   "file_extension": ".py",
   "mimetype": "text/x-python",
   "name": "python",
   "nbconvert_exporter": "python",
   "pygments_lexer": "ipython3",
   "version": "3.11.0"
  }
 },
 "nbformat": 4,
 "nbformat_minor": 5
}
