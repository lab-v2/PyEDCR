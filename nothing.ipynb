{
 "cells": [
  {
   "cell_type": "code",
   "execution_count": 10,
   "metadata": {},
   "outputs": [],
   "source": [
    "access_token = \"sl.BuH4FD4CoaTOSEnioggSVRFLFjiZqmcp_DN6B_ERhSvyM_sj1PHedrbdCxvYKDWzvJWKHeGrznpg3k76jdfYvYfjb3LWuzQ7wm_GaZDpJQeGxamI545ZErGC8APkh9kueI3sg_xRzYJe6NCPSwfP\""
   ]
  },
  {
   "cell_type": "code",
   "execution_count": 15,
   "metadata": {},
   "outputs": [],
   "source": [
    "import dropbox\n",
    "\n",
    "class TransferData:\n",
    "    def __init__(self, access_token):\n",
    "        self.access_token = access_token\n",
    "\n",
    "    def upload_file(self, file_from, file_to):\n",
    "        \"\"\"upload a file to Dropbox using API v2\n",
    "        \"\"\"\n",
    "        dbx = dropbox.Dropbox(self.access_token)\n",
    "\n",
    "        with open(file_from, 'rb') as f:\n",
    "            dbx.files_upload(f.read(), file_to)\n",
    "\n",
    "    def download_file(self, file_from, file_to):\n",
    "        \"\"\"Download a file from Dropbox to a local file.\"\"\"\n",
    "        dbx = dropbox.Dropbox(self.access_token)\n",
    "\n",
    "        try:\n",
    "            # Download the file from Dropbox\n",
    "            metadata, response = dbx.files_download(file_from)\n",
    "\n",
    "            # Save the file locally\n",
    "            with open(file_to, 'wb') as f:\n",
    "                f.write(response.content)\n",
    "\n",
    "            print(f\"File downloaded successfully: {file_to}\")\n",
    "\n",
    "        except dropbox.exceptions.ApiError as err:\n",
    "            print(f\"Error downloading file: {err}\")\n",
    "\n",
    "\n",
    "    \n"
   ]
  },
  {
   "cell_type": "code",
   "execution_count": 11,
   "metadata": {},
   "outputs": [],
   "source": [
    "transferData = TransferData(access_token)\n",
    "\n",
    "file_from = 'vit_pipeline.py'\n",
    "file_to = '/test.py'  # The full path to upload the file to, including the file name\n",
    "\n",
    "# API v2\n",
    "transferData.upload_file(file_from, file_to)"
   ]
  },
  {
   "cell_type": "code",
   "execution_count": 16,
   "metadata": {},
   "outputs": [
    {
     "name": "stdout",
     "output_type": "stream",
     "text": [
      "File downloaded successfully: vit_pipeline123.py\n"
     ]
    }
   ],
   "source": [
    "transferData = TransferData(access_token)\n",
    "\n",
    "file_from = 'vit_pipeline123.py'\n",
    "file_to = '/test.py'  # The full path to upload the file to, including the file name\n",
    "\n",
    "transferData.download_file(file_to, file_from)"
   ]
  },
  {
   "cell_type": "code",
   "execution_count": 8,
   "metadata": {},
   "outputs": [
    {
     "ename": "AttributeError",
     "evalue": "module 'dropbox' has no attribute 'client'",
     "output_type": "error",
     "traceback": [
      "\u001b[0;31m---------------------------------------------------------------------------\u001b[0m",
      "\u001b[0;31mAttributeError\u001b[0m                            Traceback (most recent call last)",
      "Cell \u001b[0;32mIn[8], line 3\u001b[0m\n\u001b[1;32m      1\u001b[0m \u001b[39mimport\u001b[39;00m \u001b[39mdropbox\u001b[39;00m\n\u001b[0;32m----> 3\u001b[0m client \u001b[39m=\u001b[39m dropbox\u001b[39m.\u001b[39mclient\u001b[39m.\u001b[39mDropboxClient(access_token)\n\u001b[1;32m      4\u001b[0m \u001b[39mprint\u001b[39m(\u001b[39m'\u001b[39m\u001b[39mlinked account: \u001b[39m\u001b[39m'\u001b[39m, client\u001b[39m.\u001b[39maccount_info())\n",
      "\u001b[0;31mAttributeError\u001b[0m: module 'dropbox' has no attribute 'client'"
     ]
    }
   ],
   "source": [
    "\n",
    "import dropbox\n",
    "\n",
    "client = dropbox.client.DropboxClient(access_token)\n",
    "print('linked account: ', client.account_info())\n"
   ]
  },
  {
   "cell_type": "code",
   "execution_count": null,
   "metadata": {},
   "outputs": [],
   "source": [
    "\n",
    "f = open('working-draft.txt', 'rb')\n",
    "response = client.put_file('/magnum-opus.txt', f)\n",
    "print 'uploaded: ', response\n",
    "\n",
    "folder_metadata = client.metadata('/')\n",
    "print 'metadata: ', folder_metadata\n",
    "\n",
    "f, metadata = client.get_file_and_metadata('/magnum-opus.txt')\n",
    "out = open('magnum-opus.txt', 'wb')\n",
    "out.write(f.read())\n",
    "out.close()\n",
    "print metadata"
   ]
  }
 ],
 "metadata": {
  "kernelspec": {
   "display_name": "cr37",
   "language": "python",
   "name": "python3"
  },
  "language_info": {
   "codemirror_mode": {
    "name": "ipython",
    "version": 3
   },
   "file_extension": ".py",
   "mimetype": "text/x-python",
   "name": "python",
   "nbconvert_exporter": "python",
   "pygments_lexer": "ipython3",
   "version": "3.11.0"
  },
  "orig_nbformat": 4
 },
 "nbformat": 4,
 "nbformat_minor": 2
}
